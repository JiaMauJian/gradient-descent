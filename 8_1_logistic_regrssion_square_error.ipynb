{
 "cells": [
  {
   "cell_type": "markdown",
   "metadata": {},
   "source": [
    "# Logistic Regression練習 + Square Error\n",
    "選擇不適當的cost，gradient會卡住http://speech.ee.ntu.edu.tw/~tlkagk/courses/ML_2016/Lecture/Logistic%20Regression%20(v3).pdf#page=15"
   ]
  },
  {
   "cell_type": "code",
   "execution_count": 81,
   "metadata": {
    "collapsed": false
   },
   "outputs": [
    {
     "name": "stdout",
     "output_type": "stream",
     "text": [
      "Populating the interactive namespace from numpy and matplotlib\n"
     ]
    }
   ],
   "source": [
    "%pylab inline\n",
    "import theano\n",
    "import theano.tensor as T\n",
    "import itertools as it"
   ]
  },
  {
   "cell_type": "code",
   "execution_count": 82,
   "metadata": {
    "collapsed": true
   },
   "outputs": [],
   "source": [
    "def floatX(X):\n",
    "    return np.asarray(X, dtype=theano.config.floatX)"
   ]
  },
  {
   "cell_type": "markdown",
   "metadata": {},
   "source": [
    "## make batches"
   ]
  },
  {
   "cell_type": "code",
   "execution_count": 83,
   "metadata": {
    "collapsed": true
   },
   "outputs": [],
   "source": [
    "### make batches\n",
    "def mk_batches(x_data, y_data, batch_size, shuffle=False):\n",
    "    x_batch = list()\n",
    "    y_batch = list()\n",
    "    \n",
    "    x_data_size = x_data.shape[0]\n",
    "    y_data_size = y_data.shape[0]\n",
    "    assert x_data_size == y_data_size , 'the x, y dimension is error'\n",
    "    \n",
    "    if shuffle:\n",
    "        indices = np.arange(x_data_size)\n",
    "        np.random.shuffle(indices)\n",
    "    \n",
    "    #range(start, stop, step)\n",
    "    for start_idx in range(0, x_data_size, batch_size):\n",
    "        if shuffle:\n",
    "            idx = indices[start_idx : start_idx + batch_size]            \n",
    "        else:\n",
    "            idx = slice(start_idx, start_idx + batch_size)\n",
    "            \n",
    "        x_batch.append(x_data[idx])\n",
    "        y_batch.append(y_data[idx])\n",
    "    \n",
    "    return x_batch, y_batch"
   ]
  },
  {
   "cell_type": "markdown",
   "metadata": {},
   "source": [
    "## 參數調整"
   ]
  },
  {
   "cell_type": "code",
   "execution_count": 84,
   "metadata": {
    "collapsed": true
   },
   "outputs": [],
   "source": [
    "BATCH_SIZE = 10\n",
    "LEARNING_RATE = 0.001\n",
    "EPOCHS = 1000"
   ]
  },
  {
   "cell_type": "markdown",
   "metadata": {},
   "source": [
    "## Load Data"
   ]
  },
  {
   "cell_type": "code",
   "execution_count": 85,
   "metadata": {
    "collapsed": true
   },
   "outputs": [],
   "source": [
    "batch_size = BATCH_SIZE\n",
    "x_data = floatX(np.loadtxt('.\\ex4x.dat'))\n",
    "y_data = floatX(np.loadtxt('.\\ex4y.dat'))"
   ]
  },
  {
   "cell_type": "markdown",
   "metadata": {},
   "source": [
    "## 初始化權重"
   ]
  },
  {
   "cell_type": "code",
   "execution_count": 86,
   "metadata": {
    "collapsed": true
   },
   "outputs": [],
   "source": [
    "### params / init weights\n",
    "w = theano.shared(floatX(np.random.randn(2))) #有兩個x就要搭配兩個w\n",
    "b = theano.shared(floatX(np.random.randn(1))[0])"
   ]
  },
  {
   "cell_type": "markdown",
   "metadata": {},
   "source": [
    "# Model"
   ]
  },
  {
   "cell_type": "code",
   "execution_count": 87,
   "metadata": {
    "collapsed": true
   },
   "outputs": [],
   "source": [
    "x = T.matrix()\n",
    "z = T.dot(w, x.T) + b\n",
    "y = 1 / (1 + T.exp(-1 * z))\n",
    "f = theano.function([x], y)"
   ]
  },
  {
   "cell_type": "markdown",
   "metadata": {},
   "source": [
    "# Cost (<span style='color:red'>Square Error</span>)"
   ]
  },
  {
   "cell_type": "code",
   "execution_count": 88,
   "metadata": {
    "collapsed": true
   },
   "outputs": [],
   "source": [
    "y_hat = T.vector()\n",
    "cost = T.mean((y-y_hat)**2)"
   ]
  },
  {
   "cell_type": "markdown",
   "metadata": {},
   "source": [
    "## gradient"
   ]
  },
  {
   "cell_type": "code",
   "execution_count": 89,
   "metadata": {
    "collapsed": true
   },
   "outputs": [],
   "source": [
    "### gradients\n",
    "def gd(params, grads, lr):\n",
    "    updates = []\n",
    "    for p, g in it.izip(params, grads):      \n",
    "        updates.append([p, p - lr*g])\n",
    "    return updates\n",
    "    \n",
    "dw, db = T.grad(cost, [w, b])\n",
    "train = theano.function(inputs=[x, y_hat],\n",
    "                        outputs=[cost, w, b],\n",
    "                        updates=gd([w, b], [dw, db], LEARNING_RATE))"
   ]
  },
  {
   "cell_type": "markdown",
   "metadata": {},
   "source": [
    "## training"
   ]
  },
  {
   "cell_type": "code",
   "execution_count": 90,
   "metadata": {
    "collapsed": false
   },
   "outputs": [
    {
     "name": "stdout",
     "output_type": "stream",
     "text": [
      "avg cost=0.500000\n",
      "w1=0.237423, w2=0.306913, b=-2.436066\n"
     ]
    }
   ],
   "source": [
    "# training\n",
    "def training(epochs, x_data, y_data):\n",
    "    costs = []\n",
    "    for t in range(epochs): \n",
    "        all_cost = 0       \n",
    "        x_batches, y_batches = mk_batches(x_data, y_data, BATCH_SIZE, True)        \n",
    "        batch_num = len(x_batches)\n",
    "        for i in range(batch_num):        \n",
    "            results = train(x_batches[i], y_batches[i])            \n",
    "            all_cost += results[0]\n",
    "        \n",
    "        costs.append(all_cost/batch_num)\n",
    "    \n",
    "    print 'avg cost=%f' % (costs[-1])        \n",
    "    print 'w1=%f, w2=%f, b=%f' % (results[1][0], results[1][1], results[2])\n",
    "\n",
    "    return costs, results\n",
    "\n",
    "costs, results = training(EPOCHS, x_data, y_data)"
   ]
  },
  {
   "cell_type": "markdown",
   "metadata": {},
   "source": [
    "## cost chart (一直線)"
   ]
  },
  {
   "cell_type": "code",
   "execution_count": 91,
   "metadata": {
    "collapsed": false
   },
   "outputs": [
    {
     "data": {
      "image/png": "[encoded data removed]",
      "text/plain": [
       "<matplotlib.figure.Figure at 0xaa7dc88>"
      ]
     },
     "metadata": {},
     "output_type": "display_data"
    }
   ],
   "source": [
    "# cost chart\n",
    "def plot_cost(costs):\n",
    "    plt.plot(costs)\n",
    "    plt.ylim([0, 3.0])\n",
    "    plt.xlabel(\"No. of parameters updates by batch\")\n",
    "    plt.ylabel(\"Loss by batch of avg cost\")\n",
    "    plt.show()\n",
    "    \n",
    "plot_cost(costs)"
   ]
  },
  {
   "cell_type": "code",
   "execution_count": null,
   "metadata": {
    "collapsed": true
   },
   "outputs": [],
   "source": []
  }
 ],
 "metadata": {
  "anaconda-cloud": {},
  "kernelspec": {
   "display_name": "Python [conda root]",
   "language": "python",
   "name": "conda-root-py"
  },
  "language_info": {
   "codemirror_mode": {
    "name": "ipython",
    "version": 2
   },
   "file_extension": ".py",
   "mimetype": "text/x-python",
   "name": "python",
   "nbconvert_exporter": "python",
   "pygments_lexer": "ipython2",
   "version": "2.7.12"
  }
 },
 "nbformat": 4,
 "nbformat_minor": 1
}

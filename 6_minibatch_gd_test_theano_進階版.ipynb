{
 "cells": [
  {
   "cell_type": "markdown",
   "metadata": {},
   "source": [
    "# 實作mini batch gradient desenct\n",
    "\n",
    "### 釐清到底要用怎麼樣的cost"
   ]
  },
  {
   "cell_type": "markdown",
   "metadata": {},
   "source": [
    "切batch"
   ]
  },
  {
   "cell_type": "code",
   "execution_count": 25,
   "metadata": {
    "collapsed": false
   },
   "outputs": [
    {
     "name": "stdout",
     "output_type": "stream",
     "text": [
      "Populating the interactive namespace from numpy and matplotlib\n"
     ]
    }
   ],
   "source": [
    "%pylab inline\n",
    "import theano\n",
    "import theano.tensor as T\n",
    "#import numpy as np\n",
    "#import matplotlib.pyplot as plt\n",
    "import itertools as it\n",
    "\n",
    "def floatX(X):\n",
    "    return np.asarray(X, dtype=theano.config.floatX)\n",
    "\n",
    "### make batches\n",
    "def mk_batches(x_data, y_data, batch_size, shuffle=False):\n",
    "    x_batch = list()\n",
    "    y_batch = list()\n",
    "    \n",
    "    x_data_size = x_data.shape[0]\n",
    "    y_data_size = y_data.shape[0]\n",
    "    assert x_data_size == y_data_size , 'the x, y dimension is error'\n",
    "    \n",
    "    if shuffle:\n",
    "        indices = np.arange(x_data_size)\n",
    "        np.random.shuffle(indices)\n",
    "    \n",
    "    #range(start, stop, step)\n",
    "    for start_idx in range(0, x_data_size, batch_size):\n",
    "        if shuffle:\n",
    "            idx = indices[start_idx : start_idx + batch_size]            \n",
    "        else:\n",
    "            idx = slice(start_idx, start_idx + batch_size)\n",
    "            \n",
    "        x_batch.append(x_data[idx])\n",
    "        y_batch.append(y_data[idx])\n",
    "    \n",
    "    return x_batch, y_batch"
   ]
  },
  {
   "cell_type": "markdown",
   "metadata": {},
   "source": [
    "1. 設定batch size (一個batch要有幾筆資料)\n",
    "2. create x, y data"
   ]
  },
  {
   "cell_type": "code",
   "execution_count": 26,
   "metadata": {
    "collapsed": true
   },
   "outputs": [],
   "source": [
    "### data\n",
    "batch_size = 10\n",
    "x_data = floatX(np.array(np.linspace(-5.0, 5.0, 100)))\n",
    "y_data = floatX(np.array(x_data))"
   ]
  },
  {
   "cell_type": "markdown",
   "metadata": {},
   "source": [
    "初始化weight，取[0]是為了要一個value而不是array，注意型態"
   ]
  },
  {
   "cell_type": "code",
   "execution_count": 27,
   "metadata": {
    "collapsed": true
   },
   "outputs": [],
   "source": [
    "### params / init weights\n",
    "w = theano.shared(floatX(np.random.randn(1))[0])"
   ]
  },
  {
   "cell_type": "markdown",
   "metadata": {},
   "source": [
    "定義model"
   ]
  },
  {
   "cell_type": "code",
   "execution_count": 28,
   "metadata": {
    "collapsed": true
   },
   "outputs": [],
   "source": [
    "### model\n",
    "x = T.vector()\n",
    "y = w*x"
   ]
  },
  {
   "cell_type": "markdown",
   "metadata": {},
   "source": [
    "## <span style='color:red'>定義cost/error/loss</span>\n",
    "\n",
    "* 若使用<span style='color:blue'>cost = T.sum((y-y_hat)**2)</span>會遇到的問題是，<span style='color:red'>當batch size有更動時，如10,20,30...，則須配合不同的learning rate，才能接近相同的結果</span>，想一想...，因為假設跑一次的時候用batch size=30算出來的cost和用size=10的cost是有差異的，當然又要用learning rate來調整，update結果才會接近一樣\n",
    "\n",
    "\n",
    "* 若使用<span style='color:blue'>cost = T.sum((y-y_hat)**2) / batch_size</span>，因為是取平均的概念，對於batch size的調整就不需要再去調learning rate，固定調整一個變數(batch size)就好\n",
    "\n",
    "\n",
    "* <span style='color:blue'>cost = T.mean((y-y_hat)**2)</span>，這和上面的cost是一樣，這樣寫比較簡潔易懂(我)\n",
    "\n",
    "\n",
    "* cost/error/loss 回顧，自我解釋\n",
    "  * gd -> T.sum((y-y_hat)**2) -> 因為是拿全部的資料去做gradient，用sum的概念可能比較直覺吧，全部的誤差(距離)加起來的cost是多少，<span style='color:red'>假如用mean會不會因為training的資料過大，是否被smoothing掉而失真?我想會吧</span>\n",
    "  * sgd -> (y-y_hat)**2 -> 因為是拿每一筆去做gradient，用squared error比較直覺\n",
    "  * batch gd -> T.mean((y-y_hat)**2) -> 用平均算比較適合和省事(如上面講的)，適當的batch size也不會太大，而造成取mean後smoothing掉cost結果\n",
    "\n",
    "\n",
    "* <span style='color:red'>取cost應該了解</span>\n",
    "  * 訓練model的方式，而不是一昧的照抄別人的程式\n",
    "  * 你想怎麼測試評估你真實世界的cost/error/loss"
   ]
  },
  {
   "cell_type": "code",
   "execution_count": 29,
   "metadata": {
    "collapsed": true
   },
   "outputs": [],
   "source": [
    "### cost/error/loss\n",
    "y_hat = T.vector()\n",
    "#cost = T.sum((y-y_hat)**2)\n",
    "#cost = T.sum((y-y_hat)**2) / batch_size\n",
    "cost = T.mean((y-y_hat)**2)"
   ]
  },
  {
   "cell_type": "markdown",
   "metadata": {},
   "source": [
    "定義 gradient"
   ]
  },
  {
   "cell_type": "code",
   "execution_count": 30,
   "metadata": {
    "collapsed": true
   },
   "outputs": [],
   "source": [
    "### gradients\n",
    "def gd(params, grads, lr):\n",
    "    updates = []\n",
    "    for p, g in it.izip(params, grads):      \n",
    "        updates.append([p, p - lr*g])\n",
    "    return updates\n",
    "    \n",
    "dw = T.grad(cost, w)\n",
    "train = theano.function(inputs=[x, y_hat],\n",
    "                        outputs=[cost,w],\n",
    "                        updates=gd([w], [dw], 0.01))"
   ]
  },
  {
   "cell_type": "markdown",
   "metadata": {},
   "source": [
    "training"
   ]
  },
  {
   "cell_type": "code",
   "execution_count": 31,
   "metadata": {
    "collapsed": false
   },
   "outputs": [
    {
     "name": "stdout",
     "output_type": "stream",
     "text": [
      "batch avg cost=0.04172%, weight=1.021722\n",
      "batch avg cost=0.00099%, weight=1.003426\n",
      "batch avg cost=0.00002%, weight=1.000594\n",
      "batch avg cost=0.00000%, weight=1.000079\n",
      "batch avg cost=0.00000%, weight=1.000012\n",
      "batch avg cost=0.00000%, weight=1.000002\n",
      "batch avg cost=0.00000%, weight=1.000000\n",
      "batch avg cost=0.00000%, weight=1.000000\n",
      "batch avg cost=0.00000%, weight=1.000000\n",
      "batch avg cost=0.00000%, weight=1.000000\n"
     ]
    }
   ],
   "source": [
    "# training\n",
    "costs = []\n",
    "epochs = 10\n",
    "\n",
    "for t in range(epochs): \n",
    "        all_cost = 0       \n",
    "        x_batches, y_batches = mk_batches(x_data, y_data, batch_size, True)        \n",
    "        batch_num = len(x_batches)\n",
    "        for i in range(batch_num):        \n",
    "            results = train(x_batches[i], y_batches[i])\n",
    "            #print 'cost=%f, weight=%f' % (results[0], results[1])        \n",
    "            costs.append(results[0])\n",
    "            all_cost += results[0]\n",
    "        \n",
    "        print 'batch avg cost=%.5f%%, weight=%f' % (all_cost/batch_num, results[1])      "
   ]
  },
  {
   "cell_type": "markdown",
   "metadata": {},
   "source": [
    "testing"
   ]
  },
  {
   "cell_type": "code",
   "execution_count": 32,
   "metadata": {
    "collapsed": false
   },
   "outputs": [
    {
     "name": "stdout",
     "output_type": "stream",
     "text": [
      "[-5.         -4.8989899  -4.7979798  -4.6969697  -4.5959596  -4.4949495\n",
      " -4.3939394  -4.2929293  -4.1919192  -4.09090909 -3.98989899 -3.88888889\n",
      " -3.78787879 -3.68686869 -3.58585859 -3.48484849 -3.38383839 -3.28282829\n",
      " -3.18181818 -3.08080808 -2.97979798 -2.87878788 -2.77777778 -2.67676768\n",
      " -2.57575758 -2.47474748 -2.37373738 -2.27272727 -2.17171717 -2.07070707\n",
      " -1.96969697 -1.86868687 -1.76767677 -1.66666667 -1.56565657 -1.46464647\n",
      " -1.36363636 -1.26262626 -1.16161616 -1.06060606 -0.95959596 -0.85858586\n",
      " -0.75757576 -0.65656566 -0.55555556 -0.45454545 -0.35353535 -0.25252525\n",
      " -0.15151515 -0.05050505  0.05050505  0.15151515  0.25252525  0.35353535\n",
      "  0.45454545  0.55555556  0.65656566  0.75757576  0.85858586  0.95959596\n",
      "  1.06060606  1.16161616  1.26262626  1.36363636  1.46464647  1.56565657\n",
      "  1.66666667  1.76767677  1.86868687  1.96969697  2.07070707  2.17171717\n",
      "  2.27272727  2.37373738  2.47474748  2.57575758  2.67676768  2.77777778\n",
      "  2.87878788  2.97979798  3.08080808  3.18181818  3.28282829  3.38383839\n",
      "  3.48484849  3.58585859  3.68686869  3.78787879  3.88888889  3.98989899\n",
      "  4.09090909  4.1919192   4.2929293   4.3939394   4.4949495   4.5959596\n",
      "  4.6969697   4.7979798   4.8989899   5.        ]\n"
     ]
    }
   ],
   "source": [
    "test = theano.function([x], y)    \n",
    "y_pre = test(x_data)\n",
    "print y_pre"
   ]
  },
  {
   "cell_type": "markdown",
   "metadata": {},
   "source": [
    "cost"
   ]
  },
  {
   "cell_type": "code",
   "execution_count": 33,
   "metadata": {
    "collapsed": false
   },
   "outputs": [
    {
     "name": "stdout",
     "output_type": "stream",
     "text": [
      "testing cost=0.00000%\n"
     ]
    }
   ],
   "source": [
    "# cost/error/loss\n",
    "f_cost = theano.function([y, y_hat], cost)\n",
    "print \"testing cost=%.5f%%\" % (f_cost(y_pre, y_data))"
   ]
  },
  {
   "cell_type": "markdown",
   "metadata": {},
   "source": [
    "plot cost"
   ]
  },
  {
   "cell_type": "code",
   "execution_count": 34,
   "metadata": {
    "collapsed": false
   },
   "outputs": [
    {
     "data": {
      "image/png": "[encoded data removed]",
      "text/plain": [
       "<matplotlib.figure.Figure at 0xb0fbe10>"
      ]
     },
     "metadata": {},
     "output_type": "display_data"
    }
   ],
   "source": [
    "plt.plot(costs)\n",
    "plt.xlabel(\"No. of parameters updates by batch\")\n",
    "plt.ylabel(\"Loss/Cost/Error\")\n",
    "plt.show()"
   ]
  }
 ],
 "metadata": {
  "kernelspec": {
   "display_name": "Python [conda root]",
   "language": "python",
   "name": "conda-root-py"
  },
  "language_info": {
   "codemirror_mode": {
    "name": "ipython",
    "version": 2
   },
   "file_extension": ".py",
   "mimetype": "text/x-python",
   "name": "python",
   "nbconvert_exporter": "python",
   "pygments_lexer": "ipython2",
   "version": "2.7.12"
  }
 },
 "nbformat": 4,
 "nbformat_minor": 1
}

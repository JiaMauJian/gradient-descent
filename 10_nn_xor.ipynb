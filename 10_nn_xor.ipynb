{
 "cells": [
  {
   "cell_type": "markdown",
   "metadata": {},
   "source": [
    "# XOR 練習\n",
    "http://speech.ee.ntu.edu.tw/~tlkagk/courses/MLDS_2015_2/Lecture/Theano%20DNN.pdf#page=32"
   ]
  },
  {
   "cell_type": "code",
   "execution_count": 48,
   "metadata": {
    "collapsed": false
   },
   "outputs": [
    {
     "name": "stdout",
     "output_type": "stream",
     "text": [
      "Populating the interactive namespace from numpy and matplotlib\n"
     ]
    }
   ],
   "source": [
    "%pylab inline\n",
    "import theano\n",
    "import theano.tensor as T\n",
    "import itertools as it"
   ]
  },
  {
   "cell_type": "code",
   "execution_count": 49,
   "metadata": {
    "collapsed": true
   },
   "outputs": [],
   "source": [
    "def floatX(X):\n",
    "    return np.asarray(X, dtype=theano.config.floatX)"
   ]
  },
  {
   "cell_type": "code",
   "execution_count": 50,
   "metadata": {
    "collapsed": true
   },
   "outputs": [],
   "source": [
    "# x1, x2    \n",
    "x = T.vector()"
   ]
  },
  {
   "cell_type": "code",
   "execution_count": 51,
   "metadata": {
    "collapsed": true
   },
   "outputs": [],
   "source": [
    "# init weights\n",
    "w1 = theano.shared(floatX(np.random.randn(2)))\n",
    "b1 = theano.shared(floatX(np.random.randn(1)))\n",
    "w2 = theano.shared(floatX(np.random.randn(2)))\n",
    "b2 = theano.shared(floatX(np.random.randn(1)))\n",
    "w = theano.shared(floatX(np.random.randn(2)))\n",
    "b = theano.shared(floatX(np.random.randn(1)))"
   ]
  },
  {
   "cell_type": "code",
   "execution_count": 52,
   "metadata": {
    "collapsed": true
   },
   "outputs": [],
   "source": [
    "# hidden layer\n",
    "z1 = T.dot(w1, x) + b1\n",
    "a1 = 1 / (1 + T.exp(-1 * z1))\n",
    "z2 = T.dot(w2, x) + b2\n",
    "a2 = 1 / (1 + T.exp(-1 * z2))"
   ]
  },
  {
   "cell_type": "code",
   "execution_count": 53,
   "metadata": {
    "collapsed": true
   },
   "outputs": [],
   "source": [
    "# output layer\n",
    "z = T.dot(w, [a1, a2]) + b\n",
    "y = 1 / (1 + T.exp(-1 * z))"
   ]
  },
  {
   "cell_type": "code",
   "execution_count": 54,
   "metadata": {
    "collapsed": true
   },
   "outputs": [],
   "source": [
    "# cost (cross entropy)\n",
    "y_hat = T.scalar()\n",
    "cost = - (y_hat * T.log(y) + (1 - y_hat) * T.log(1 - y)).sum()"
   ]
  },
  {
   "cell_type": "code",
   "execution_count": 55,
   "metadata": {
    "collapsed": true
   },
   "outputs": [],
   "source": [
    "# grad\n",
    "def gd(params, grads, lr):\n",
    "    updates = []\n",
    "    for p, g in it.izip(params, grads):      \n",
    "        updates.append([p, p - lr*g])\n",
    "    return updates\n",
    "    \n",
    "dw, db, dw1, db1, dw2, db2 = T.grad(cost, [w, b, w1, b1, w2, b2])"
   ]
  },
  {
   "cell_type": "code",
   "execution_count": 56,
   "metadata": {
    "collapsed": true
   },
   "outputs": [],
   "source": [
    "train = theano.function(inputs=[x, y_hat],\n",
    "                        outputs=[y, cost, w, b, w1, b1, w2, b2],\n",
    "                        updates=gd([w, b, w1, b1, w2, b2], [dw, db, dw1, db1, dw2, db2], 0.01))"
   ]
  },
  {
   "cell_type": "code",
   "execution_count": 57,
   "metadata": {
    "collapsed": true
   },
   "outputs": [],
   "source": [
    "for i in range(100000):\n",
    "    y1, c1, _w, _b, _w1, _b1, _w2, _b2 = train([0, 0], 0)\n",
    "    y2, c2, _w, _b, _w1, _b1, _w2, _b2 = train([0, 1], 1)\n",
    "    y3, c3, _w, _b, _w1, _b1, _w2, _b2 = train([1, 0], 1)\n",
    "    y4, c4, _w, _b, _w1, _b1, _w2, _b2 = train([1, 1], 0)"
   ]
  },
  {
   "cell_type": "code",
   "execution_count": 58,
   "metadata": {
    "collapsed": false
   },
   "outputs": [
    {
     "name": "stdout",
     "output_type": "stream",
     "text": [
      "cost=0.010359\n",
      "[ 0.00219914] [ 0.99767688] [ 0.99767438] [ 0.00349725]\n"
     ]
    }
   ],
   "source": [
    "print 'cost=%f' % (c1+c2+c3+c4)\n",
    "print y1,y2,y3,y4"
   ]
  },
  {
   "cell_type": "markdown",
   "metadata": {},
   "source": [
    "# <span style='color:red'>hidden layer像是做了feature transform</span>\n",
    "http://speech.ee.ntu.edu.tw/~tlkagk/courses/MLDS_2015_2/Lecture/DNN%20(v4).pdf#page=23\n",
    "\n",
    "XOR\n",
    "- 0 0 | 0\n",
    "- 0 1 | 1\n",
    "- 1 0 | 1\n",
    "- 1 1 | 0\n",
    "\n",
    "a1 = 隱藏層第一個神經元\n",
    "a2 = 隱藏層第二個神經元\n",
    "\n",
    "a1_00 = 輸入[0 0]結果"
   ]
  },
  {
   "cell_type": "code",
   "execution_count": 59,
   "metadata": {
    "collapsed": false
   },
   "outputs": [
    {
     "name": "stdout",
     "output_type": "stream",
     "text": [
      "[ 0.95600492] [ 0.01579165] [ 0.01596399] [  1.19787033e-05]\n",
      "[ 0.99986757] [ 0.95017689] [ 0.95026927] [ 0.04604287]\n"
     ]
    },
    {
     "data": {
      "image/png": "[encoded data removed]",
      "text/plain": [
       "<matplotlib.figure.Figure at 0xdbd4f98>"
      ]
     },
     "metadata": {},
     "output_type": "display_data"
    }
   ],
   "source": [
    "a1_00 =  1 / (1 + np.exp(-1 * (np.dot(_w1, [0,0]) + _b1)))\n",
    "a1_01 =  1 / (1 + np.exp(-1 * (np.dot(_w1, [0,1]) + _b1)))\n",
    "a1_10 =  1 / (1 + np.exp(-1 * (np.dot(_w1, [1,0]) + _b1)))\n",
    "a1_11 =  1 / (1 + np.exp(-1 * (np.dot(_w1, [1,1]) + _b1)))\n",
    "print a1_00, a1_01, a1_10, a1_11\n",
    "\n",
    "a2_00 =  1 / (1 + np.exp(-1 * (np.dot(_w2, [0,0]) + _b2)))\n",
    "a2_01 =  1 / (1 + np.exp(-1 * (np.dot(_w2, [0,1]) + _b2)))\n",
    "a2_10 =  1 / (1 + np.exp(-1 * (np.dot(_w2, [1,0]) + _b2)))\n",
    "a2_11 =  1 / (1 + np.exp(-1 * (np.dot(_w2, [1,1]) + _b2)))\n",
    "print a2_00, a2_01, a2_10, a2_11\n",
    "\n",
    "plt.plot([a1_00, a2_00], [a1_11, a2_11], 'ro', [a1_01, a2_01], [a1_10, a2_10], 'bo')\n",
    "plt.xlabel('a1')\n",
    "plt.ylabel('a2')\n",
    "plt.axis([-0.2, 1.2, -0.2, 1.22])\n",
    "plt.show()"
   ]
  },
  {
   "cell_type": "markdown",
   "metadata": {},
   "source": [
    "# 上面的圖有兩種"
   ]
  },
  {
   "cell_type": "markdown",
   "metadata": {},
   "source": [
    "![alt tag](https://github.com/JiaMauJian/gradient-descent/blob/master/nb_img/xor.png?raw=true)\n",
    "* a_00 : 0 0 | 0\n",
    "* a_01 : 0 0 | 1\n",
    "* a_10 : 0 0 | 1\n",
    "* a_11 : 0 0 | 0"
   ]
  },
  {
   "cell_type": "code",
   "execution_count": 60,
   "metadata": {
    "collapsed": false
   },
   "outputs": [
    {
     "name": "stdout",
     "output_type": "stream",
     "text": [
      "a_00=0.002199\n",
      "a_01=0.997677\n",
      "a_10=0.997675\n",
      "a_11=0.003497\n"
     ]
    }
   ],
   "source": [
    "a_00 = np.array([float(a1_00), float(a2_00)])\n",
    "a = 1 / ( 1 + np.exp( -1 * (np.dot(_w, a_00) + _b) ) )\n",
    "print 'a_00=%f' % (a)\n",
    "\n",
    "a_01 = np.array([float(a1_01), float(a2_01)])\n",
    "a = 1 / ( 1 + np.exp( -1 * (np.dot(_w, a_01) + _b) ) )\n",
    "print 'a_01=%f' % (a)\n",
    "\n",
    "a_10 = np.array([float(a1_10), float(a2_10)])\n",
    "a = 1 / ( 1 + np.exp( -1 * (np.dot(_w, a_10) + _b) ) )\n",
    "print 'a_10=%f' % (a)\n",
    "\n",
    "a_11 = np.array([float(a1_11), float(a2_11)])\n",
    "a = 1 / ( 1 + np.exp( -1 * (np.dot(_w, a_11) + _b) ) )\n",
    "print 'a_11=%f' % (a)"
   ]
  }
 ],
 "metadata": {
  "kernelspec": {
   "display_name": "Python [conda root]",
   "language": "python",
   "name": "conda-root-py"
  },
  "language_info": {
   "codemirror_mode": {
    "name": "ipython",
    "version": 2
   },
   "file_extension": ".py",
   "mimetype": "text/x-python",
   "name": "python",
   "nbconvert_exporter": "python",
   "pygments_lexer": "ipython2",
   "version": "2.7.12"
  }
 },
 "nbformat": 4,
 "nbformat_minor": 1
}

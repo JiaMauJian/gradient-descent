{
 "cells": [
  {
   "cell_type": "markdown",
   "metadata": {},
   "source": [
    "# 實作Adagrad\n",
    "\n",
    "http://speech.ee.ntu.edu.tw/~tlkagk/courses/ML_2016/Lecture/Gradient%20Descent%20(v2).pdf#page=6"
   ]
  },
  {
   "cell_type": "code",
   "execution_count": 20,
   "metadata": {
    "collapsed": false
   },
   "outputs": [
    {
     "name": "stdout",
     "output_type": "stream",
     "text": [
      "Populating the interactive namespace from numpy and matplotlib\n"
     ]
    }
   ],
   "source": [
    "%pylab inline\n",
    "import theano\n",
    "import theano.tensor as T\n",
    "import itertools as it\n",
    "import time"
   ]
  },
  {
   "cell_type": "markdown",
   "metadata": {},
   "source": [
    "## 把numpy array type 定義成 theano.config.floatX\n",
    "### <span style='color:red'>在theano的世界裡，請記得都要轉成floatX</span>"
   ]
  },
  {
   "cell_type": "code",
   "execution_count": 21,
   "metadata": {
    "collapsed": true
   },
   "outputs": [],
   "source": [
    "def floatX(X):\n",
    "    return np.asarray(X, dtype=theano.config.floatX)"
   ]
  },
  {
   "cell_type": "code",
   "execution_count": 22,
   "metadata": {
    "collapsed": true
   },
   "outputs": [],
   "source": [
    "### make batches\n",
    "def mk_batches(x_data, y_data, batch_size, shuffle=False):\n",
    "    x_batch = list()\n",
    "    y_batch = list()\n",
    "    \n",
    "    x_data_size = x_data.shape[0]\n",
    "    y_data_size = y_data.shape[0]\n",
    "    assert x_data_size == y_data_size , 'the x, y dimension is error'\n",
    "    \n",
    "    if shuffle:\n",
    "        indices = np.arange(x_data_size)\n",
    "        np.random.shuffle(indices)\n",
    "    \n",
    "    #range(start, stop, step)\n",
    "    for start_idx in range(0, x_data_size, batch_size):\n",
    "        if shuffle:\n",
    "            idx = indices[start_idx : start_idx + batch_size]            \n",
    "        else:\n",
    "            idx = slice(start_idx, start_idx + batch_size)\n",
    "            \n",
    "        x_batch.append(x_data[idx])\n",
    "        y_batch.append(y_data[idx])\n",
    "    \n",
    "    return x_batch, y_batch"
   ]
  },
  {
   "cell_type": "code",
   "execution_count": 23,
   "metadata": {
    "collapsed": false
   },
   "outputs": [],
   "source": [
    "### data\n",
    "batch_size = 10\n",
    "x_data = floatX(np.loadtxt('.\\ex2x.dat'))\n",
    "y_data = floatX(np.loadtxt('.\\ex2y.dat'))"
   ]
  },
  {
   "cell_type": "code",
   "execution_count": 24,
   "metadata": {
    "collapsed": true
   },
   "outputs": [],
   "source": [
    "### params / init weights\n",
    "w = theano.shared(floatX(-1.))\n",
    "b = theano.shared(floatX(-1.))"
   ]
  },
  {
   "cell_type": "code",
   "execution_count": 25,
   "metadata": {
    "collapsed": true
   },
   "outputs": [],
   "source": [
    "### model\n",
    "x = T.vector()\n",
    "y = w*x + b"
   ]
  },
  {
   "cell_type": "code",
   "execution_count": 26,
   "metadata": {
    "collapsed": true
   },
   "outputs": [],
   "source": [
    "### cost/error/loss\n",
    "y_hat = T.vector()\n",
    "cost = T.mean((y-y_hat)**2)"
   ]
  },
  {
   "cell_type": "markdown",
   "metadata": {},
   "source": [
    "## sgd"
   ]
  },
  {
   "cell_type": "code",
   "execution_count": 27,
   "metadata": {
    "collapsed": true
   },
   "outputs": [],
   "source": [
    "def gd(params, grads, lr):\n",
    "    updates = []\n",
    "        \n",
    "    for p, g in it.izip(params, grads):\n",
    "        updates.append([p, p - lr*g])\n",
    "\n",
    "    return updates"
   ]
  },
  {
   "cell_type": "markdown",
   "metadata": {},
   "source": [
    "## adagrad\n",
    "* 這裡為什麼不用for loop寫update function?\n",
    "* 因為我不知道grads的微分結果要怎麼取出來，所以只好先在外面算一算存在list中 (second_dw)，等於又多算了一次微分 (所以後面training速度慢???)\n",
    "* 記得second_dw也是theano variable"
   ]
  },
  {
   "cell_type": "code",
   "execution_count": 28,
   "metadata": {
    "collapsed": true
   },
   "outputs": [],
   "source": [
    "def Adagd(params, grads):\n",
    "    updates = []\n",
    "    lr = floatX(1.0)\n",
    "    \n",
    "    updates.append([params[0], params[0] - (lr/second_dw)*grads[0]])\n",
    "    \n",
    "    updates.append([params[1], params[1] - (lr/second_db)*grads[1]])\n",
    "    \n",
    "    return updates"
   ]
  },
  {
   "cell_type": "markdown",
   "metadata": {},
   "source": [
    "## 取gradient"
   ]
  },
  {
   "cell_type": "code",
   "execution_count": 29,
   "metadata": {
    "collapsed": true
   },
   "outputs": [],
   "source": [
    "dw, db = T.grad(cost, [w, b])"
   ]
  },
  {
   "cell_type": "markdown",
   "metadata": {},
   "source": [
    "## 把每一次的微分值都存起來，然後計算類二次微分\n",
    "![alt tag](https://github.com/JiaMauJian/gradient-descent/blob/master/nb_img/adagrad.png?raw=true)"
   ]
  },
  {
   "cell_type": "code",
   "execution_count": 30,
   "metadata": {
    "collapsed": true
   },
   "outputs": [],
   "source": [
    "his_grad_dw = []\n",
    "his_grad_db = []\n",
    "second_dw = theano.shared(floatX(0.))\n",
    "second_db = theano.shared(floatX(0.))\n",
    "def calc_second_derivative(x, y):\n",
    "    g_dw = f_grad_dw(x, y)          \n",
    "    g_db = f_grad_db(x, y) \n",
    "    his_grad_dw.append(g_dw)\n",
    "    his_grad_db.append(g_db)\n",
    "    second_dw.set_value(floatX(np.sqrt(np.sum(np.square(his_grad_dw)))))\n",
    "    second_db.set_value(floatX(np.sqrt(np.sum(np.square(his_grad_db)))))"
   ]
  },
  {
   "cell_type": "markdown",
   "metadata": {},
   "source": [
    "## 整理theano function"
   ]
  },
  {
   "cell_type": "code",
   "execution_count": 31,
   "metadata": {
    "collapsed": true
   },
   "outputs": [],
   "source": [
    "### theano function\n",
    "f_model = theano.function([x], y)\n",
    "\n",
    "f_cost = theano.function([x, y_hat], cost)\n",
    "\n",
    "f_grad_dw = theano.function([x, y_hat], dw)\n",
    "\n",
    "f_grad_db = theano.function([x, y_hat], db)\n",
    "\n",
    "f_train = theano.function(inputs=[x, y_hat],\n",
    "                          outputs=[cost, w, b],\n",
    "                          updates=gd([w, b], [dw, db], 0.01))\n",
    "\n",
    "f_train_adagd = theano.function(inputs=[x, y_hat],\n",
    "                                outputs=[cost, w, b],\n",
    "                                updates=Adagd([w, b], [dw, db]))"
   ]
  },
  {
   "cell_type": "markdown",
   "metadata": {},
   "source": [
    "## 跑"
   ]
  },
  {
   "cell_type": "code",
   "execution_count": 32,
   "metadata": {
    "collapsed": true
   },
   "outputs": [],
   "source": [
    "epochs = 5000"
   ]
  },
  {
   "cell_type": "markdown",
   "metadata": {},
   "source": [
    "## sgd training 結果"
   ]
  },
  {
   "cell_type": "code",
   "execution_count": 33,
   "metadata": {
    "collapsed": false
   },
   "outputs": [
    {
     "name": "stdout",
     "output_type": "stream",
     "text": [
      "(sgd) w=0.063315, b=0.750248\n",
      "It costs 0.523000 sec\n"
     ]
    }
   ],
   "source": [
    "his_cost_by_gd = []\n",
    "tStart = time.time()\n",
    "for t in range(epochs):\n",
    "        all_cost = 0       \n",
    "        x_batches, y_batches = mk_batches(x_data, y_data, batch_size, True)        \n",
    "        batch_num = len(x_batches)      \n",
    "            \n",
    "        for i in range(batch_num):            \n",
    "            tr_cost, tr_w, tr_b= f_train(x_batches[i], y_batches[i])            \n",
    "            all_cost += tr_cost            \n",
    "            \n",
    "        his_cost_by_gd.append(all_cost/batch_num)        \n",
    "        #print 'batch avg cost=%f' % (all_cost/batch_num)        \n",
    "tEnd = time.time()\n",
    "print '(sgd) w=%f, b=%f' % (tr_w, tr_b)\n",
    "print 'It costs %f sec' % (tEnd-tStart)"
   ]
  },
  {
   "cell_type": "markdown",
   "metadata": {},
   "source": [
    "## adagrad training 結果"
   ]
  },
  {
   "cell_type": "code",
   "execution_count": 34,
   "metadata": {
    "collapsed": false
   },
   "outputs": [
    {
     "name": "stdout",
     "output_type": "stream",
     "text": [
      "(Adagd) w=0.065506, b=0.753899\n",
      "It costs 41.898000 sec\n"
     ]
    }
   ],
   "source": [
    "# reset weights\n",
    "w.set_value(floatX(-1.))\n",
    "b.set_value(floatX(-1.))\n",
    "\n",
    "his_cost_by_adagd = []\n",
    "tStart = time.time()\n",
    "for t in range(epochs):\n",
    "        all_cost = 0       \n",
    "        x_batches, y_batches = mk_batches(x_data, y_data, batch_size, True)        \n",
    "        batch_num = len(x_batches)      \n",
    "            \n",
    "        for i in range(batch_num):\n",
    "            calc_second_derivative(x_batches[i], y_batches[i])            \n",
    "            tr_cost, tr_w, tr_b= f_train_adagd(x_batches[i], y_batches[i])            \n",
    "            all_cost += tr_cost            \n",
    "            \n",
    "        his_cost_by_adagd.append(all_cost/batch_num)        \n",
    "        #print 'batch avg cost=%f' % (all_cost/batch_num)        \n",
    "tEnd = time.time()\n",
    "print '(Adagd) w=%f, b=%f' % (tr_w, tr_b)\n",
    "print 'It costs %f sec' % (tEnd-tStart)"
   ]
  },
  {
   "cell_type": "markdown",
   "metadata": {},
   "source": [
    "## 最佳解"
   ]
  },
  {
   "cell_type": "code",
   "execution_count": 35,
   "metadata": {
    "collapsed": false
   },
   "outputs": [
    {
     "name": "stdout",
     "output_type": "stream",
     "text": [
      "(closed-fom) w=0.0639, b= 0.7502\n"
     ]
    }
   ],
   "source": [
    "print '(closed-fom) w=0.0639, b= 0.7502'"
   ]
  },
  {
   "cell_type": "markdown",
   "metadata": {},
   "source": [
    "## 畫圖比一比"
   ]
  },
  {
   "cell_type": "code",
   "execution_count": 36,
   "metadata": {
    "collapsed": false
   },
   "outputs": [
    {
     "data": {
      "image/png": "[encoded data removed]",
      "text/plain": [
       "<matplotlib.figure.Figure at 0xbda6518>"
      ]
     },
     "metadata": {},
     "output_type": "display_data"
    },
    {
     "data": {
      "image/png": "[encoded data removed]",
      "text/plain": [
       "<matplotlib.figure.Figure at 0xd37cdd8>"
      ]
     },
     "metadata": {},
     "output_type": "display_data"
    }
   ],
   "source": [
    "### cost chart\n",
    "plt.plot(his_cost_by_gd[1:500])\n",
    "plt.plot(his_cost_by_adagd[1:500])\n",
    "plt.yscale('log')\n",
    "plt.xlabel(\"No. of parameters updates by batch\")\n",
    "plt.ylabel(\"Loss by batch of avg cost (log)\")\n",
    "plt.show()\n",
    "\n",
    "plt.plot(his_cost_by_gd)\n",
    "plt.plot(his_cost_by_adagd)\n",
    "plt.yscale('log')\n",
    "plt.xlabel(\"No. of parameters updates by batch\")\n",
    "plt.ylabel(\"Loss by batch of avg cost (log)\")\n",
    "plt.show()"
   ]
  },
  {
   "cell_type": "markdown",
   "metadata": {},
   "source": [
    "## 不知道是不是adagrad寫法有問題，training也跑太久了，可能\n",
    "1. train太多次\n",
    "2. 需要額外計算類二次微分"
   ]
  },
  {
   "cell_type": "code",
   "execution_count": null,
   "metadata": {
    "collapsed": true
   },
   "outputs": [],
   "source": []
  }
 ],
 "metadata": {
  "kernelspec": {
   "display_name": "Python [conda root]",
   "language": "python",
   "name": "conda-root-py"
  },
  "language_info": {
   "codemirror_mode": {
    "name": "ipython",
    "version": 2
   },
   "file_extension": ".py",
   "mimetype": "text/x-python",
   "name": "python",
   "nbconvert_exporter": "python",
   "pygments_lexer": "ipython2",
   "version": "2.7.12"
  }
 },
 "nbformat": 4,
 "nbformat_minor": 1
}

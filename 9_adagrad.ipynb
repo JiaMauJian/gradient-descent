{
 "cells": [
  {
   "cell_type": "markdown",
   "metadata": {},
   "source": [
    "# 實作Adagrad\n",
    "\n",
    "http://speech.ee.ntu.edu.tw/~tlkagk/courses/ML_2016/Lecture/Gradient%20Descent%20(v2).pdf#page=6\n",
    "http://speech.ee.ntu.edu.tw/~tlkagk/courses/ML_2016/Lecture/DNN%20tip.pdf#page=20\n",
    "\n",
    "- Adagrad的精神\n",
    "- 每個參數都給他不同的learning rate，用learning rate去除過去所有gradient的平方合開根號\n",
    "- 過去所有gradient的平方合開根號推估二次微分結果，為什麼不直接算二次微分，因為很慢會瘋掉\n",
    "- w1在這個方向上，gradient都比較小，代表它比較平坦，就給它比較大的learning rate\n",
    "- w2在這個方向上，gradient都比較大，代表它比較陡峭，就給它比較小的learning rate\n",
    "- 但實際上呢，我們面對的問題可能比Adagrad可以處理的問題更加複雜\n",
    "- 之前在做regression或logistic的時候，loss function都是長得像是convex形狀\n",
    "- 但是當我們在做deep learning的時候，loss function可以是任何形狀\n",
    "- 譬如說它可以是一個怪異的月形形狀，如果你今天遇到這個error surface，就算在同一個方向上，你的learning rate也能夠快速地變動\n",
    "- 在剛剛那個convex上，這個方向很平坦就一直很平坦，這個方向很陡峭就一直很陡峭\n",
    "- 但是今天在更複雜的問題上，同一個方向上，在某個區域很平坦，但是忽然在某個區域又很陡峭\n",
    "- 真正要處理deep learning的問題，用Adagrad可能是不夠的\n",
    "- 你需要更dynamic的調整learning rate的方法\n",
    "- 這邊有一個Adagrad的進階版，叫做RMSProp (之後整理)\n"
   ]
  },
  {
   "cell_type": "code",
   "execution_count": 44,
   "metadata": {
    "collapsed": false
   },
   "outputs": [
    {
     "name": "stdout",
     "output_type": "stream",
     "text": [
      "Populating the interactive namespace from numpy and matplotlib\n"
     ]
    }
   ],
   "source": [
    "%pylab inline\n",
    "import theano\n",
    "import theano.tensor as T\n",
    "import itertools as it\n",
    "import time"
   ]
  },
  {
   "cell_type": "markdown",
   "metadata": {},
   "source": [
    "## 把numpy array type 定義成 theano.config.floatX\n",
    "### <span style='color:red'>在theano的世界裡，請記得都要轉成floatX</span>"
   ]
  },
  {
   "cell_type": "code",
   "execution_count": 45,
   "metadata": {
    "collapsed": true
   },
   "outputs": [],
   "source": [
    "def floatX(X):\n",
    "    return np.asarray(X, dtype=theano.config.floatX)"
   ]
  },
  {
   "cell_type": "code",
   "execution_count": 46,
   "metadata": {
    "collapsed": true
   },
   "outputs": [],
   "source": [
    "### make batches\n",
    "def mk_batches(x_data, y_data, batch_size, shuffle=False):\n",
    "    x_batch = list()\n",
    "    y_batch = list()\n",
    "    \n",
    "    x_data_size = x_data.shape[0]\n",
    "    y_data_size = y_data.shape[0]\n",
    "    assert x_data_size == y_data_size , 'the x, y dimension is error'\n",
    "    \n",
    "    if shuffle:\n",
    "        indices = np.arange(x_data_size)\n",
    "        np.random.shuffle(indices)\n",
    "    \n",
    "    #range(start, stop, step)\n",
    "    for start_idx in range(0, x_data_size, batch_size):\n",
    "        if shuffle:\n",
    "            idx = indices[start_idx : start_idx + batch_size]            \n",
    "        else:\n",
    "            idx = slice(start_idx, start_idx + batch_size)\n",
    "            \n",
    "        x_batch.append(x_data[idx])\n",
    "        y_batch.append(y_data[idx])\n",
    "    \n",
    "    return x_batch, y_batch"
   ]
  },
  {
   "cell_type": "code",
   "execution_count": 47,
   "metadata": {
    "collapsed": false
   },
   "outputs": [],
   "source": [
    "### data\n",
    "batch_size = 10\n",
    "x_data = floatX(np.loadtxt('.\\ex2x.dat'))\n",
    "y_data = floatX(np.loadtxt('.\\ex2y.dat'))"
   ]
  },
  {
   "cell_type": "code",
   "execution_count": 48,
   "metadata": {
    "collapsed": true
   },
   "outputs": [],
   "source": [
    "### params / init weights\n",
    "w = theano.shared(floatX(-1.))\n",
    "b = theano.shared(floatX(-1.))"
   ]
  },
  {
   "cell_type": "code",
   "execution_count": 49,
   "metadata": {
    "collapsed": true
   },
   "outputs": [],
   "source": [
    "### model\n",
    "x = T.vector()\n",
    "y = w*x + b"
   ]
  },
  {
   "cell_type": "code",
   "execution_count": 50,
   "metadata": {
    "collapsed": true
   },
   "outputs": [],
   "source": [
    "### cost/error/loss\n",
    "y_hat = T.vector()\n",
    "cost = T.mean((y-y_hat)**2)"
   ]
  },
  {
   "cell_type": "markdown",
   "metadata": {},
   "source": [
    "## sgd"
   ]
  },
  {
   "cell_type": "code",
   "execution_count": 51,
   "metadata": {
    "collapsed": true
   },
   "outputs": [],
   "source": [
    "def gd(params, grads, lr):\n",
    "    updates = []\n",
    "        \n",
    "    for p, g in it.izip(params, grads):\n",
    "        updates.append([p, p - lr*g])\n",
    "\n",
    "    return updates"
   ]
  },
  {
   "cell_type": "markdown",
   "metadata": {},
   "source": [
    "## adagrad\n",
    "* 這裡為什麼不用for loop寫update function?\n",
    "* 因為我不知道grads的微分結果要怎麼取出來，所以只好先在外面算一算存在list中 (second_dw)，等於又多算了一次微分 (所以後面training速度慢???)\n",
    "* 記得second_dw也是theano variable\n",
    "\n",
    "* <span style='color:red'>update是expression</sapn>"
   ]
  },
  {
   "cell_type": "code",
   "execution_count": 52,
   "metadata": {
    "collapsed": true
   },
   "outputs": [],
   "source": [
    "def Adagd(params, grads):\n",
    "    updates = []\n",
    "    lr = floatX(1.0)\n",
    "    \n",
    "    updates.append([params[0], params[0] - (lr/second_dw)*grads[0]])\n",
    "    \n",
    "    updates.append([params[1], params[1] - (lr/second_db)*grads[1]])\n",
    "    \n",
    "    return updates"
   ]
  },
  {
   "cell_type": "markdown",
   "metadata": {},
   "source": [
    "## 取gradient"
   ]
  },
  {
   "cell_type": "code",
   "execution_count": 53,
   "metadata": {
    "collapsed": true
   },
   "outputs": [],
   "source": [
    "dw, db = T.grad(cost, [w, b])"
   ]
  },
  {
   "cell_type": "markdown",
   "metadata": {},
   "source": [
    "## 把每一次的微分值都存起來，然後計算類二次微分\n",
    "![alt tag](https://github.com/JiaMauJian/gradient-descent/blob/master/nb_img/adagrad.png?raw=true)"
   ]
  },
  {
   "cell_type": "code",
   "execution_count": 54,
   "metadata": {
    "collapsed": true
   },
   "outputs": [],
   "source": [
    "his_grad_dw = []\n",
    "his_grad_db = []\n",
    "second_dw = theano.shared(floatX(0.))\n",
    "second_db = theano.shared(floatX(0.))\n",
    "def calc_second_derivative(x, y):\n",
    "    g_dw = f_grad_dw(x, y)          \n",
    "    g_db = f_grad_db(x, y) \n",
    "    his_grad_dw.append(g_dw)\n",
    "    his_grad_db.append(g_db)\n",
    "    second_dw.set_value(floatX(np.sqrt(np.sum(np.square(his_grad_dw)))))\n",
    "    second_db.set_value(floatX(np.sqrt(np.sum(np.square(his_grad_db)))))"
   ]
  },
  {
   "cell_type": "markdown",
   "metadata": {},
   "source": [
    "## 整理theano function"
   ]
  },
  {
   "cell_type": "code",
   "execution_count": 55,
   "metadata": {
    "collapsed": true
   },
   "outputs": [],
   "source": [
    "### theano function\n",
    "f_model = theano.function([x], y)\n",
    "\n",
    "f_cost = theano.function([x, y_hat], cost)\n",
    "\n",
    "f_grad_dw = theano.function([x, y_hat], dw)\n",
    "\n",
    "f_grad_db = theano.function([x, y_hat], db)\n",
    "\n",
    "f_train = theano.function(inputs=[x, y_hat],\n",
    "                          outputs=[cost, w, b],\n",
    "                          updates=gd([w, b], [dw, db], 0.01))\n",
    "\n",
    "f_train_adagd = theano.function(inputs=[x, y_hat],\n",
    "                                outputs=[cost, w, b],\n",
    "                                updates=Adagd([w, b], [dw, db]))"
   ]
  },
  {
   "cell_type": "markdown",
   "metadata": {},
   "source": [
    "## 跑"
   ]
  },
  {
   "cell_type": "code",
   "execution_count": 56,
   "metadata": {
    "collapsed": true
   },
   "outputs": [],
   "source": [
    "epochs = 1000"
   ]
  },
  {
   "cell_type": "markdown",
   "metadata": {},
   "source": [
    "## sgd training 結果"
   ]
  },
  {
   "cell_type": "code",
   "execution_count": 57,
   "metadata": {
    "collapsed": false
   },
   "outputs": [
    {
     "name": "stdout",
     "output_type": "stream",
     "text": [
      "(sgd) w=0.063021, b=0.750077\n",
      "Loss = 0.002105\n",
      "It costs 0.106000 sec\n"
     ]
    }
   ],
   "source": [
    "his_cost_by_gd = []\n",
    "tStart = time.time()\n",
    "for t in range(epochs):\n",
    "        all_cost = 0       \n",
    "        x_batches, y_batches = mk_batches(x_data, y_data, batch_size, True)        \n",
    "        batch_num = len(x_batches)      \n",
    "            \n",
    "        for i in range(batch_num):            \n",
    "            tr_cost, tr_w, tr_b= f_train(x_batches[i], y_batches[i])            \n",
    "            all_cost += tr_cost            \n",
    "            \n",
    "        his_cost_by_gd.append(all_cost/batch_num)        \n",
    "        #print 'batch avg cost=%f' % (all_cost/batch_num)        \n",
    "tEnd = time.time()\n",
    "print '(sgd) w=%f, b=%f' % (tr_w, tr_b)\n",
    "print 'Loss = %f' % (his_cost_by_gd[-1])\n",
    "print 'It costs %f sec' % (tEnd-tStart)"
   ]
  },
  {
   "cell_type": "markdown",
   "metadata": {},
   "source": [
    "## adagrad training 結果"
   ]
  },
  {
   "cell_type": "code",
   "execution_count": 58,
   "metadata": {
    "collapsed": false
   },
   "outputs": [
    {
     "name": "stdout",
     "output_type": "stream",
     "text": [
      "(Adagd) w=0.064130, b=0.750053\n",
      "Loss = 0.002010\n",
      "It costs 1.993000 sec\n"
     ]
    }
   ],
   "source": [
    "# reset weights\n",
    "w.set_value(floatX(-1.))\n",
    "b.set_value(floatX(-1.))\n",
    "\n",
    "his_cost_by_adagd = []\n",
    "tStart = time.time()\n",
    "for t in range(epochs):\n",
    "        all_cost = 0       \n",
    "        x_batches, y_batches = mk_batches(x_data, y_data, batch_size, True)        \n",
    "        batch_num = len(x_batches)      \n",
    "            \n",
    "        for i in range(batch_num):\n",
    "            calc_second_derivative(x_batches[i], y_batches[i])            \n",
    "            tr_cost, tr_w, tr_b= f_train_adagd(x_batches[i], y_batches[i])            \n",
    "            all_cost += tr_cost            \n",
    "            \n",
    "        his_cost_by_adagd.append(all_cost/batch_num)        \n",
    "        #print 'batch avg cost=%f' % (all_cost/batch_num)        \n",
    "tEnd = time.time()\n",
    "print '(Adagd) w=%f, b=%f' % (tr_w, tr_b)\n",
    "print 'Loss = %f' % (his_cost_by_adagd[-1])\n",
    "print 'It costs %f sec' % (tEnd-tStart)"
   ]
  },
  {
   "cell_type": "markdown",
   "metadata": {},
   "source": [
    "## 最佳解"
   ]
  },
  {
   "cell_type": "code",
   "execution_count": 59,
   "metadata": {
    "collapsed": false
   },
   "outputs": [
    {
     "name": "stdout",
     "output_type": "stream",
     "text": [
      "(closed-fom) w=0.0639, b= 0.7502\n"
     ]
    }
   ],
   "source": [
    "print '(closed-fom) w=0.0639, b= 0.7502'"
   ]
  },
  {
   "cell_type": "markdown",
   "metadata": {},
   "source": [
    "## 畫圖比一比"
   ]
  },
  {
   "cell_type": "code",
   "execution_count": 60,
   "metadata": {
    "collapsed": false
   },
   "outputs": [
    {
     "data": {
      "image/png": "[encoded data removed]",
      "text/plain": [
       "<matplotlib.figure.Figure at 0xe345748>"
      ]
     },
     "metadata": {},
     "output_type": "display_data"
    }
   ],
   "source": [
    "### cost chart\n",
    "plt.plot(his_cost_by_gd, label='sgd')\n",
    "plt.plot(his_cost_by_adagd, label='adagrad')\n",
    "plt.legend()\n",
    "plt.ylim([0, 0.4])\n",
    "plt.xlabel(\"No. of parameters updates by batch\")\n",
    "plt.ylabel(\"Loss by batch of avg cost\")\n",
    "plt.show()"
   ]
  },
  {
   "cell_type": "markdown",
   "metadata": {},
   "source": [
    "## (Adagrad) 當epoch越大時，training會跑越久，我猜是因為需要計算過去所有gradient的平方合開根號，去推估二次微分"
   ]
  }
 ],
 "metadata": {
  "anaconda-cloud": {},
  "kernelspec": {
   "display_name": "Python [conda root]",
   "language": "python",
   "name": "conda-root-py"
  },
  "language_info": {
   "codemirror_mode": {
    "name": "ipython",
    "version": 2
   },
   "file_extension": ".py",
   "mimetype": "text/x-python",
   "name": "python",
   "nbconvert_exporter": "python",
   "pygments_lexer": "ipython2",
   "version": "2.7.12"
  }
 },
 "nbformat": 4,
 "nbformat_minor": 1
}

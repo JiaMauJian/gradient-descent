{
 "cells": [
  {
   "cell_type": "markdown",
   "metadata": {},
   "source": [
    "# RMSProp練習\n",
    "\n",
    "* http://speech.ee.ntu.edu.tw/~tlkagk/courses/ML_2016/Lecture/DNN%20tip.pdf#page=21\n",
    "\n",
    "* Adagrad的進階版本\n",
    "\n",
    "* alpha也是可以調整的值\n",
    "* alpha的值設的小一點，意思就是說你傾向相信新的gradient，所告訴你目前error surface的平滑或陡峭程度\n",
    "* alpha的值設的大一點，我比較相信過去所有gradient平方合開根號的結果\n",
    "\n",
    "* 當你在做RMSProp的時候，你一樣是在算graident的root mean square，但是你可以給現在你新看到的gradient比較大的weight，過去看到比較小"
   ]
  },
  {
   "cell_type": "code",
   "execution_count": 2,
   "metadata": {
    "collapsed": false
   },
   "outputs": [
    {
     "name": "stdout",
     "output_type": "stream",
     "text": [
      "Populating the interactive namespace from numpy and matplotlib\n"
     ]
    }
   ],
   "source": [
    "#http://openclassroom.stanford.edu/MainFolder/DocumentPage.php?course=MachineLearning&doc=exercises/ex2/ex2.html\n",
    "%pylab inline\n",
    "import theano\n",
    "import theano.tensor as T\n",
    "import itertools as it\n",
    "import time\n",
    "import pandas as pd\n",
    "\n",
    "def floatX(X):\n",
    "    return np.asarray(X, dtype=theano.config.floatX)\n",
    "\n",
    "### make batches\n",
    "def mk_batches(x_data, y_data, batch_size, shuffle=False):\n",
    "    x_batch = list()\n",
    "    y_batch = list()\n",
    "    \n",
    "    x_data_size = x_data.shape[0]\n",
    "    y_data_size = y_data.shape[0]\n",
    "    assert x_data_size == y_data_size , 'the x, y dimension is error'\n",
    "    \n",
    "    if shuffle:\n",
    "        indices = np.arange(x_data_size)\n",
    "        np.random.shuffle(indices)\n",
    "    \n",
    "    #range(start, stop, step)\n",
    "    for start_idx in range(0, x_data_size, batch_size):\n",
    "        if shuffle:\n",
    "            idx = indices[start_idx : start_idx + batch_size]            \n",
    "        else:\n",
    "            idx = slice(start_idx, start_idx + batch_size)\n",
    "            \n",
    "        x_batch.append(x_data[idx])\n",
    "        y_batch.append(y_data[idx])\n",
    "    \n",
    "    return x_batch, y_batch\n",
    "    \n",
    "### data\n",
    "batch_size = 10\n",
    "x_data = floatX(np.loadtxt('.\\ex2x.dat'))\n",
    "y_data = floatX(np.loadtxt('.\\ex2y.dat'))\n",
    "\n",
    "\n",
    "### params / init weights\n",
    "w = theano.shared(floatX(-1.))\n",
    "b = theano.shared(floatX(-1.))\n",
    "\n",
    "### model\n",
    "x = T.vector()\n",
    "y = w*x + b\n",
    "\n",
    "### cost/error/loss\n",
    "y_hat = T.vector()\n",
    "cost = T.mean((y-y_hat)**2)\n",
    "\n",
    "###############################################################################\n",
    "### gradients\n",
    "his_grad_dw = []\n",
    "his_grad_db = []\n",
    "second_dw = theano.shared(floatX(0.))\n",
    "second_db = theano.shared(floatX(0.))\n",
    "\n",
    "def gd(params, grads, lr):\n",
    "    updates = []\n",
    "        \n",
    "    for p, g in it.izip(params, grads):\n",
    "        updates.append([p, p - lr*g])\n",
    "\n",
    "    return updates\n",
    "\n",
    "def Adagd(params, grads):\n",
    "    updates = []\n",
    "    lr = floatX(1.)\n",
    "    \n",
    "    updates.append([params[0], params[0] - (lr/second_dw)*grads[0]])\n",
    "    \n",
    "    updates.append([params[1], params[1] - (lr/second_db)*grads[1]])\n",
    "    \n",
    "    return updates\n",
    "    \n",
    "def Rmsprop(params, grads):\n",
    "    updates = []\n",
    "    \n",
    "    lr = floatX(0.01)\n",
    "    \n",
    "    updates.append([params[0], params[0] - (lr/second_dw)*grads[0]])\n",
    "    \n",
    "    updates.append([params[1], params[1] - (lr/second_db)*grads[1]])\n",
    "    \n",
    "    return updates\n",
    "    \n",
    "dw, db = T.grad(cost, [w, b])\n",
    "\n",
    "###############################################################################\n",
    "### calculate every step gradient's root mean square\n",
    "def calc_second_derivative(x, y):\n",
    "    g_dw = f_grad_dw(x, y)          \n",
    "    g_db = f_grad_db(x, y) \n",
    "     \n",
    "    his_grad_dw.append(g_dw)\n",
    "    his_grad_db.append(g_db)\n",
    "    \n",
    "    second_dw.set_value(floatX(np.sqrt(np.sum(np.square(his_grad_dw)))))\n",
    "    second_db.set_value(floatX(np.sqrt(np.sum(np.square(his_grad_db)))))"
   ]
  },
  {
   "cell_type": "markdown",
   "metadata": {},
   "source": [
    "## 計算RMSProp sigma部分\n",
    "\n",
    "- http://speech.ee.ntu.edu.tw/~tlkagk/courses/ML_2016/Lecture/DNN%20tip.pdf#page=22\n",
    "- a (alpha)\n",
    "- 當算第一次的時候，sigma0就是g0\n",
    "- 之後就是算上一輪的gradient和目前的gradient平方合開根號 (因為平均這件事呢可以跟上面Learning Rate的t dependent抵銷掉，請參考adagrad筆記)\n",
    "- Hinton建議alpha=0.9，Learning Rate=0.001是好的開始\n",
    "- 就我這個問題的error surface，Learning Rate=0.01收斂更快\n"
   ]
  },
  {
   "cell_type": "code",
   "execution_count": 3,
   "metadata": {
    "collapsed": true
   },
   "outputs": [],
   "source": [
    "def calc_rms_derivative(x, y, i):\n",
    "    \n",
    "    # Hinton suggests alpha to be set to 0.9, while a good default value for the learning rate is 0.001.\n",
    "    # 看問題而定，就我這個問題，用0.001的learning rate學很慢    \n",
    "    a = 0.9\n",
    "    \n",
    "    g_dw = f_grad_dw(x, y)          \n",
    "    g_db = f_grad_db(x, y) \n",
    "    \n",
    "    if i == 0:\n",
    "        his_grad_dw.append(g_dw)\n",
    "        curr_sigam_dw = g_dw\n",
    "        \n",
    "        his_grad_db.append(g_db)\n",
    "        curr_sigam_db = g_db\n",
    "    else:\n",
    "        pre_sigma_dw = his_grad_dw[i-1]\n",
    "        curr_sigam_dw = np.sqrt ( a * np.square(pre_sigma_dw) + (1 - a) * np.square(g_dw) )\n",
    "        his_grad_dw.append(curr_sigam_dw)\n",
    "        \n",
    "        pre_sigma_db = his_grad_db[i-1]\n",
    "        curr_sigam_db = np.sqrt ( a * np.square(pre_sigma_db) + (1 - a) * np.square(g_db) )\n",
    "        his_grad_db.append(curr_sigam_db)\n",
    "    \n",
    "    second_dw.set_value(floatX(curr_sigam_dw))    \n",
    "    second_db.set_value(floatX(curr_sigam_db))"
   ]
  },
  {
   "cell_type": "markdown",
   "metadata": {},
   "source": [
    "## theano function"
   ]
  },
  {
   "cell_type": "code",
   "execution_count": 4,
   "metadata": {
    "collapsed": true
   },
   "outputs": [],
   "source": [
    "###############################################################################\n",
    "### theano function\n",
    "f_model = theano.function([x], y)\n",
    "\n",
    "f_cost = theano.function([x, y_hat], cost)\n",
    "\n",
    "f_grad_dw = theano.function([x, y_hat], dw)\n",
    "\n",
    "f_grad_db = theano.function([x, y_hat], db)\n",
    "\n",
    "f_train = theano.function(inputs=[x, y_hat],\n",
    "                          outputs=[cost, w, b],\n",
    "                          updates=gd([w, b], [dw, db], 0.01))\n",
    "\n",
    "f_train_adagd = theano.function(inputs=[x, y_hat],\n",
    "                                outputs=[cost, w, b],\n",
    "                                updates=Adagd([w, b], [dw, db]))\n",
    "\n",
    "f_train_rmsprop = theano.function(inputs=[x, y_hat],\n",
    "                                  outputs=[cost, w, b],\n",
    "                                  updates=Rmsprop([w, b], [dw, db]))"
   ]
  },
  {
   "cell_type": "markdown",
   "metadata": {},
   "source": [
    "## 跑"
   ]
  },
  {
   "cell_type": "code",
   "execution_count": 5,
   "metadata": {
    "collapsed": true
   },
   "outputs": [],
   "source": [
    "epochs = 500"
   ]
  },
  {
   "cell_type": "markdown",
   "metadata": {},
   "source": [
    "## training by Sgd"
   ]
  },
  {
   "cell_type": "code",
   "execution_count": 6,
   "metadata": {
    "collapsed": false
   },
   "outputs": [
    {
     "name": "stdout",
     "output_type": "stream",
     "text": [
      "(Sgd) minimum result \n",
      " cost         0.00198043\n",
      "w       0.0688982149206\n",
      "b        0.729932821281\n",
      "Name: 406, dtype: object\n",
      "It costs 1.047000 sec \n",
      "\n"
     ]
    }
   ],
   "source": [
    "###############################################################################\n",
    "# training by gd\n",
    "his_cost_by_gd = pd.DataFrame(columns=['cost', 'w', 'b'])\n",
    "tStart = time.time()\n",
    "for t in range(epochs):\n",
    "        all_cost = 0\n",
    "        all_w = 0\n",
    "        all_b = 0\n",
    "        \n",
    "        x_batches, y_batches = mk_batches(x_data, y_data, batch_size, True)        \n",
    "        batch_num = len(x_batches)      \n",
    "            \n",
    "        for i in range(batch_num):            \n",
    "            tr_cost, tr_w, tr_b= f_train(x_batches[i], y_batches[i])            \n",
    "            all_cost += tr_cost\n",
    "        \n",
    "        his_cost_by_gd.loc[t] = [all_cost/batch_num, tr_w, tr_b]\n",
    "\n",
    "tEnd = time.time()\n",
    "print '(Sgd) minimum result \\n %s' % (his_cost_by_gd.loc[his_cost_by_gd['cost'].argmin()])\n",
    "print 'It costs %f sec \\n' % (tEnd-tStart)"
   ]
  },
  {
   "cell_type": "markdown",
   "metadata": {},
   "source": [
    "## training by Adagrad"
   ]
  },
  {
   "cell_type": "code",
   "execution_count": 7,
   "metadata": {
    "collapsed": false
   },
   "outputs": [
    {
     "name": "stdout",
     "output_type": "stream",
     "text": [
      "(Adagrad) minimum result \n",
      " cost         0.00188989\n",
      "w       0.0668989957267\n",
      "b        0.751601660727\n",
      "Name: 460, dtype: object\n",
      "It costs 1.536000 sec \n",
      "\n"
     ]
    }
   ],
   "source": [
    "###############################################################################\n",
    "# training by adagrad\n",
    "w.set_value(floatX(-1.))\n",
    "b.set_value(floatX(-1.))\n",
    "his_grad_dw = []\n",
    "his_grad_db = []\n",
    "second_dw.set_value(floatX(0.))\n",
    "second_db.set_value(floatX(0.))\n",
    "his_cost_by_adagd = pd.DataFrame(columns=['cost', 'w', 'b'])\n",
    "tStart = time.time()\n",
    "for t in range(epochs):\n",
    "        all_cost = 0       \n",
    "        x_batches, y_batches = mk_batches(x_data, y_data, batch_size, True)        \n",
    "        batch_num = len(x_batches)      \n",
    "            \n",
    "        for i in range(batch_num):\n",
    "            calc_second_derivative(x_batches[i], y_batches[i])            \n",
    "            tr_cost, tr_w, tr_b= f_train_adagd(x_batches[i], y_batches[i])            \n",
    "            all_cost += tr_cost            \n",
    "        \n",
    "        his_cost_by_adagd.loc[t] = [all_cost/batch_num, tr_w, tr_b]        \n",
    "        \n",
    "tEnd = time.time()\n",
    "print '(Adagrad) minimum result \\n %s' % (his_cost_by_adagd.loc[his_cost_by_adagd['cost'].argmin()])\n",
    "print 'It costs %f sec \\n' % (tEnd-tStart)"
   ]
  },
  {
   "cell_type": "markdown",
   "metadata": {},
   "source": [
    "## training by Rmsprop"
   ]
  },
  {
   "cell_type": "code",
   "execution_count": 8,
   "metadata": {
    "collapsed": false
   },
   "outputs": [
    {
     "name": "stdout",
     "output_type": "stream",
     "text": [
      "(Rmsprop) minimum result \n",
      " cost        0.00185874\n",
      "w       0.060726355841\n",
      "b       0.745785561557\n",
      "Name: 101, dtype: object\n",
      "It costs 1.035000 sec \n",
      "\n"
     ]
    }
   ],
   "source": [
    "###############################################################################\n",
    "# training by rmsprop\n",
    "w.set_value(floatX(-1.))\n",
    "b.set_value(floatX(-1.))\n",
    "his_grad_dw = []\n",
    "his_grad_db = []\n",
    "second_dw.set_value(floatX(0.))\n",
    "second_db.set_value(floatX(0.))\n",
    "his_cost_by_rmsprop = pd.DataFrame(columns=['cost', 'w', 'b'])\n",
    "tStart = time.time()\n",
    "tt = 0\n",
    "for t in range(epochs):\n",
    "        all_cost = 0       \n",
    "        x_batches, y_batches = mk_batches(x_data, y_data, batch_size, True)        \n",
    "        batch_num = len(x_batches)      \n",
    "            \n",
    "        for i in range(batch_num):\n",
    "            calc_rms_derivative(x_batches[i], y_batches[i], tt)            \n",
    "            tr_cost, tr_w, tr_b= f_train_rmsprop(x_batches[i], y_batches[i])\n",
    "            tt += 1\n",
    "            all_cost += tr_cost            \n",
    "            \n",
    "        his_cost_by_rmsprop.loc[t] = [all_cost/batch_num, tr_w, tr_b]        \n",
    "            \n",
    "tEnd = time.time()\n",
    "print '(Rmsprop) minimum result \\n %s' % (his_cost_by_rmsprop.loc[his_cost_by_rmsprop['cost'].argmin()])\n",
    "print 'It costs %f sec \\n' % (tEnd-tStart)"
   ]
  },
  {
   "cell_type": "markdown",
   "metadata": {},
   "source": [
    "## closed-form最佳解"
   ]
  },
  {
   "cell_type": "code",
   "execution_count": 9,
   "metadata": {
    "collapsed": false
   },
   "outputs": [
    {
     "name": "stdout",
     "output_type": "stream",
     "text": [
      "(closed-fom) w=0.0639, b= 0.7502\n"
     ]
    }
   ],
   "source": [
    "print '(closed-fom) w=0.0639, b= 0.7502'"
   ]
  },
  {
   "cell_type": "markdown",
   "metadata": {},
   "source": [
    "## 畫圖比較看看"
   ]
  },
  {
   "cell_type": "code",
   "execution_count": 10,
   "metadata": {
    "collapsed": false
   },
   "outputs": [
    {
     "data": {
      "image/png": "[encoded data removed]",
      "text/plain": [
       "<matplotlib.figure.Figure at 0xdeb37f0>"
      ]
     },
     "metadata": {},
     "output_type": "display_data"
    }
   ],
   "source": [
    "###############################################################################\n",
    "### cost chart\n",
    "plt.plot(his_cost_by_gd.iloc[:, 0], label='sgd')\n",
    "plt.plot(his_cost_by_adagd.iloc[:, 0], label='adagrad')\n",
    "plt.plot(his_cost_by_rmsprop.iloc[:, 0], label='rmsprop')\n",
    "plt.legend()\n",
    "plt.xlabel(\"No. of parameters updates by batch\")\n",
    "plt.ylabel(\"Loss by batch of avg cost\")\n",
    "plt.ylim([0, 0.4])\n",
    "plt.show()"
   ]
  },
  {
   "cell_type": "markdown",
   "metadata": {},
   "source": [
    "## RMSProp比起Sgd/Adagrad一開始的時候cost特別高，但是之後下降地特別快"
   ]
  },
  {
   "cell_type": "code",
   "execution_count": 12,
   "metadata": {
    "collapsed": false
   },
   "outputs": [
    {
     "data": {
      "image/png": "[encoded data removed]",
      "text/plain": [
       "<matplotlib.figure.Figure at 0xe7c5e48>"
      ]
     },
     "metadata": {},
     "output_type": "display_data"
    }
   ],
   "source": [
    "plt.plot(his_cost_by_rmsprop.iloc[:, 0], 'r-', label='rmsprop')\n",
    "plt.show()"
   ]
  },
  {
   "cell_type": "code",
   "execution_count": null,
   "metadata": {
    "collapsed": true
   },
   "outputs": [],
   "source": []
  }
 ],
 "metadata": {
  "anaconda-cloud": {},
  "kernelspec": {
   "display_name": "Python [conda root]",
   "language": "python",
   "name": "conda-root-py"
  },
  "language_info": {
   "codemirror_mode": {
    "name": "ipython",
    "version": 2
   },
   "file_extension": ".py",
   "mimetype": "text/x-python",
   "name": "python",
   "nbconvert_exporter": "python",
   "pygments_lexer": "ipython2",
   "version": "2.7.12"
  }
 },
 "nbformat": 4,
 "nbformat_minor": 1
}

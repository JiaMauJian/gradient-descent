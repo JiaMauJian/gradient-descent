{
 "cells": [
  {
   "cell_type": "markdown",
   "metadata": {},
   "source": [
    "# Adam 練習\n",
    "\n",
    "## Adam = RMSProp + Momentum\n",
    "\n",
    "- http://speech.ee.ntu.edu.tw/~tlkagk/courses/ML_2016/Lecture/DNN%20tip.pdf#page=29\n",
    "- 還好有Alec Radford寫的Adam可以參考，不然真不知道錯在哪裡 (https://gist.github.com/Newmu/acb738767acb4788bac3)"
   ]
  },
  {
   "cell_type": "markdown",
   "metadata": {},
   "source": [
    "### 註:想像這裡的loss function長得像碗公"
   ]
  },
  {
   "cell_type": "markdown",
   "metadata": {},
   "source": [
    "# 1. 大beta1(Momentum) 大beta2(RMSProp)\n",
    "\n",
    "## 剛開始<span style='color:red'>滾</span>(momentum)很快，盪了幾下後，就穩下來了"
   ]
  },
  {
   "cell_type": "markdown",
   "metadata": {},
   "source": [
    "![alt tag](https://github.com/JiaMauJian/gradient-descent/blob/master/nb_img/adam_beta1=0.9,%20beta2=0.999.png?raw=true)"
   ]
  },
  {
   "cell_type": "markdown",
   "metadata": {},
   "source": [
    "# 2. 大beta1(Momentum) 小beta2(RMSProp)\n",
    "\n",
    "## 超好動，停不下來 (就像彈珠在碗公裡面滾來滾去，不會停)"
   ]
  },
  {
   "cell_type": "markdown",
   "metadata": {},
   "source": [
    "![alt tag](https://github.com/JiaMauJian/gradient-descent/blob/master/nb_img/adam_beta1=0.9,%20beta2=0.001.png?raw=true)"
   ]
  },
  {
   "cell_type": "markdown",
   "metadata": {},
   "source": [
    "# 3. 小beta1(Momentum) 大beta2(RMSProp)\n",
    "\n",
    "## 一開始<span style='color:red'>走</span>(rmsprop)的快，後來越走越慢"
   ]
  },
  {
   "cell_type": "markdown",
   "metadata": {},
   "source": [
    "![alt tag](https://raw.githubusercontent.com/JiaMauJian/gradient-descent/master/nb_img/adam_beta1%3D0.1%2C%20beta2%3D0.999.png)"
   ]
  },
  {
   "cell_type": "markdown",
   "metadata": {},
   "source": [
    "# 4. 小beta1(Momentum) 小beta2(RMSProp)\n",
    "\n",
    "## 又慢又不太穩"
   ]
  },
  {
   "cell_type": "markdown",
   "metadata": {},
   "source": [
    "![alt tag](https://github.com/JiaMauJian/gradient-descent/blob/master/nb_img/adam_beta1=0.1,%20beta2=0.001.png?raw=true)"
   ]
  }
 ],
 "metadata": {
  "anaconda-cloud": {},
  "kernelspec": {
   "display_name": "Python [conda root]",
   "language": "python",
   "name": "conda-root-py"
  },
  "language_info": {
   "codemirror_mode": {
    "name": "ipython",
    "version": 2
   },
   "file_extension": ".py",
   "mimetype": "text/x-python",
   "name": "python",
   "nbconvert_exporter": "python",
   "pygments_lexer": "ipython2",
   "version": "2.7.12"
  }
 },
 "nbformat": 4,
 "nbformat_minor": 1
}

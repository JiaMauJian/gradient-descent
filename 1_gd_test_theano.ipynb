{
 "cells": [
  {
   "cell_type": "markdown",
   "metadata": {},
   "source": [
    "## theano實作gradient desecent\n",
    "\n",
    "* theano是什麼\n",
    "    * One of the main features of Theano is its symbolic differentiation feature. That is, given a <font color='red'>symbolic mathematical expression</font>, Theano can automatically differentiate the expression with respect to some variable within the expression \n",
    "    * 如y=x就是一個symbolic mathematical expression，只要呼叫grad([x],y)，就會自動幫你計算gradient偏微分結果\n",
    "    * 遇到太難微分的方程式，呼叫grad就解決了，超方便\n",
    "\n",
    "\n",
    "* 用theano來練習最基本的gradient desecent\n",
    "\n",
    "* 驗證跟之前寫的gd_test.py結果有沒有一樣"
   ]
  },
  {
   "cell_type": "code",
   "execution_count": 22,
   "metadata": {
    "collapsed": true
   },
   "outputs": [],
   "source": [
    "import theano\n",
    "import theano.tensor as T\n",
    "import numpy as np"
   ]
  },
  {
   "cell_type": "markdown",
   "metadata": {},
   "source": [
    "* 須注意theano的型別, floatX"
   ]
  },
  {
   "cell_type": "code",
   "execution_count": 23,
   "metadata": {
    "collapsed": false
   },
   "outputs": [
    {
     "name": "stdout",
     "output_type": "stream",
     "text": [
      "float64\n"
     ]
    }
   ],
   "source": [
    "floatX = theano.config.floatX\n",
    "print floatX"
   ]
  },
  {
   "cell_type": "markdown",
   "metadata": {},
   "source": [
    "## 初始化\n",
    "* theano shared variables (就當作全域變數)\n",
    "* 如果用np create array 要定義<font color='red'>dtype=floatX</font>，到時候才能跟同型別相乘或相加\n",
    "* 我們後面會產生100筆 x data，所以在w和b這兩個變數也要100筆\n",
    "* w和b預設-1，不要取random，這樣比較好跟gd_test.py對照結果"
   ]
  },
  {
   "cell_type": "code",
   "execution_count": 24,
   "metadata": {
    "collapsed": false
   },
   "outputs": [],
   "source": [
    "x = T.vector()\n",
    "w = theano.shared(np.array([-1. for i in range(100)], dtype=floatX), name='w')\n",
    "b = theano.shared(np.array([-1. for i in range(100)], dtype=floatX), name='b')"
   ]
  },
  {
   "cell_type": "markdown",
   "metadata": {},
   "source": [
    "## 定義fuction，假想我們已知真實的f是長這樣，用底下這個f來產生y data\n",
    "* 主要用意是要來驗證gradient寫得對不對"
   ]
  },
  {
   "cell_type": "code",
   "execution_count": 25,
   "metadata": {
    "collapsed": false
   },
   "outputs": [],
   "source": [
    "y = w*x**2 + b\n",
    "f = theano.function([x], y)"
   ]
  },
  {
   "cell_type": "markdown",
   "metadata": {},
   "source": [
    "## 定義cost/error/loss function"
   ]
  },
  {
   "cell_type": "code",
   "execution_count": 26,
   "metadata": {
    "collapsed": true
   },
   "outputs": [],
   "source": [
    "y_hat = T.vector()\n",
    "cost = T.sum((y-y_hat)**2)"
   ]
  },
  {
   "cell_type": "markdown",
   "metadata": {},
   "source": [
    "* 作gradient desecent\n",
    "* 對w, b偏微分\n",
    "* 回傳dw, db偏微分結果"
   ]
  },
  {
   "cell_type": "code",
   "execution_count": 27,
   "metadata": {
    "collapsed": true
   },
   "outputs": [],
   "source": [
    "dw, db = T.grad(cost, [w,b])"
   ]
  },
  {
   "cell_type": "markdown",
   "metadata": {},
   "source": [
    "## 定義graident function\n",
    "* learning rate 設 0.00001 (這組是最穩定的)\n",
    "* inputs資料 x, y_hat\n",
    "* outputs偏微分結果 dw, db\n",
    "* updates迭代更新w, b參數\n",
    "* <font color='red'>T.sum(dw)</font> => 把每一筆資料的dw都sum起來\n",
    "    * 最原始gd作法是把每一筆資料都看過(算偏微分加總)，這是以後改成SGD或是Mini-Batch基礎\n",
    "* 為什麼不是用np.sum?\n",
    "    * 因為dw是theano variable，要用theano.tensor裡面的sum來做\n",
    "    * In[127]: dw.type\n",
    "    * Out[127]: TensorType(float64, vector)"
   ]
  },
  {
   "cell_type": "code",
   "execution_count": 28,
   "metadata": {
    "collapsed": true
   },
   "outputs": [],
   "source": [
    "lr = 0.00001\n",
    "gradient = theano.function(inputs=[x, y_hat],\n",
    "                           outputs=[dw, db],\n",
    "                           updates=[(w, w-lr*T.sum(dw)), (b, b-lr*T.sum(db))])"
   ]
  },
  {
   "cell_type": "markdown",
   "metadata": {},
   "source": [
    "## create data\n",
    "* 如果用np create array 要定義<font color='red'>dtype=floatX</font>，到時候才能跟同型別相乘或相加\n",
    "* y = w*x**2 + b\n",
    "* <font color='red'>已知參數w=1, b=1，因次最後gd跑出來的w, b要接近1才正確</font>"
   ]
  },
  {
   "cell_type": "code",
   "execution_count": 29,
   "metadata": {
    "collapsed": true
   },
   "outputs": [],
   "source": [
    "x_data = np.array(np.linspace(-5.0, 5.0, 100), dtype=floatX)\n",
    "y_data = np.array(x_data**2+1, dtype=floatX)"
   ]
  },
  {
   "cell_type": "markdown",
   "metadata": {},
   "source": [
    "* epoch 1 次\n",
    "* iterate 10000次\n",
    "* 一開始驗證gd_test.py可以將iterate設為1次，檢查跑出來的w和b有沒有一樣，慢慢增加3次5次"
   ]
  },
  {
   "cell_type": "code",
   "execution_count": 30,
   "metadata": {
    "collapsed": true
   },
   "outputs": [],
   "source": [
    "T = 1\n",
    "t = 10000"
   ]
  },
  {
   "cell_type": "markdown",
   "metadata": {},
   "source": [
    "## 跑迴圈求解w, b\n",
    "* = train model\n",
    "* 將x_data, y_data丟進去gradient裡面\n",
    "* print出w, b結果\n",
    "    * w, b是theano shared variable，要用get_value取值，set_value給值\n",
    "    * 因為w, b每一筆都一樣，取第一筆print就好"
   ]
  },
  {
   "cell_type": "code",
   "execution_count": 31,
   "metadata": {
    "collapsed": false
   },
   "outputs": [
    {
     "name": "stdout",
     "output_type": "stream",
     "text": [
      "w=1.000017, b=0.999734\n"
     ]
    }
   ],
   "source": [
    "for i in range(0, T):\n",
    "    for j in range(0, t):\n",
    "        gradient(x_data, y_data)        \n",
    "    print \"w=%f, b=%f\" % (w.get_value()[0], b.get_value()[0])"
   ]
  },
  {
   "cell_type": "markdown",
   "metadata": {},
   "source": [
    "## 計算error\n",
    "* = test model\n",
    "* 把cost定義為theano function"
   ]
  },
  {
   "cell_type": "code",
   "execution_count": 32,
   "metadata": {
    "collapsed": false
   },
   "outputs": [
    {
     "name": "stdout",
     "output_type": "stream",
     "text": [
      "error=0.000003\n"
     ]
    }
   ],
   "source": [
    "cost_f = theano.function([x, y_hat], cost)\n",
    "print \"error=%f\" % (cost_f(x_data, y_data))"
   ]
  },
  {
   "cell_type": "code",
   "execution_count": null,
   "metadata": {
    "collapsed": true
   },
   "outputs": [],
   "source": []
  }
 ],
 "metadata": {
  "anaconda-cloud": {},
  "kernelspec": {
   "display_name": "Python [conda root]",
   "language": "python",
   "name": "conda-root-py"
  },
  "language_info": {
   "codemirror_mode": {
    "name": "ipython",
    "version": 2
   },
   "file_extension": ".py",
   "mimetype": "text/x-python",
   "name": "python",
   "nbconvert_exporter": "python",
   "pygments_lexer": "ipython2",
   "version": "2.7.12"
  }
 },
 "nbformat": 4,
 "nbformat_minor": 1
}

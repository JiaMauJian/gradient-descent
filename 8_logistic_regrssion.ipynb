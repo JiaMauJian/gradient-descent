{
 "cells": [
  {
   "cell_type": "markdown",
   "metadata": {},
   "source": [
    "# Logistic Regression練習\n",
    "\n",
    "ref http://openclassroom.stanford.edu/MainFolder/DocumentPage.php?course=MachineLearning&doc=exercises/ex4/ex4.html\n",
    "\n",
    "## 牛頓法的迭代後的結果\n",
    "- w = theano.shared(floatX([0.1589, 0.1483]))\n",
    "- b = theano.shared(-16.38)\n",
    "- cost 大概0.41X多\n",
    "\n",
    "## mini-batch跑gradient，cost差不多都在0.6左右\n",
    "\n",
    "## 做了feature scaling後，cost就很平滑的降下來了"
   ]
  },
  {
   "cell_type": "code",
   "execution_count": 64,
   "metadata": {
    "collapsed": false
   },
   "outputs": [
    {
     "name": "stdout",
     "output_type": "stream",
     "text": [
      "Populating the interactive namespace from numpy and matplotlib\n"
     ]
    }
   ],
   "source": [
    "%pylab inline\n",
    "import theano\n",
    "import theano.tensor as T\n",
    "import itertools as it"
   ]
  },
  {
   "cell_type": "code",
   "execution_count": 65,
   "metadata": {
    "collapsed": true
   },
   "outputs": [],
   "source": [
    "def floatX(X):\n",
    "    return np.asarray(X, dtype=theano.config.floatX)"
   ]
  },
  {
   "cell_type": "markdown",
   "metadata": {},
   "source": [
    "## make batches"
   ]
  },
  {
   "cell_type": "code",
   "execution_count": 66,
   "metadata": {
    "collapsed": true
   },
   "outputs": [],
   "source": [
    "### make batches\n",
    "def mk_batches(x_data, y_data, batch_size, shuffle=False):\n",
    "    x_batch = list()\n",
    "    y_batch = list()\n",
    "    \n",
    "    x_data_size = x_data.shape[0]\n",
    "    y_data_size = y_data.shape[0]\n",
    "    assert x_data_size == y_data_size , 'the x, y dimension is error'\n",
    "    \n",
    "    if shuffle:\n",
    "        indices = np.arange(x_data_size)\n",
    "        np.random.shuffle(indices)\n",
    "    \n",
    "    #range(start, stop, step)\n",
    "    for start_idx in range(0, x_data_size, batch_size):\n",
    "        if shuffle:\n",
    "            idx = indices[start_idx : start_idx + batch_size]            \n",
    "        else:\n",
    "            idx = slice(start_idx, start_idx + batch_size)\n",
    "            \n",
    "        x_batch.append(x_data[idx])\n",
    "        y_batch.append(y_data[idx])\n",
    "    \n",
    "    return x_batch, y_batch"
   ]
  },
  {
   "cell_type": "markdown",
   "metadata": {},
   "source": [
    "## feature scaling (可以讓gradient走的順一點)\n",
    "http://speech.ee.ntu.edu.tw/~tlkagk/courses/ML_2016/Lecture/Gradient%20Descent%20(v2).pdf#page=21"
   ]
  },
  {
   "cell_type": "code",
   "execution_count": 67,
   "metadata": {
    "collapsed": true
   },
   "outputs": [],
   "source": [
    "def feature_scaling(x_data):\n",
    "    return (x_data - np.mean(x_data)) / np.std(x_data)"
   ]
  },
  {
   "cell_type": "markdown",
   "metadata": {},
   "source": [
    "## 參數調整"
   ]
  },
  {
   "cell_type": "code",
   "execution_count": 68,
   "metadata": {
    "collapsed": true
   },
   "outputs": [],
   "source": [
    "BATCH_SIZE = 10\n",
    "LEARNING_RATE = 0.001\n",
    "EPOCHS = 1000"
   ]
  },
  {
   "cell_type": "markdown",
   "metadata": {},
   "source": [
    "## Load Data"
   ]
  },
  {
   "cell_type": "code",
   "execution_count": 69,
   "metadata": {
    "collapsed": true
   },
   "outputs": [],
   "source": [
    "batch_size = BATCH_SIZE\n",
    "x_data = floatX(np.loadtxt('.\\ex4x.dat'))\n",
    "y_data = floatX(np.loadtxt('.\\ex4y.dat'))"
   ]
  },
  {
   "cell_type": "markdown",
   "metadata": {},
   "source": [
    "## 資料長這樣 (學生分數有沒有過關)\n",
    "- 將x data分成兩類 (0/1)\n",
    "- 0 = 被當掉\n",
    "- 1 = pass"
   ]
  },
  {
   "cell_type": "code",
   "execution_count": 70,
   "metadata": {
    "collapsed": false
   },
   "outputs": [
    {
     "data": {
      "image/png": "[encoded data removed]",
      "text/plain": [
       "<matplotlib.figure.Figure at 0xbec6128>"
      ]
     },
     "metadata": {},
     "output_type": "display_data"
    }
   ],
   "source": [
    "x_data_0 = x_data[y_data==0]\n",
    "x_data_1 = x_data[y_data==1]\n",
    "p1 = plt.scatter(x_data_0[:,0], x_data_0[:,1], c='r', marker='x', label='no pass')\n",
    "p2 = plt.scatter(x_data_1[:,0], x_data_1[:,1], c='b', marker='o', label='pass')\n",
    "plt.legend(loc=4)\n",
    "plt.xlabel(\"Exam 1 Score\")\n",
    "plt.ylabel(\"Exam 2 Score\")\n",
    "plt.show()"
   ]
  },
  {
   "cell_type": "markdown",
   "metadata": {},
   "source": [
    "## 初始化權重"
   ]
  },
  {
   "cell_type": "code",
   "execution_count": 71,
   "metadata": {
    "collapsed": true
   },
   "outputs": [],
   "source": [
    "### params / init weights\n",
    "w = theano.shared(floatX(np.random.randn(2))) #有兩個x就要搭配兩個w\n",
    "b = theano.shared(floatX(np.random.randn(1))[0])"
   ]
  },
  {
   "cell_type": "markdown",
   "metadata": {},
   "source": [
    "# Model"
   ]
  },
  {
   "cell_type": "code",
   "execution_count": 72,
   "metadata": {
    "collapsed": true
   },
   "outputs": [],
   "source": [
    "x = T.matrix()\n",
    "z = T.dot(w, x.T) + b\n",
    "y = 1 / (1 + T.exp(-1 * z))\n",
    "f = theano.function([x], y)"
   ]
  },
  {
   "cell_type": "markdown",
   "metadata": {},
   "source": [
    "# Cost"
   ]
  },
  {
   "cell_type": "code",
   "execution_count": 73,
   "metadata": {
    "collapsed": true
   },
   "outputs": [],
   "source": [
    "y_hat = T.vector()\n",
    "cost = -T.mean(y_hat * T.log(y) + (1 - y_hat) * T.log(1 - y))"
   ]
  },
  {
   "cell_type": "markdown",
   "metadata": {},
   "source": [
    "# <span style='color:red'>很重要</span>\n",
    "## 這邊稍微離題講一下vector & matrix\n",
    "\n",
    "### 搞清楚w, x, b, y是scalar, vector還是matrix\n",
    "### 搞清楚dot\n",
    "### x要轉置"
   ]
  },
  {
   "cell_type": "code",
   "execution_count": 74,
   "metadata": {
    "collapsed": false
   },
   "outputs": [
    {
     "name": "stdout",
     "output_type": "stream",
     "text": [
      "x是matrix, 有x1, x2\n",
      "(80L, 2L)\n",
      "w是躺平的vector, 長度2, 想成dim=1x2, 有幾個x就幾個w\n",
      "(2L,)\n",
      "想計算w*x, 要用dot, dot = 1x2 * 2x80 = 1 x 80\n",
      "(80L,)\n",
      "加上bias常數項\n",
      "[-71.13035858 -58.9415243  -72.70055548 -64.59845555 -57.18930972\n",
      " -66.93335382 -64.99874305 -58.5397228  -72.04347501 -73.50264449\n",
      " -58.50309216 -58.61298407 -64.16040191 -59.45132522 -66.4227959\n",
      " -57.73687678 -64.63432919 -69.89021593 -60.10878419 -58.61222707\n",
      " -49.67140749 -50.62039755 -47.15297753 -50.7665416  -55.14480704\n",
      " -43.86795369 -71.38450204 -66.56893995 -40.40091217 -49.59814621\n",
      " -60.40145079 -45.65679891 -54.88990659 -66.27627335 -57.2621925\n",
      " -60.03627992 -47.99169718 -54.63462763 -49.74466876 -59.45132522\n",
      " -48.10083209 -48.2103455  -36.97012278 -31.20367813 -47.59027417\n",
      " -51.64151339 -46.6409056  -48.06420145 -30.36344447 -48.28360677\n",
      " -41.27701946 -38.42967076 -32.77349652 -54.74376254 -48.06533696\n",
      " -54.7075104  -55.29057259 -33.50270276 -49.67065048 -43.02809854\n",
      " -55.18219468 -56.49597712 -51.31297315 -36.93349215 -44.52503416\n",
      " -45.18135762 -70.29050343 -53.57536715 -63.57544721 -50.32810945\n",
      " -47.5177699  -51.97043212 -38.50255354 -54.9990415  -40.83820881\n",
      " -33.97776554 -52.26196322 -34.41619769 -31.42346195 -48.32061591]\n",
      "y_hat (target) 也是躺平的vector, 長度80\n",
      "(80L,)\n"
     ]
    }
   ],
   "source": [
    "weights = np.random.randn(2)\n",
    "bias = np.random.randn(1)\n",
    "\n",
    "print 'x是matrix, 有x1, x2'\n",
    "print x_data.shape\n",
    "print 'w是躺平的vector, 長度2, 想成dim=1x2, 有幾個x就幾個w'\n",
    "print weights.shape\n",
    "print '想計算w*x, 要用dot, dot = 1x2 * 2x80 = 1 x 80'\n",
    "a = np.dot(weights, np.transpose(x_data))\n",
    "print a.shape\n",
    "print '加上bias常數項'\n",
    "print a + bias\n",
    "print 'y_hat (target) 也是躺平的vector, 長度80'\n",
    "print y_data.shape"
   ]
  },
  {
   "cell_type": "markdown",
   "metadata": {},
   "source": [
    "## gradient"
   ]
  },
  {
   "cell_type": "code",
   "execution_count": 75,
   "metadata": {
    "collapsed": true
   },
   "outputs": [],
   "source": [
    "### gradients\n",
    "def gd(params, grads, lr):\n",
    "    updates = []\n",
    "    for p, g in it.izip(params, grads):      \n",
    "        updates.append([p, p - lr*g])\n",
    "    return updates\n",
    "    \n",
    "dw, db = T.grad(cost, [w, b])\n",
    "train = theano.function(inputs=[x, y_hat],\n",
    "                        outputs=[cost, w, b],\n",
    "                        updates=gd([w, b], [dw, db], LEARNING_RATE))"
   ]
  },
  {
   "cell_type": "markdown",
   "metadata": {},
   "source": [
    "## training"
   ]
  },
  {
   "cell_type": "code",
   "execution_count": 76,
   "metadata": {
    "collapsed": false
   },
   "outputs": [
    {
     "name": "stdout",
     "output_type": "stream",
     "text": [
      "avg cost=0.801087\n",
      "w1=0.077571, w2=0.026020, b=-2.132344\n"
     ]
    }
   ],
   "source": [
    "# training\n",
    "def training(epochs, x_data, y_data):\n",
    "    costs = []\n",
    "    for t in range(epochs): \n",
    "        all_cost = 0       \n",
    "        x_batches, y_batches = mk_batches(x_data, y_data, BATCH_SIZE, True)        \n",
    "        batch_num = len(x_batches)\n",
    "        for i in range(batch_num):        \n",
    "            results = train(x_batches[i], y_batches[i])            \n",
    "            all_cost += results[0]\n",
    "        \n",
    "        costs.append(all_cost/batch_num)\n",
    "    \n",
    "    print 'avg cost=%f' % (costs[-1])        \n",
    "    print 'w1=%f, w2=%f, b=%f' % (results[1][0], results[1][1], results[2])\n",
    "\n",
    "    return costs, results\n",
    "\n",
    "costs, results = training(EPOCHS, x_data, y_data)"
   ]
  },
  {
   "cell_type": "markdown",
   "metadata": {},
   "source": [
    "## cost chart (cost下不去，已經調過learning rate, batch size，跟牛頓法的0.4還有一段差異)"
   ]
  },
  {
   "cell_type": "code",
   "execution_count": 77,
   "metadata": {
    "collapsed": false
   },
   "outputs": [
    {
     "data": {
      "image/png": "[encoded data removed]",
      "text/plain": [
       "<matplotlib.figure.Figure at 0xdbb57f0>"
      ]
     },
     "metadata": {},
     "output_type": "display_data"
    }
   ],
   "source": [
    "# cost chart\n",
    "def plot_cost(costs):\n",
    "    plt.plot(costs)\n",
    "    plt.ylim([0, 3.0])\n",
    "    plt.xlabel(\"No. of parameters updates by batch\")\n",
    "    plt.ylabel(\"Loss by batch of avg cost\")\n",
    "    plt.show()\n",
    "    \n",
    "plot_cost(costs)"
   ]
  },
  {
   "cell_type": "markdown",
   "metadata": {},
   "source": [
    "## 那做<span style='color:red'>feature scaling</span>呢?"
   ]
  },
  {
   "cell_type": "code",
   "execution_count": 78,
   "metadata": {
    "collapsed": true
   },
   "outputs": [],
   "source": [
    "# 重新設定權重\n",
    "w.set_value(floatX(np.random.randn(2)))\n",
    "b.set_value(floatX(np.random.randn(1))[0])"
   ]
  },
  {
   "cell_type": "markdown",
   "metadata": {},
   "source": [
    "## feature scaling有好幾種方法，這種方法做出來的mean=0, std=1"
   ]
  },
  {
   "cell_type": "code",
   "execution_count": 79,
   "metadata": {
    "collapsed": false
   },
   "outputs": [
    {
     "name": "stdout",
     "output_type": "stream",
     "text": [
      "mean=-0.000000, std=1.000000\n"
     ]
    }
   ],
   "source": [
    "x_data = feature_scaling(x_data)\n",
    "print 'mean=%f, std=%f' % (np.mean(x_data), np.std(x_data))"
   ]
  },
  {
   "cell_type": "markdown",
   "metadata": {},
   "source": [
    "## 再training一次(結果有好一點點)"
   ]
  },
  {
   "cell_type": "code",
   "execution_count": 80,
   "metadata": {
    "collapsed": false
   },
   "outputs": [
    {
     "name": "stdout",
     "output_type": "stream",
     "text": [
      "avg cost=0.473694\n",
      "w1=1.158883, w2=1.134401, b=0.040164\n"
     ]
    },
    {
     "data": {
      "image/png": "[encoded data removed]",
      "text/plain": [
       "<matplotlib.figure.Figure at 0xdcc8048>"
      ]
     },
     "metadata": {},
     "output_type": "display_data"
    }
   ],
   "source": [
    "costs, results = training(EPOCHS, x_data, y_data)\n",
    "plot_cost(costs)"
   ]
  },
  {
   "cell_type": "code",
   "execution_count": null,
   "metadata": {
    "collapsed": true
   },
   "outputs": [],
   "source": []
  }
 ],
 "metadata": {
  "anaconda-cloud": {},
  "kernelspec": {
   "display_name": "Python [conda root]",
   "language": "python",
   "name": "conda-root-py"
  },
  "language_info": {
   "codemirror_mode": {
    "name": "ipython",
    "version": 2
   },
   "file_extension": ".py",
   "mimetype": "text/x-python",
   "name": "python",
   "nbconvert_exporter": "python",
   "pygments_lexer": "ipython2",
   "version": "2.7.12"
  }
 },
 "nbformat": 4,
 "nbformat_minor": 1
}

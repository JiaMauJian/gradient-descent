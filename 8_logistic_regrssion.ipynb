{
 "cells": [
  {
   "cell_type": "markdown",
   "metadata": {},
   "source": [
    "# Logistic Regression練習\n",
    "\n",
    "ref http://openclassroom.stanford.edu/MainFolder/DocumentPage.php?course=MachineLearning&doc=exercises/ex4/ex4.html\n",
    "\n",
    "## 牛頓法的迭代後的結果\n",
    "- w = theano.shared(floatX([0.1589, 0.1483]))\n",
    "- b = theano.shared(-16.38)\n",
    "- cost 大概0.41X多\n",
    "\n",
    "## mini-batch跑gradient，cost差不多都在0.6左右\n",
    "\n",
    "## 做了feature scaling後，cost就很平滑的降下來了"
   ]
  },
  {
   "cell_type": "code",
   "execution_count": 8,
   "metadata": {
    "collapsed": false
   },
   "outputs": [
    {
     "name": "stdout",
     "output_type": "stream",
     "text": [
      "Populating the interactive namespace from numpy and matplotlib\n"
     ]
    }
   ],
   "source": [
    "%pylab inline\n",
    "import theano\n",
    "import theano.tensor as T\n",
    "import itertools as it"
   ]
  },
  {
   "cell_type": "code",
   "execution_count": 9,
   "metadata": {
    "collapsed": true
   },
   "outputs": [],
   "source": [
    "def floatX(X):\n",
    "    return np.asarray(X, dtype=theano.config.floatX)"
   ]
  },
  {
   "cell_type": "markdown",
   "metadata": {},
   "source": [
    "## make batches"
   ]
  },
  {
   "cell_type": "code",
   "execution_count": 10,
   "metadata": {
    "collapsed": true
   },
   "outputs": [],
   "source": [
    "### make batches\n",
    "def mk_batches(x_data, y_data, batch_size, shuffle=False):\n",
    "    x_batch = list()\n",
    "    y_batch = list()\n",
    "    \n",
    "    x_data_size = x_data.shape[0]\n",
    "    y_data_size = y_data.shape[0]\n",
    "    assert x_data_size == y_data_size , 'the x, y dimension is error'\n",
    "    \n",
    "    if shuffle:\n",
    "        indices = np.arange(x_data_size)\n",
    "        np.random.shuffle(indices)\n",
    "    \n",
    "    #range(start, stop, step)\n",
    "    for start_idx in range(0, x_data_size, batch_size):\n",
    "        if shuffle:\n",
    "            idx = indices[start_idx : start_idx + batch_size]            \n",
    "        else:\n",
    "            idx = slice(start_idx, start_idx + batch_size)\n",
    "            \n",
    "        x_batch.append(x_data[idx])\n",
    "        y_batch.append(y_data[idx])\n",
    "    \n",
    "    return x_batch, y_batch"
   ]
  },
  {
   "cell_type": "markdown",
   "metadata": {},
   "source": [
    "## feature scaling (可以讓gradient走的順一點)\n",
    "http://speech.ee.ntu.edu.tw/~tlkagk/courses/ML_2016/Lecture/Gradient%20Descent%20(v2).pdf#page=21"
   ]
  },
  {
   "cell_type": "code",
   "execution_count": 11,
   "metadata": {
    "collapsed": true
   },
   "outputs": [],
   "source": [
    "def feature_scaling(x_data):\n",
    "    return (x_data - np.mean(x_data)) / np.std(x_data)"
   ]
  },
  {
   "cell_type": "markdown",
   "metadata": {},
   "source": [
    "## 參數調整"
   ]
  },
  {
   "cell_type": "code",
   "execution_count": 12,
   "metadata": {
    "collapsed": true
   },
   "outputs": [],
   "source": [
    "BATCH_SIZE = 10\n",
    "LEARNING_RATE = 0.001\n",
    "EPOCHS = 1000"
   ]
  },
  {
   "cell_type": "markdown",
   "metadata": {},
   "source": [
    "## Load Data"
   ]
  },
  {
   "cell_type": "code",
   "execution_count": 13,
   "metadata": {
    "collapsed": false
   },
   "outputs": [],
   "source": [
    "batch_size = BATCH_SIZE\n",
    "x_data = floatX(np.loadtxt('.\\ex4x.dat'))\n",
    "y_data = floatX(np.loadtxt('.\\ex4y.dat'))"
   ]
  },
  {
   "cell_type": "markdown",
   "metadata": {},
   "source": [
    "## 資料長這樣 (學生分數有沒有過關)\n",
    "- 將x data分成兩類 (0/1)\n",
    "- 0 = 被當掉\n",
    "- 1 = pass"
   ]
  },
  {
   "cell_type": "code",
   "execution_count": 14,
   "metadata": {
    "collapsed": false
   },
   "outputs": [
    {
     "data": {
      "image/png": "[encoded data removed]",
      "text/plain": [
       "<matplotlib.figure.Figure at 0xadffac8>"
      ]
     },
     "metadata": {},
     "output_type": "display_data"
    }
   ],
   "source": [
    "x_data_0 = x_data[y_data==0]\n",
    "x_data_1 = x_data[y_data==1]\n",
    "p1 = plt.scatter(x_data_0[:,0], x_data_0[:,1], c='r', marker='x', label='no pass')\n",
    "p2 = plt.scatter(x_data_1[:,0], x_data_1[:,1], c='b', marker='o', label='pass')\n",
    "plt.legend(loc=4)\n",
    "plt.xlabel(\"Exam 1 Score\")\n",
    "plt.ylabel(\"Exam 2 Score\")\n",
    "plt.show()"
   ]
  },
  {
   "cell_type": "markdown",
   "metadata": {},
   "source": [
    "## 初始化權重"
   ]
  },
  {
   "cell_type": "code",
   "execution_count": 15,
   "metadata": {
    "collapsed": true
   },
   "outputs": [],
   "source": [
    "### params / init weights\n",
    "w = theano.shared(floatX(np.random.randn(2))) #有兩個x就要搭配兩個w\n",
    "b = theano.shared(floatX(np.random.randn(1))[0])"
   ]
  },
  {
   "cell_type": "markdown",
   "metadata": {},
   "source": [
    "# Model"
   ]
  },
  {
   "cell_type": "code",
   "execution_count": 16,
   "metadata": {
    "collapsed": true
   },
   "outputs": [],
   "source": [
    "x = T.matrix()\n",
    "z = T.dot(w, x.T) + b.dimshuffle('x')\n",
    "y = 1 / (1 + T.exp(-1 * z))\n",
    "f = theano.function([x], y)"
   ]
  },
  {
   "cell_type": "markdown",
   "metadata": {},
   "source": [
    "# 用神經元概念來圖解model\n",
    "![alt tag](https://github.com/JiaMauJian/gradient-descent/blob/master/nb_img/model2.png?raw=true)"
   ]
  },
  {
   "cell_type": "markdown",
   "metadata": {},
   "source": [
    "# Cost"
   ]
  },
  {
   "cell_type": "code",
   "execution_count": 17,
   "metadata": {
    "collapsed": true
   },
   "outputs": [],
   "source": [
    "y_hat = T.vector()\n",
    "cost = -T.mean(y_hat * T.log(y) + (1 - y_hat) * T.log(1 - y))"
   ]
  },
  {
   "cell_type": "markdown",
   "metadata": {},
   "source": [
    "# <span style='color:red'>很重要</span>\n",
    "## 這邊稍微離題講一下vector & matrix\n",
    "\n",
    "### 搞清楚w, x, b, y是scalar, vector還是matrix\n",
    "### 搞清楚dot\n",
    "### x要轉置"
   ]
  },
  {
   "cell_type": "code",
   "execution_count": 18,
   "metadata": {
    "collapsed": false
   },
   "outputs": [
    {
     "name": "stdout",
     "output_type": "stream",
     "text": [
      "x是matrix, 有x1, x2\n",
      "(80L, 2L)\n",
      "w是躺平的vector, 長度2, 想成dim=1x2, 有幾個x就幾個w\n",
      "(2L,)\n",
      "想計算w*x, 要用dot, dot = 1x2 * 2x80 = 1 x 80\n",
      "(80L,)\n",
      "加上bias常數項\n",
      "[-69.98026758 -47.98694247 -65.19831213 -54.78904577 -48.92916607\n",
      " -64.36191801 -64.41781987 -50.17180878 -65.55164598 -72.64221992\n",
      " -51.17590848 -48.1636094  -55.02460167 -57.5568276  -60.69885309\n",
      " -48.6347212  -59.69176628 -62.77191569 -54.25008364 -54.0704296\n",
      " -37.22135515 -37.69545406 -35.62239147 -36.6324654  -51.99736701\n",
      " -34.43565062 -80.67203034 -59.63586443 -29.40917792 -39.22955453\n",
      " -49.17069621 -32.48932732 -47.21242445 -64.71525186 -49.87437679\n",
      " -50.35146283 -42.06219956 -45.38089199 -35.21315576 -57.5568276\n",
      " -44.95672069 -44.89783172 -26.33201563 -19.58880131 -41.29365577\n",
      " -45.0215839  -43.77296696 -45.96082038 -24.96263362 -42.88963233\n",
      " -28.93806612 -30.46917947 -17.76025597 -48.27541311 -37.10059008\n",
      " -46.3261027  -53.88778844 -24.25895304 -43.12817535 -36.85607283\n",
      " -45.08644711 -47.33318951 -45.19825083 -27.33611532 -34.08231677\n",
      " -39.63580312 -72.40068979 -50.87250225 -62.22996644 -39.8214314\n",
      " -37.39503495 -41.89150688 -31.41439019 -50.10694557 -35.08044222\n",
      " -20.06588734 -45.67234974 -16.87692134 -13.56420316 -38.93212254]\n",
      "y_hat (target) 也是躺平的vector, 長度80\n",
      "(80L,)\n"
     ]
    }
   ],
   "source": [
    "weights = np.random.randn(2)\n",
    "bias = np.random.randn(1)\n",
    "\n",
    "print 'x是matrix, 有x1, x2'\n",
    "print x_data.shape\n",
    "print 'w是躺平的vector, 長度2, 想成dim=1x2, 有幾個x就幾個w'\n",
    "print weights.shape\n",
    "print '想計算w*x, 要用dot, dot = 1x2 * 2x80 = 1 x 80'\n",
    "a = np.dot(weights, np.transpose(x_data))\n",
    "print a.shape\n",
    "print '加上bias常數項'\n",
    "print a + bias\n",
    "print 'y_hat (target) 也是躺平的vector, 長度80'\n",
    "print y_data.shape"
   ]
  },
  {
   "cell_type": "markdown",
   "metadata": {},
   "source": [
    "## gradient"
   ]
  },
  {
   "cell_type": "code",
   "execution_count": 19,
   "metadata": {
    "collapsed": true
   },
   "outputs": [],
   "source": [
    "### gradients\n",
    "def gd(params, grads, lr):\n",
    "    updates = []\n",
    "    for p, g in it.izip(params, grads):      \n",
    "        updates.append([p, p - lr*g])\n",
    "    return updates\n",
    "    \n",
    "dw, db = T.grad(cost, [w, b])\n",
    "train = theano.function(inputs=[x, y_hat],\n",
    "                        outputs=[cost, w, b],\n",
    "                        updates=gd([w, b], [dw, db], LEARNING_RATE))"
   ]
  },
  {
   "cell_type": "markdown",
   "metadata": {},
   "source": [
    "## training"
   ]
  },
  {
   "cell_type": "code",
   "execution_count": 20,
   "metadata": {
    "collapsed": false
   },
   "outputs": [
    {
     "name": "stdout",
     "output_type": "stream",
     "text": [
      "avg cost=0.786019\n",
      "w1=0.064520, w2=-0.018975, b=-0.409167\n"
     ]
    }
   ],
   "source": [
    "# training\n",
    "def training(epochs, x_data, y_data):\n",
    "    costs = []\n",
    "    for t in range(epochs): \n",
    "        all_cost = 0       \n",
    "        x_batches, y_batches = mk_batches(x_data, y_data, BATCH_SIZE, True)        \n",
    "        batch_num = len(x_batches)\n",
    "        for i in range(batch_num):        \n",
    "            results = train(x_batches[i], y_batches[i])            \n",
    "            all_cost += results[0]\n",
    "        \n",
    "        costs.append(all_cost/batch_num)\n",
    "    \n",
    "    print 'avg cost=%f' % (costs[-1])        \n",
    "    print 'w1=%f, w2=%f, b=%f' % (results[1][0], results[1][1], results[2])\n",
    "\n",
    "    return costs, results\n",
    "\n",
    "costs, results = training(EPOCHS, x_data, y_data)"
   ]
  },
  {
   "cell_type": "markdown",
   "metadata": {},
   "source": [
    "## cost chart (cost下不去，已經調過learning rate, batch size，跟牛頓法的0.4還有一段差異)"
   ]
  },
  {
   "cell_type": "code",
   "execution_count": 21,
   "metadata": {
    "collapsed": false
   },
   "outputs": [
    {
     "data": {
      "image/png": "[encoded data removed]",
      "text/plain": [
       "<matplotlib.figure.Figure at 0xc8bc9e8>"
      ]
     },
     "metadata": {},
     "output_type": "display_data"
    }
   ],
   "source": [
    "# cost chart\n",
    "def plot_cost(costs):\n",
    "    plt.plot(costs)\n",
    "    plt.ylim([0, 3.0])\n",
    "    plt.xlabel(\"No. of parameters updates by batch\")\n",
    "    plt.ylabel(\"Loss by batch of avg cost\")\n",
    "    plt.show()\n",
    "    \n",
    "plot_cost(costs)"
   ]
  },
  {
   "cell_type": "markdown",
   "metadata": {},
   "source": [
    "## 那做<span style='color:red'>feature scaling</span>呢?"
   ]
  },
  {
   "cell_type": "code",
   "execution_count": 22,
   "metadata": {
    "collapsed": true
   },
   "outputs": [],
   "source": [
    "# 重新設定權重\n",
    "w.set_value(floatX(np.random.randn(2)))\n",
    "b.set_value(floatX(np.random.randn(1))[0])"
   ]
  },
  {
   "cell_type": "markdown",
   "metadata": {},
   "source": [
    "## feature scaling有好幾種方法，這種方法做出來的mean=0, std=1"
   ]
  },
  {
   "cell_type": "code",
   "execution_count": 23,
   "metadata": {
    "collapsed": false
   },
   "outputs": [
    {
     "name": "stdout",
     "output_type": "stream",
     "text": [
      "mean=-0.000000, std=1.000000\n"
     ]
    }
   ],
   "source": [
    "x_data = feature_scaling(x_data)\n",
    "print 'mean=%f, std=%f' % (np.mean(x_data), np.std(x_data))"
   ]
  },
  {
   "cell_type": "markdown",
   "metadata": {},
   "source": [
    "## 再training一次(結果有好一點點)"
   ]
  },
  {
   "cell_type": "code",
   "execution_count": 24,
   "metadata": {
    "collapsed": false
   },
   "outputs": [
    {
     "name": "stdout",
     "output_type": "stream",
     "text": [
      "avg cost=0.472137\n",
      "w1=0.841838, w2=1.564813, b=-0.613885\n"
     ]
    },
    {
     "data": {
      "image/png": "[encoded data removed]",
      "text/plain": [
       "<matplotlib.figure.Figure at 0xc8bc978>"
      ]
     },
     "metadata": {},
     "output_type": "display_data"
    }
   ],
   "source": [
    "costs, results = training(EPOCHS, x_data, y_data)\n",
    "plot_cost(costs)"
   ]
  },
  {
   "cell_type": "code",
   "execution_count": null,
   "metadata": {
    "collapsed": true
   },
   "outputs": [],
   "source": []
  }
 ],
 "metadata": {
  "anaconda-cloud": {},
  "kernelspec": {
   "display_name": "Python [conda root]",
   "language": "python",
   "name": "conda-root-py"
  },
  "language_info": {
   "codemirror_mode": {
    "name": "ipython",
    "version": 2
   },
   "file_extension": ".py",
   "mimetype": "text/x-python",
   "name": "python",
   "nbconvert_exporter": "python",
   "pygments_lexer": "ipython2",
   "version": "2.7.12"
  }
 },
 "nbformat": 4,
 "nbformat_minor": 1
}

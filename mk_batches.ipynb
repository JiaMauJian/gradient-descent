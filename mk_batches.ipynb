{
 "cells": [
  {
   "cell_type": "markdown",
   "metadata": {},
   "source": [
    "# make batches\n",
    "\n",
    "1. make batches是用在切batch做gradient的時候\n",
    "2. 用yield回傳結果，感覺比較節省記憶體空間\n",
    "3. 用list.append結果，資料等於多了一倍 (修改別人寫好的code，我先用list釐清怎麼切batch)\n",
    "\n",
    "\n",
    "ref http://stackoverflow.com/questions/38157972/how-to-implement-mini-batch-gradient-descent-in-python\n"
   ]
  },
  {
   "cell_type": "code",
   "execution_count": 23,
   "metadata": {
    "collapsed": true
   },
   "outputs": [],
   "source": [
    "import numpy as np"
   ]
  },
  {
   "cell_type": "markdown",
   "metadata": {},
   "source": [
    "create 2組資料，像是x和y"
   ]
  },
  {
   "cell_type": "code",
   "execution_count": 24,
   "metadata": {
    "collapsed": true
   },
   "outputs": [],
   "source": [
    "a = np.array([i for i in range(10)])\n",
    "b = np.array([i*2 for i in range(10)])"
   ]
  },
  {
   "cell_type": "markdown",
   "metadata": {},
   "source": [
    "1. 丟x, y, 要切幾筆資料, 要不要洗牌(隨機挑選不是按照順序切batch)\n",
    "2. x, y的筆數要一致\n",
    "3. indices的意思是說拿到x_data_size array的index，然後作shuffle\n",
    "4. 接下來跑迴圈，把結果一組一組加到list裡"
   ]
  },
  {
   "cell_type": "code",
   "execution_count": 25,
   "metadata": {
    "collapsed": true
   },
   "outputs": [],
   "source": [
    "def mk_batches(x_data, y_data, batch_size, shuffle=False):\n",
    "    x_batch = list()\n",
    "    y_batch = list()\n",
    "    \n",
    "    x_data_size = x_data.shape[0]\n",
    "    y_data_size = y_data.shape[0]\n",
    "    assert x_data_size == y_data_size , 'the x, y dimension is error'\n",
    "    \n",
    "    if shuffle:\n",
    "        indices = np.arange(x_data_size)\n",
    "        np.random.shuffle(indices)\n",
    "    \n",
    "    #range(start, stop, step)\n",
    "    for start_idx in range(0, x_data_size, batch_size):\n",
    "        if shuffle:\n",
    "            idx = indices[start_idx : start_idx + batch_size]            \n",
    "        else:\n",
    "            idx = slice(start_idx, start_idx + batch_size)\n",
    "            \n",
    "        x_batch.append(x_data[idx])\n",
    "        y_batch.append(y_data[idx])\n",
    "    \n",
    "    return x_batch, y_batch"
   ]
  },
  {
   "cell_type": "code",
   "execution_count": 26,
   "metadata": {
    "collapsed": false
   },
   "outputs": [
    {
     "name": "stdout",
     "output_type": "stream",
     "text": [
      "x_batches\n",
      "[array([0, 1]), array([2, 3]), array([4, 5]), array([6, 7]), array([8, 9])]\n",
      "y_batches\n",
      "[array([0, 2]), array([4, 6]), array([ 8, 10]), array([12, 14]), array([16, 18])]\n"
     ]
    }
   ],
   "source": [
    "x_batches, y_batches = mk_batches(a, b, 2, shuffle=False)\n",
    "print 'x_batches'\n",
    "print x_batches\n",
    "print 'y_batches'\n",
    "print y_batches"
   ]
  },
  {
   "cell_type": "code",
   "execution_count": 27,
   "metadata": {
    "collapsed": false
   },
   "outputs": [
    {
     "name": "stdout",
     "output_type": "stream",
     "text": [
      "x_batches\n",
      "[array([4, 2]), array([6, 5]), array([1, 0]), array([7, 3]), array([9, 8])]\n",
      "y_batches\n",
      "[array([8, 4]), array([12, 10]), array([2, 0]), array([14,  6]), array([18, 16])]\n"
     ]
    }
   ],
   "source": [
    "x_batches, y_batches = mk_batches(a, b, 2, shuffle=True)\n",
    "print 'x_batches'\n",
    "print x_batches\n",
    "print 'y_batches'\n",
    "print y_batches"
   ]
  },
  {
   "cell_type": "markdown",
   "metadata": {},
   "source": [
    "### 重點技巧回顧 for loop的steps，就這樣"
   ]
  },
  {
   "cell_type": "code",
   "execution_count": 28,
   "metadata": {
    "collapsed": false
   },
   "outputs": [
    {
     "name": "stdout",
     "output_type": "stream",
     "text": [
      "0\n",
      "2\n",
      "4\n",
      "6\n",
      "8\n"
     ]
    }
   ],
   "source": [
    "# 每2步取一次\n",
    "for i in range(0, 10, 2):\n",
    "    print a[i]"
   ]
  },
  {
   "cell_type": "code",
   "execution_count": 29,
   "metadata": {
    "collapsed": false
   },
   "outputs": [
    {
     "name": "stdout",
     "output_type": "stream",
     "text": [
      "a[0 1]\n",
      "b[0 2]\n",
      "a[2 3]\n",
      "b[4 6]\n",
      "a[4 5]\n",
      "b[ 8 10]\n",
      "a[6 7]\n",
      "b[12 14]\n",
      "a[8 9]\n",
      "b[16 18]\n"
     ]
    }
   ],
   "source": [
    "# 每2步取一次\n",
    "# 取a的index，然後去抓b相對於index的資料\n",
    "steps = 2\n",
    "for i in range(0, 10, steps):\n",
    "    idx = a[i : i+steps]\n",
    "    print 'a' + str(idx)\n",
    "    print 'b' + str(b[idx])"
   ]
  },
  {
   "cell_type": "code",
   "execution_count": null,
   "metadata": {
    "collapsed": true
   },
   "outputs": [],
   "source": []
  }
 ],
 "metadata": {
  "anaconda-cloud": {},
  "kernelspec": {
   "display_name": "Python [conda root]",
   "language": "python",
   "name": "conda-root-py"
  },
  "language_info": {
   "codemirror_mode": {
    "name": "ipython",
    "version": 2
   },
   "file_extension": ".py",
   "mimetype": "text/x-python",
   "name": "python",
   "nbconvert_exporter": "python",
   "pygments_lexer": "ipython2",
   "version": "2.7.12"
  }
 },
 "nbformat": 4,
 "nbformat_minor": 1
}

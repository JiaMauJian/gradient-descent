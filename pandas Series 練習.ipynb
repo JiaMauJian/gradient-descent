{
 "cells": [
  {
   "cell_type": "markdown",
   "metadata": {},
   "source": [
    "# pandas Series 練習"
   ]
  },
  {
   "cell_type": "code",
   "execution_count": 54,
   "metadata": {
    "collapsed": false
   },
   "outputs": [
    {
     "name": "stdout",
     "output_type": "stream",
     "text": [
      "Populating the interactive namespace from numpy and matplotlib\n"
     ]
    }
   ],
   "source": [
    "%pylab inline\n",
    "import pandas as pd"
   ]
  },
  {
   "cell_type": "code",
   "execution_count": 55,
   "metadata": {
    "collapsed": false
   },
   "outputs": [
    {
     "name": "stdout",
     "output_type": "stream",
     "text": [
      "[ 0.35806919  0.13520588  0.61249624  0.71020204  0.74907233  0.06816419\n",
      "  0.16980255  0.47283192  0.30057607  0.94299057]\n"
     ]
    }
   ],
   "source": [
    "data = rand(10)\n",
    "print data"
   ]
  },
  {
   "cell_type": "markdown",
   "metadata": {},
   "source": [
    "### pandas Series多了index"
   ]
  },
  {
   "cell_type": "code",
   "execution_count": 56,
   "metadata": {
    "collapsed": false
   },
   "outputs": [
    {
     "name": "stdout",
     "output_type": "stream",
     "text": [
      "0    0.358069\n",
      "1    0.135206\n",
      "2    0.612496\n",
      "3    0.710202\n",
      "4    0.749072\n",
      "5    0.068164\n",
      "6    0.169803\n",
      "7    0.472832\n",
      "8    0.300576\n",
      "9    0.942991\n",
      "dtype: float64\n"
     ]
    }
   ],
   "source": [
    "s = pd.Series(data)\n",
    "print s"
   ]
  },
  {
   "cell_type": "code",
   "execution_count": 57,
   "metadata": {
    "collapsed": false
   },
   "outputs": [
    {
     "name": "stdout",
     "output_type": "stream",
     "text": [
      "0.358069192921\n"
     ]
    }
   ],
   "source": [
    "print s[0]"
   ]
  },
  {
   "cell_type": "code",
   "execution_count": 58,
   "metadata": {
    "collapsed": false
   },
   "outputs": [
    {
     "name": "stdout",
     "output_type": "stream",
     "text": [
      "0    0.358069\n",
      "1    0.135206\n",
      "2    0.612496\n",
      "3    0.710202\n",
      "4    0.749072\n",
      "dtype: float64\n"
     ]
    }
   ],
   "source": [
    "print s[0:5]"
   ]
  },
  {
   "cell_type": "code",
   "execution_count": 59,
   "metadata": {
    "collapsed": false
   },
   "outputs": [
    {
     "name": "stdout",
     "output_type": "stream",
     "text": [
      "5    0.068164\n",
      "6    0.169803\n",
      "7    0.472832\n",
      "8    0.300576\n",
      "9    0.942991\n",
      "dtype: float64\n"
     ]
    }
   ],
   "source": [
    "print s[5:]"
   ]
  },
  {
   "cell_type": "markdown",
   "metadata": {},
   "source": [
    "### 新增資料"
   ]
  },
  {
   "cell_type": "code",
   "execution_count": 60,
   "metadata": {
    "collapsed": false
   },
   "outputs": [
    {
     "name": "stdout",
     "output_type": "stream",
     "text": [
      "0       0.358069\n",
      "1       0.135206\n",
      "2       0.612496\n",
      "3       0.710202\n",
      "4       0.749072\n",
      "5       0.068164\n",
      "6       0.169803\n",
      "7       0.472832\n",
      "8       0.300576\n",
      "9       0.942991\n",
      "10    100.000000\n",
      "dtype: float64\n"
     ]
    }
   ],
   "source": [
    "s[10] = 100\n",
    "print s"
   ]
  },
  {
   "cell_type": "markdown",
   "metadata": {},
   "source": [
    "### 設定index名稱"
   ]
  },
  {
   "cell_type": "code",
   "execution_count": 61,
   "metadata": {
    "collapsed": false
   },
   "outputs": [
    {
     "name": "stdout",
     "output_type": "stream",
     "text": [
      "A    0.358069\n",
      "B    0.135206\n",
      "C    0.612496\n",
      "D    0.710202\n",
      "E    0.749072\n",
      "F    0.068164\n",
      "G    0.169803\n",
      "H    0.472832\n",
      "I    0.300576\n",
      "J    0.942991\n",
      "dtype: float64\n"
     ]
    }
   ],
   "source": [
    "#\n",
    "s = pd.Series(data, index=list('ABCDEFGHIJ'))\n",
    "print s"
   ]
  },
  {
   "cell_type": "code",
   "execution_count": 62,
   "metadata": {
    "collapsed": false
   },
   "outputs": [
    {
     "name": "stdout",
     "output_type": "stream",
     "text": [
      "0.358069192921\n"
     ]
    }
   ],
   "source": [
    "print s['A']"
   ]
  },
  {
   "cell_type": "code",
   "execution_count": 63,
   "metadata": {
    "collapsed": false
   },
   "outputs": [
    {
     "name": "stdout",
     "output_type": "stream",
     "text": [
      "A    0.358069\n",
      "B    0.135206\n",
      "C    0.612496\n",
      "D    0.710202\n",
      "E    0.749072\n",
      "dtype: float64\n"
     ]
    }
   ],
   "source": [
    "print s['A':'E']"
   ]
  },
  {
   "cell_type": "markdown",
   "metadata": {},
   "source": [
    "### 新增資料"
   ]
  },
  {
   "cell_type": "code",
   "execution_count": 64,
   "metadata": {
    "collapsed": false
   },
   "outputs": [
    {
     "name": "stdout",
     "output_type": "stream",
     "text": [
      "A      0.358069\n",
      "B      0.135206\n",
      "C      0.612496\n",
      "D      0.710202\n",
      "E      0.749072\n",
      "F      0.068164\n",
      "G      0.169803\n",
      "H      0.472832\n",
      "I      0.300576\n",
      "J      0.942991\n",
      "K    100.000000\n",
      "dtype: float64\n"
     ]
    }
   ],
   "source": [
    "s['K'] = 100\n",
    "print s"
   ]
  },
  {
   "cell_type": "code",
   "execution_count": 70,
   "metadata": {
    "collapsed": false
   },
   "outputs": [],
   "source": [
    "s = s.drop('K')"
   ]
  },
  {
   "cell_type": "code",
   "execution_count": 71,
   "metadata": {
    "collapsed": false
   },
   "outputs": [
    {
     "data": {
      "text/plain": [
       "<matplotlib.axes._subplots.AxesSubplot at 0x9e2e8d0>"
      ]
     },
     "execution_count": 71,
     "metadata": {},
     "output_type": "execute_result"
    },
    {
     "data": {
      "image/png": "[encoded data removed]",
      "text/plain": [
       "<matplotlib.figure.Figure at 0x9bd0908>"
      ]
     },
     "metadata": {},
     "output_type": "display_data"
    }
   ],
   "source": [
    "s.plot()"
   ]
  },
  {
   "cell_type": "code",
   "execution_count": null,
   "metadata": {
    "collapsed": true
   },
   "outputs": [],
   "source": []
  }
 ],
 "metadata": {
  "anaconda-cloud": {},
  "kernelspec": {
   "display_name": "Python [conda root]",
   "language": "python",
   "name": "conda-root-py"
  },
  "language_info": {
   "codemirror_mode": {
    "name": "ipython",
    "version": 2
   },
   "file_extension": ".py",
   "mimetype": "text/x-python",
   "name": "python",
   "nbconvert_exporter": "python",
   "pygments_lexer": "ipython2",
   "version": "2.7.12"
  }
 },
 "nbformat": 4,
 "nbformat_minor": 1
}

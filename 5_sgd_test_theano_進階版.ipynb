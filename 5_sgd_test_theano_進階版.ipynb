{
 "cells": [
  {
   "cell_type": "markdown",
   "metadata": {},
   "source": [
    "# sgd theano 進階版寫法\n",
    "\n",
    "首先假設一個很簡單的function => y=x\n",
    "\n",
    "1. 模擬資料一些資料從y=x產生\n",
    "2. init weights\n",
    "3. define model，真實世界裡的 <span style='color:red'>f</span> 我們是未知的，這裡我們當作已經知道是y=x，方便用來驗證gradient\n",
    "4. define cost\n",
    "5. implement SGD\n",
    "6. training"
   ]
  },
  {
   "cell_type": "code",
   "execution_count": 33,
   "metadata": {
    "collapsed": false
   },
   "outputs": [
    {
     "name": "stdout",
     "output_type": "stream",
     "text": [
      "Populating the interactive namespace from numpy and matplotlib\n"
     ]
    }
   ],
   "source": [
    "%pylab inline\n",
    "import theano\n",
    "import theano.tensor as T\n",
    "#import numpy as np\n",
    "#import matplotlib.pyplot as plt\n",
    "import itertools as it"
   ]
  },
  {
   "cell_type": "markdown",
   "metadata": {},
   "source": [
    "### 把floatX包起來方便使用"
   ]
  },
  {
   "cell_type": "code",
   "execution_count": 34,
   "metadata": {
    "collapsed": true
   },
   "outputs": [],
   "source": [
    "def floatX(X):\n",
    "    return np.asarray(X, dtype=theano.config.floatX)"
   ]
  },
  {
   "cell_type": "markdown",
   "metadata": {},
   "source": [
    "### 模擬資料"
   ]
  },
  {
   "cell_type": "code",
   "execution_count": 35,
   "metadata": {
    "collapsed": true
   },
   "outputs": [],
   "source": [
    "x_data = floatX(np.array(np.linspace(-5.0, 5.0, 100)))\n",
    "y_data = floatX(np.array(x_data))"
   ]
  },
  {
   "cell_type": "markdown",
   "metadata": {},
   "source": [
    "### 初始化權重"
   ]
  },
  {
   "cell_type": "code",
   "execution_count": 36,
   "metadata": {
    "collapsed": true
   },
   "outputs": [],
   "source": [
    "w = theano.shared(-1.)"
   ]
  },
  {
   "cell_type": "markdown",
   "metadata": {},
   "source": [
    "### 定義model / function\n",
    "\n",
    "這裡要特別注意，因為是跑SGD是一筆一筆資料跑而且我們資料只有一維，要將x宣告為theano <span style='color:red'>scalar()</span>"
   ]
  },
  {
   "cell_type": "code",
   "execution_count": 37,
   "metadata": {
    "collapsed": true
   },
   "outputs": [],
   "source": [
    "### model\n",
    "x = T.scalar()\n",
    "y = w*x"
   ]
  },
  {
   "cell_type": "markdown",
   "metadata": {},
   "source": [
    "如果要測試model output可以theano function一下"
   ]
  },
  {
   "cell_type": "code",
   "execution_count": 38,
   "metadata": {
    "collapsed": false
   },
   "outputs": [
    {
     "name": "stdout",
     "output_type": "stream",
     "text": [
      "-10.0\n"
     ]
    }
   ],
   "source": [
    "f = theano.function([x], y)\n",
    "print f(10)"
   ]
  },
  {
   "cell_type": "markdown",
   "metadata": {},
   "source": [
    "那如果x是二維或是多維以上呢?那就要將x宣告為theano <span style='color:red'>vector()</span>"
   ]
  },
  {
   "cell_type": "code",
   "execution_count": 39,
   "metadata": {
    "collapsed": false
   },
   "outputs": [
    {
     "name": "stdout",
     "output_type": "stream",
     "text": [
      "w2 我是vector\n",
      "<TensorType(float64, vector)>\n",
      "\n",
      "x2 我也是vector\n",
      "<TensorType(float64, vector)>\n",
      "\n",
      "Element Wise 相乘，我還是vector\n",
      "[-1. -1.]\n",
      "<TensorType(float64, vector)>\n",
      "\n",
      "矩陣相乘dot，我變成scalar了，這樣才能配合y_hat也是scalar，順利做gradient\n",
      "-2.0\n",
      "<TensorType(float64, scalar)>\n"
     ]
    }
   ],
   "source": [
    "#假設x是二維，w也要是二維(當然)\n",
    "w2 = theano.shared(floatX(np.array([-1.,-1.])))\n",
    "print \"w2 我是vector\"\n",
    "print w2\n",
    "print \"\"\n",
    "x2 = theano.shared(floatX(np.array([1.,1.])))\n",
    "print \"x2 我也是vector\"\n",
    "print x2\n",
    "print \"\"\n",
    "print \"Element Wise 相乘，我還是vector\"\n",
    "print (w2*x2).eval()\n",
    "print (w2*x2).type()\n",
    "print \"\"\n",
    "print \"矩陣相乘dot，我變成scalar了，這樣才能配合y_hat也是scalar，順利做gradient\"\n",
    "print (T.dot(w2,x2)).eval()\n",
    "print (T.dot(w2,x2)).type()"
   ]
  },
  {
   "cell_type": "markdown",
   "metadata": {},
   "source": [
    "### 實作SGD\n",
    "* 用izip配合迴圈寫法一次update多個參數，如同下面寫法\n",
    "* [w1, w1 - 0.01*dw1]\n",
    "* [w2, w2 - 0.01*dw2]\n",
    "* ...\n",
    "* [b, b - 0.01*db]"
   ]
  },
  {
   "cell_type": "code",
   "execution_count": 40,
   "metadata": {
    "collapsed": true
   },
   "outputs": [],
   "source": [
    "### gradients\n",
    "def sgd(params, grads, lr): \n",
    "    updates = []\n",
    "    for p, g in it.izip(params, grads):      \n",
    "        updates.append([p, p - lr*g])    \n",
    "    return updates"
   ]
  },
  {
   "cell_type": "markdown",
   "metadata": {},
   "source": [
    "### 定義cost/error/loss\n",
    "#### 很重要，取決你怎麼餵資料算cost，SGD/MiniBatch/All Data cost算法都不一樣)\n",
    "\n",
    "要特別注意cost function是<span style='color:red'>不用做sum</span>的(別照抄把全部data看過一輪的cost function)，因為是一筆做一次gradient"
   ]
  },
  {
   "cell_type": "code",
   "execution_count": 41,
   "metadata": {
    "collapsed": true
   },
   "outputs": [],
   "source": [
    "### cost/error/loss\n",
    "y_hat = T.scalar()\n",
    "#cost = T.sum((y-y_hat)**2)\n",
    "cost = (y-y_hat)**2"
   ]
  },
  {
   "cell_type": "markdown",
   "metadata": {},
   "source": [
    "### 定義train的theano function\n",
    "* 對cost的w偏微分\n",
    "* 輸入x, y_hat\n",
    "* 輸出cost, w\n",
    "* 更新用sgd"
   ]
  },
  {
   "cell_type": "code",
   "execution_count": 42,
   "metadata": {
    "collapsed": true
   },
   "outputs": [],
   "source": [
    "dw = T.grad(cost, w)\n",
    "train = theano.function(inputs=[x, y_hat],\n",
    "                        outputs=[cost,w],\n",
    "                        updates=sgd([w], [dw], 0.001))"
   ]
  },
  {
   "cell_type": "markdown",
   "metadata": {},
   "source": [
    "### 洗牌一下"
   ]
  },
  {
   "cell_type": "code",
   "execution_count": 43,
   "metadata": {
    "collapsed": true
   },
   "outputs": [],
   "source": [
    "# shuffle idx for Stochastic (不用作也沒關係，有可能data本身就是沒有順序性了)\n",
    "idx = np.arange(x_data.shape[0])\n",
    "np.random.shuffle(idx)"
   ]
  },
  {
   "cell_type": "markdown",
   "metadata": {},
   "source": [
    "### 開始training\n",
    "\n",
    "* cost_result第一個是cost變化，第二個是w的變化"
   ]
  },
  {
   "cell_type": "code",
   "execution_count": 44,
   "metadata": {
    "collapsed": false
   },
   "outputs": [
    {
     "name": "stdout",
     "output_type": "stream",
     "text": [
      "[array(2.641889861894235), array(0.6300838505139976)]\n",
      "[array(0.08353287393777704), array(0.9342229110366193)]\n",
      "[array(0.002641193006926286), array(0.9883037671144979)]\n",
      "[array(8.351084035528829e-05), array(0.9979202201576896)]\n"
     ]
    }
   ],
   "source": [
    "# training\n",
    "cost_list = []\n",
    "for t in range(4):    \n",
    "    for i in idx:\n",
    "        cost_result = train(x_data[i], y_data[i])        \n",
    "        cost_list.append(cost_result[0])\n",
    "    print cost_result"
   ]
  },
  {
   "cell_type": "markdown",
   "metadata": {},
   "source": [
    "### 畫圖看結果\n",
    "\n",
    "* SGD不是像GD一樣是看最陡的方向，而是取一筆後就走了，會亂跳，但是會慢慢收斂\n",
    "* SGD比GD快(但是如果在<span style='color:red'>GPU平行運算</span>的環境下，反而是mini batch或all data比較快，因為矩陣相乘靠GPU平行運算下 (ref ML2016 Hello World of deep learning)"
   ]
  },
  {
   "cell_type": "code",
   "execution_count": 45,
   "metadata": {
    "collapsed": false
   },
   "outputs": [
    {
     "data": {
      "image/png": "[encoded data removed]",
      "text/plain": [
       "<matplotlib.figure.Figure at 0xb5d9470>"
      ]
     },
     "metadata": {},
     "output_type": "display_data"
    }
   ],
   "source": [
    "plt.plot(cost_list)\n",
    "plt.xlabel(\"No. of parameters updates\")\n",
    "plt.ylabel(\"Loss/Cost/Error\")\n",
    "plt.show()"
   ]
  },
  {
   "cell_type": "markdown",
   "metadata": {},
   "source": [
    "### 如果不做shuffle呢???"
   ]
  },
  {
   "cell_type": "code",
   "execution_count": 46,
   "metadata": {
    "collapsed": false
   },
   "outputs": [
    {
     "name": "stdout",
     "output_type": "stream",
     "text": [
      "[array(3.5015986445754914e-06), array(0.999625748819931)]\n",
      "[array(1.1071566698359969e-07), array(0.9999334520723137)]\n",
      "[array(3.5006750229219912e-09), array(0.9999881666994918)]\n",
      "[array(1.1068646336026712e-10), array(0.999997895847312)]\n"
     ]
    }
   ],
   "source": [
    "w = theano.shared(floatX(np.array(-1.)))\n",
    "\n",
    "idx = np.arange(x_data.shape[0])\n",
    "\n",
    "# training\n",
    "cost_list = []\n",
    "for t in range(4):    \n",
    "    for i in idx:\n",
    "        cost_result = train(x_data[i], y_data[i])        \n",
    "        cost_list.append(cost_result[0])\n",
    "    print cost_result"
   ]
  },
  {
   "cell_type": "markdown",
   "metadata": {},
   "source": [
    "### 結果好平滑，為什麼?"
   ]
  },
  {
   "cell_type": "code",
   "execution_count": 47,
   "metadata": {
    "collapsed": false
   },
   "outputs": [
    {
     "data": {
      "image/png": "[encoded data removed]",
      "text/plain": [
       "<matplotlib.figure.Figure at 0xb6dedd8>"
      ]
     },
     "metadata": {},
     "output_type": "display_data"
    }
   ],
   "source": [
    "plt.plot(cost_list)\n",
    "plt.xlabel(\"No. of parameters updates\")\n",
    "plt.ylabel(\"Loss/Cost/Error\")\n",
    "plt.show()"
   ]
  },
  {
   "cell_type": "markdown",
   "metadata": {},
   "source": [
    "### 因為我們cost function是長這樣(convex)，我們是從最左邊慢慢往下走，而不是shuffle亂走，結果就會很平滑"
   ]
  },
  {
   "cell_type": "code",
   "execution_count": 48,
   "metadata": {
    "collapsed": false
   },
   "outputs": [
    {
     "data": {
      "image/png": "[encoded data removed]",
      "text/plain": [
       "<matplotlib.figure.Figure at 0xb65e7f0>"
      ]
     },
     "metadata": {},
     "output_type": "display_data"
    }
   ],
   "source": [
    "cost_f_list = []\n",
    "cost_f = theano.function([x, y_hat], cost)\n",
    "for i in range(x_data.shape[0]):\n",
    "    cost_f_list.append(cost_f(x_data[i], y_data[i]))\n",
    "    \n",
    "plt.plot(cost_f_list)\n",
    "plt.ylabel(\"Loss/Cost/Error\")\n",
    "plt.show()"
   ]
  },
  {
   "cell_type": "code",
   "execution_count": null,
   "metadata": {
    "collapsed": true
   },
   "outputs": [],
   "source": []
  }
 ],
 "metadata": {
  "anaconda-cloud": {},
  "kernelspec": {
   "display_name": "Python [conda root]",
   "language": "python",
   "name": "conda-root-py"
  },
  "language_info": {
   "codemirror_mode": {
    "name": "ipython",
    "version": 2
   },
   "file_extension": ".py",
   "mimetype": "text/x-python",
   "name": "python",
   "nbconvert_exporter": "python",
   "pygments_lexer": "ipython2",
   "version": "2.7.12"
  }
 },
 "nbformat": 4,
 "nbformat_minor": 1
}

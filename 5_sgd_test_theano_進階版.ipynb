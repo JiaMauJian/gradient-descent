{
 "cells": [
  {
   "cell_type": "markdown",
   "metadata": {},
   "source": [
    "# gd theano 進階版寫法\n",
    "\n",
    "首先假設一個很簡單的function => y=x\n",
    "\n",
    "1. 模擬資料一些資料從y=x產生\n",
    "2. init weights\n",
    "3. define model，真實世界裡的 <font color='red'>f</font> 我們是未知的，這裡我們當作已經知道是y=x，方便用來驗證gradient\n",
    "4. define cost\n",
    "5. implement SGD\n",
    "6. training"
   ]
  },
  {
   "cell_type": "code",
   "execution_count": 35,
   "metadata": {
    "collapsed": true
   },
   "outputs": [],
   "source": [
    "import theano\n",
    "import theano.tensor as T\n",
    "import numpy as np\n",
    "import matplotlib.pyplot as plt\n",
    "import itertools as it"
   ]
  },
  {
   "cell_type": "markdown",
   "metadata": {},
   "source": [
    "### 把floatX包起來方便使用"
   ]
  },
  {
   "cell_type": "code",
   "execution_count": 36,
   "metadata": {
    "collapsed": true
   },
   "outputs": [],
   "source": [
    "def floatX(X):\n",
    "    return np.asarray(X, dtype=theano.config.floatX)"
   ]
  },
  {
   "cell_type": "markdown",
   "metadata": {},
   "source": [
    "### 模擬資料"
   ]
  },
  {
   "cell_type": "code",
   "execution_count": 37,
   "metadata": {
    "collapsed": true
   },
   "outputs": [],
   "source": [
    "x_data = floatX(np.array(np.linspace(-5.0, 5.0, 100)))\n",
    "y_data = floatX(np.array(x_data))"
   ]
  },
  {
   "cell_type": "markdown",
   "metadata": {},
   "source": [
    "### 初始化權重"
   ]
  },
  {
   "cell_type": "code",
   "execution_count": 38,
   "metadata": {
    "collapsed": true
   },
   "outputs": [],
   "source": [
    "w = theano.shared(floatX(np.array(-1.)))"
   ]
  },
  {
   "cell_type": "markdown",
   "metadata": {},
   "source": [
    "### 定義model / function\n",
    "\n",
    "這裡要特別注意，因為是跑SGD是一筆一筆資料跑而且我們資料只有一維，要將x宣告為theano <font color='red'>scalar()</font>"
   ]
  },
  {
   "cell_type": "code",
   "execution_count": 39,
   "metadata": {
    "collapsed": true
   },
   "outputs": [],
   "source": [
    "### model\n",
    "x = T.scalar()\n",
    "y = w*x"
   ]
  },
  {
   "cell_type": "markdown",
   "metadata": {},
   "source": [
    "如果要測試model output可以theano function一下"
   ]
  },
  {
   "cell_type": "code",
   "execution_count": 40,
   "metadata": {
    "collapsed": false
   },
   "outputs": [
    {
     "name": "stdout",
     "output_type": "stream",
     "text": [
      "-10.0\n"
     ]
    }
   ],
   "source": [
    "f = theano.function([x], y)\n",
    "print f(10)"
   ]
  },
  {
   "cell_type": "markdown",
   "metadata": {},
   "source": [
    "那如果x是二維或是多維以上呢?那就要將x宣告為theano <font color='red'>vector()</font>"
   ]
  },
  {
   "cell_type": "code",
   "execution_count": 41,
   "metadata": {
    "collapsed": false
   },
   "outputs": [
    {
     "name": "stdout",
     "output_type": "stream",
     "text": [
      "w2 我是vector\n",
      "<TensorType(float64, vector)>\n",
      "\n",
      "x2 我也是vector\n",
      "<TensorType(float64, vector)>\n",
      "\n",
      "Element Wise 相乘，我還是vector\n",
      "[-1. -1.]\n",
      "<TensorType(float64, vector)>\n",
      "\n",
      "矩陣相乘dot，我變成scalar了，這樣才能配合y_hat也是scalar，順利做gradient\n",
      "-2.0\n",
      "<TensorType(float64, scalar)>\n"
     ]
    }
   ],
   "source": [
    "#假設x是二維，w也要是二維(當然)\n",
    "w2 = theano.shared(floatX(np.array([-1.,-1.])))\n",
    "print \"w2 我是vector\"\n",
    "print w2\n",
    "print \"\"\n",
    "x2 = theano.shared(floatX(np.array([1.,1.])))\n",
    "print \"x2 我也是vector\"\n",
    "print x2\n",
    "print \"\"\n",
    "print \"Element Wise 相乘，我還是vector\"\n",
    "print (w2*x2).eval()\n",
    "print (w2*x2).type()\n",
    "print \"\"\n",
    "print \"矩陣相乘dot，我變成scalar了，這樣才能配合y_hat也是scalar，順利做gradient\"\n",
    "print (T.dot(w2,x2)).eval()\n",
    "print (T.dot(w2,x2)).type()"
   ]
  },
  {
   "cell_type": "markdown",
   "metadata": {},
   "source": [
    "### 實作SGD\n",
    "* 用izip配合迴圈寫法一次update多個參數，如同下面寫法\n",
    "* [w1, w1 - 0.01*dw1]\n",
    "* [w2, w2 - 0.01*dw2]\n",
    "* ...\n",
    "* [b, b - 0.01*db]"
   ]
  },
  {
   "cell_type": "code",
   "execution_count": 42,
   "metadata": {
    "collapsed": true
   },
   "outputs": [],
   "source": [
    "### gradients\n",
    "def sgd(params, grads, lr): \n",
    "    updates = []\n",
    "    for p, g in it.izip(params, grads):      \n",
    "        updates.append([p, p - lr*g])    \n",
    "    return updates"
   ]
  },
  {
   "cell_type": "markdown",
   "metadata": {},
   "source": [
    "### 定義cost/error/loss\n",
    "#### 很重要，取決你怎麼餵資料算cost，SGD/MiniBatch/All Data cost算法都不一樣)\n",
    "\n",
    "要特別注意cost function是<font color='red'>不用做sum</font>的(別找抄把全部data看過一輪的cost function)，因為是一筆做一次gradient"
   ]
  },
  {
   "cell_type": "code",
   "execution_count": 43,
   "metadata": {
    "collapsed": true
   },
   "outputs": [],
   "source": [
    "### cost/error/loss\n",
    "y_hat = T.scalar()\n",
    "#cost = T.sum((y-y_hat)**2)\n",
    "cost = (y-y_hat)**2"
   ]
  },
  {
   "cell_type": "markdown",
   "metadata": {},
   "source": [
    "### 定義train的theano function\n",
    "* 對cost的w偏微分\n",
    "* 輸入x, y_hat\n",
    "* 輸出cost, w\n",
    "* 更新用sgd"
   ]
  },
  {
   "cell_type": "code",
   "execution_count": 44,
   "metadata": {
    "collapsed": true
   },
   "outputs": [],
   "source": [
    "dw = T.grad(cost, w)\n",
    "train = theano.function(inputs=[x, y_hat],\n",
    "                        outputs=[cost,w],\n",
    "                        updates=sgd([w], [dw], 0.001))"
   ]
  },
  {
   "cell_type": "markdown",
   "metadata": {},
   "source": [
    "### 洗牌一下"
   ]
  },
  {
   "cell_type": "code",
   "execution_count": 45,
   "metadata": {
    "collapsed": true
   },
   "outputs": [],
   "source": [
    "# shuffle idx for Stochastic (不用作也沒關係，有可能data本身就是沒有順序性了)\n",
    "idx = np.arange(x_data.shape[0])\n",
    "np.random.shuffle(idx)"
   ]
  },
  {
   "cell_type": "markdown",
   "metadata": {},
   "source": [
    "### 開始training\n",
    "\n",
    "* cost_result第一個是cost變化，第二個是w的變化"
   ]
  },
  {
   "cell_type": "code",
   "execution_count": 46,
   "metadata": {
    "collapsed": false
   },
   "outputs": [
    {
     "name": "stdout",
     "output_type": "stream",
     "text": [
      "[array(24.497500255076016), array(-1.0)]\n",
      "[array(18.40609663273038), array(-0.975502499744924)]\n",
      "[array(1.1818928946746756), array(-0.9568681556880504)]\n",
      "[array(14.838350789801055), array(-0.9556602123820701)]\n",
      "[array(59.94384247011384), array(-0.9404854384659741)]\n",
      "[array(6.56316710630522), array(-0.8787031222662692)]\n",
      "[array(0.22340332428663073), array(-0.8717162098280888)]\n",
      "[array(12.230445747680909), array(-0.8714774948742795)]\n",
      "[array(72.95148397415828), array(-0.8584071311844372)]\n",
      "[array(79.2008725195021), array(-0.7798974410847621)]\n",
      "[array(2.6327764788322687), array(-0.6909025690305239)]\n",
      "[array(2.099923721606711), array(-0.6877885203241674)]\n",
      "[array(25.21901733863722), array(-0.6853001472888971)]\n",
      "[array(52.905313985909835), array(-0.6553719266343075)]\n",
      "[array(36.33954127018013), array(-0.5914523770337817)]\n",
      "[array(24.190693634878276), array(-0.5457839777846488)]\n",
      "[array(10.817739263835765), array(-0.5144850460030588)]\n",
      "[array(14.931653919927001), array(-0.5001993463292518)]\n",
      "[array(28.176156976431304), array(-0.4802931199247911)]\n",
      "[array(2.8066689688173367), array(-0.4422247717075639)]\n",
      "[array(0.047493130509421666), array(-0.43833263363882957)]\n",
      "[array(13.724254368313538), array(-0.4382665944912796)]\n",
      "[array(23.0619225589992), array(-0.4191821571263586)]\n",
      "[array(0.397290614532205), array(-0.3866818576500795)]\n",
      "[array(23.33256438417917), array(-0.3861088486179927)]\n",
      "[array(1.6842807501685826), array(-0.3524425685023399)]\n",
      "[array(40.204259699574536), array(-0.3499518442536441)]\n",
      "[array(15.804101932271305), array(-0.2903878533295049)]\n",
      "[array(1.1813029180070125), array(-0.26589273445266026)]\n",
      "[array(2.155944447737871), array(-0.2640263789774189)]\n",
      "[array(2.533463654015764), array(-0.2606151456620477)]\n",
      "[array(33.35366544709783), array(-0.25659573710149886)]\n",
      "[array(21.90536352229877), array(-0.20350998412252982)]\n",
      "[array(9.75984891208713), array(-0.16710752163981132)]\n",
      "[array(5.674426769917212), array(-0.15038267199035601)]\n",
      "[array(14.89440110850891), array(-0.14051738645002448)]\n",
      "[array(21.82262587552634), array(-0.1143987120914174)]\n",
      "[array(3.6125309713192215), array(-0.07523386805714653)]\n",
      "[array(27.401466070329427), array(-0.0685143420477087)]\n",
      "[array(10.475750362294301), array(-0.017225435587516408)]\n",
      "[array(1.8469874565343691), array(0.00337127777768537)]\n",
      "[array(19.034374585967395), array(0.007077748232231167)]\n",
      "[array(1.4527010378559395), array(0.045417859055770816)]\n",
      "[array(12.307449786078966), array(0.048461496634028864)]\n",
      "[array(0.054641420833241895), array(0.07433002374573819)]\n",
      "[array(3.6731520245825595), array(0.07444808184902539)]\n",
      "[array(6.033121710054329), array(0.08238529628842846)]\n",
      "[array(0.002086667607773782), array(0.09553487134569713)]\n",
      "[array(2.2723578397291773), array(0.09553948549286913)]\n",
      "[array(6.24216542719158), array(0.10056426612901985)]\n",
      "[array(9.523562190458964), array(0.11444444720727572)]\n",
      "[array(17.186658318298345), array(0.13595311972460128)]\n",
      "[array(10.815774742539414), array(0.17573489247475674)]\n",
      "[array(12.867050412435493), array(0.20197832955293776)]\n",
      "[array(3.028978707571819), array(0.2342257004926948)]\n",
      "[array(1.232104353841006), array(0.24213659201653062)]\n",
      "[array(0.32681307399741427), array(0.24538811291293966)]\n",
      "[array(11.47887539415329), array(0.24625428817359973)]\n",
      "[array(1.2823746361296635), array(0.27671250561762034)]\n",
      "[array(7.041553272479534), array(0.2802584666527263)]\n",
      "[array(0.21133385557641735), array(0.29982536100640256)]\n",
      "[array(0.06116870255483301), array(0.300429021418554)]\n",
      "[array(2.5266266004360194), array(0.3006038963188218)]\n",
      "[array(1.3308350179766784), array(0.30782906267916454)]\n",
      "[array(1.654477403276489), array(0.3116744567753914)]\n",
      "[array(3.604917079634216), array(0.31648170944692744)]\n",
      "[array(0.19523062780495795), array(0.3270298312147218)]\n",
      "[array(4.291130608243172), array(0.327610037104553)]\n",
      "[array(4.689127681635682), array(0.3403738522863404)]\n",
      "[array(7.6767427788185225), array(0.3545913835285106)]\n",
      "[array(4.968622962980261), array(0.37838016658129353)]\n",
      "[array(0.11320749359624936), array(0.3943662168836285)]\n",
      "[array(5.540320945355012), array(0.39474006489789787)]\n",
      "[array(0.38753809833165914), array(0.413047309848517)]\n",
      "[array(0.19683485527217967), array(0.4143678186555612)]\n",
      "[array(8.554454106895179), array(0.41504003190320177)]\n",
      "[array(0.06380491596258611), array(0.44428803030804165)]\n",
      "[array(1.19712456035725), array(0.4445176633533689)]\n",
      "[array(0.9492490942570885), array(0.448827879831481)]\n",
      "[array(6.618580272912113), array(0.4522723541055675)]\n",
      "[array(6.310301843437534), array(0.4764397676824522)]\n",
      "[array(2.0673397399478035), array(0.5005451196703405)]\n",
      "[array(5.790129019437508), array(0.5088235040504603)]\n",
      "[array(0.0005577229079799461), array(0.5324000760859119)]\n",
      "[array(1.339079039277639), array(0.532402461556394)]\n",
      "[array(0.004897243936880508), array(0.5381299469650416)]\n",
      "[array(1.2018909433172933), array(0.53815115311991)]\n",
      "[array(0.026062825831730176), array(0.5433558470427654)]\n",
      "[array(3.662388859800284), array(0.5434699964331078)]\n",
      "[array(1.7228083212884868), array(0.5595144571747276)]\n",
      "[array(1.0547883085898204), array(0.5673367721149111)]\n",
      "[array(2.6257186767283467), array(0.5722125657604481)]\n",
      "[array(3.181806952356677), array(0.5844883759716382)]\n",
      "[array(2.680317363497913), array(0.5998035044463087)]\n",
      "[array(1.2399255381297558), array(0.6131985111156678)]\n",
      "[array(1.5593917700008402), array(0.6196096836357433)]\n",
      "[array(0.33956717748939647), array(0.6278085872508794)]\n",
      "[array(0.294258847715613), array(0.6296332783418492)]\n",
      "[array(0.15298101253780727), array(0.6312222917737159)]\n",
      "[array(2.2657534612980372), array(0.6320519569575124)]\n",
      "[array(0.7745768020513567), array(0.6443675732742238)]\n",
      "[array(0.5819751125453886), array(0.6487236260064377)]\n",
      "[array(0.03736980545738097), array(0.6520371145051322)]\n",
      "[array(0.46916796337613353), array(0.6522519064097587)]\n",
      "[array(1.8953407212864635), array(0.6549502272461568)]\n",
      "[array(0.20751819310532263), array(0.665936124765577)]\n",
      "[array(0.007063701630443912), array(0.6671785110784323)]\n",
      "[array(0.3867096420557584), array(0.6672209584675918)]\n",
      "[array(2.306624209541374), array(0.6695450810461954)]\n",
      "[array(2.5042211620396513), array(0.6835053768520134)]\n",
      "[array(0.08324472147183173), array(0.6993301080094128)]\n",
      "[array(0.06639666022646036), array(0.6998838363586047)]\n",
      "[array(0.7973901662473397), array(0.7003263094291708)]\n",
      "[array(1.6727922641918462), array(0.7056480322986589)]\n",
      "[array(1.14900562800227), array(0.7170139645684858)]\n",
      "[array(0.7648760044905228), array(0.7251345463933111)]\n",
      "[array(0.3420418327241813), array(0.7307000039250168)]\n",
      "[array(0.47211807826140034), array(0.7332402329462526)]\n",
      "[array(0.8908907985572524), array(0.7367798827478381)]\n",
      "[array(0.08874295955289765), array(0.7435490522768053)]\n",
      "[array(0.0015016665686848204), array(0.7442411375300733)]\n",
      "[array(0.43394178787466126), array(0.7442528803612243)]\n",
      "[array(0.7291858368775513), array(0.7476464027476157)]\n",
      "[array(0.012561775302996866), array(0.7534254829336475)]\n",
      "[array(0.7377431540432405), array(0.7535273732299559)]\n",
      "[array(0.053254608986152314), array(0.7595137836781356)]\n",
      "[array(1.2712026362969835), array(0.7599566748325698)]\n",
      "[array(0.4997036679877522), array(0.7705481181514816)]\n",
      "[array(0.03735115121773343), array(0.774903747436036)]\n",
      "[array(0.06816795747897406), array(0.7752356156994324)]\n",
      "[array(0.0801045884195578), array(0.775842188290469)]\n",
      "[array(1.0545963975794117), array(0.7765569043006642)]\n",
      "[array(0.6926170526871982), array(0.7859964118789021)]\n",
      "[array(0.30859281478168155), array(0.7924693599146637)]\n",
      "[array(0.17941746280853135), array(0.7954433093483935)]\n",
      "[array(0.47094019630466255), array(0.7971975170669189)]\n",
      "[array(0.6900010036544827), array(0.8018418408394248)]\n",
      "[array(0.11422319248659353), array(0.808805985102547)]\n",
      "[array(0.8663961522309472), array(0.8100008257731387)]\n",
      "[array(0.33122862048069285), array(0.8191208249074134)]\n",
      "[array(0.058399168185126346), array(0.8227832544857344)]\n",
      "[array(0.6018403854406034), array(0.8234423250269032)]\n",
      "[array(0.04593238136637981), array(0.8302598183534585)]\n",
      "[array(0.3891444023858472), array(0.8308010264624733)]\n",
      "[array(0.0017276855421109786), array(0.8354008699987527)]\n",
      "[array(0.11613994566895028), array(0.835421862643636)]\n",
      "[array(0.19075889669976398), array(0.8368332280598999)]\n",
      "[array(6.597752038960243e-05), array(0.8391714357039145)]\n",
      "[array(0.07184878662258809), array(0.8391722561740925)]\n",
      "[array(0.19736856757324614), array(0.840065743639792)]\n",
      "[array(0.30112175809017144), array(0.8425338648799187)]\n",
      "[array(0.5434181732635546), array(0.8463584555814119)]\n",
      "[array(0.34197971729985505), array(0.8534322997727074)]\n",
      "[array(0.40683819395951465), array(0.8580988083795767)]\n",
      "[array(0.09577208353356347), array(0.8638329137709928)]\n",
      "[array(0.038957421788125945), array(0.8652395985460859)]\n",
      "[array(0.010333373735674856), array(0.8658177716795556)]\n",
      "[array(0.36294603536566733), array(0.8659717916845149)]\n",
      "[array(0.04054689802398388), array(0.871387756576194)]\n",
      "[array(0.2226440966825305), array(0.8720182859401889)]\n",
      "[array(0.0066820818578681804), array(0.8754975970014314)]\n",
      "[array(0.0019340690893853874), array(0.8756049376100772)]\n",
      "[array(0.07988841031803262), array(0.875636033202655)]\n",
      "[array(0.042079147731358436), array(0.8769207849257681)]\n",
      "[array(0.052312268711196305), array(0.8776045583428471)]\n",
      "[array(0.11398245184729862), array(0.8784593658095783)]\n",
      "[array(0.00617292024790608), array(0.8803349928804182)]\n",
      "[array(0.13567956685821367), array(0.8804381628947188)]\n",
      "[array(0.1482636794053824), array(0.8827077761784079)]\n",
      "[array(0.2427279032502922), array(0.8852358837472591)]\n",
      "[array(0.15710093051093024), array(0.8894659150702162)]\n",
      "[array(0.0035794631062352226), array(0.8923084940016061)]\n",
      "[array(0.17517722361497057), array(0.8923749702398767)]\n",
      "[array(0.012253414338330423), array(0.8956302952141026)]\n",
      "[array(0.0062236436837009804), array(0.8958651030898835)]\n",
      "[array(0.2704799116816429), array(0.8959846335041514)]\n",
      "[array(0.002017422481757713), array(0.9011854018289438)]\n",
      "[array(0.03785140948928138), array(0.9012262343075269)]\n",
      "[array(0.03001393285535133), array(0.9019926606804392)]\n",
      "[array(0.20927028017277857), array(0.9026051440528831)]\n",
      "[array(0.19952294605470408), array(0.9069025020218996)]\n",
      "[array(0.06536640015712032), array(0.9111888244341655)]\n",
      "[array(0.18307580661873354), array(0.9126608553974008)]\n",
      "[array(1.7634420736637297e-05), array(0.9168531521608222)]\n",
      "[array(0.04233981219054219), array(0.9168535763361504)]\n",
      "[array(0.00015484402522695422), array(0.9178720161036072)]\n",
      "[array(0.03800211587287565), array(0.917875786901766)]\n",
      "[array(0.0008240702143060531), array(0.918801265866841)]\n",
      "[array(0.11579962940524204), array(0.9188215634791893)]\n",
      "[array(0.054472797067309), array(0.9216745287337137)]\n",
      "[array(0.033350935662889776), array(0.923065463156109)]\n",
      "[array(0.08302156360975442), array(0.9239324583192973)]\n",
      "[array(0.10060429955054505), array(0.9261152964070125)]\n",
      "[array(0.08474789796035473), array(0.9288385745595445)]\n",
      "[array(0.039204716730530643), array(0.9312204239234606)]\n",
      "[array(0.04930579356161799), array(0.9323604343441967)]\n",
      "[array(0.010736640705487653), array(0.9338183323387675)]\n",
      "[array(0.009304054489871863), array(0.9341427919991208)]\n",
      "[array(0.0048370463203306225), array(0.934425344350558)]\n",
      "[array(0.07163996538485132), array(0.9345728722718998)]\n",
      "[array(0.024491038515319204), array(0.9367627885305676)]\n",
      "[array(0.018401241630989735), array(0.937537365332619)]\n",
      "[array(0.0011815811451399774), array(0.9381265573104783)]\n",
      "[array(0.014834436857349722), array(0.93816475079362)]\n",
      "[array(0.0599280309993092), array(0.9386445559871865)]\n",
      "[array(0.006561435930577894), array(0.9405980266844826)]\n",
      "[array(0.00022334439688067773), array(0.9408189431141684)]\n",
      "[array(0.012227219705974277), array(0.9408264909481758)]\n",
      "[array(0.07293224145964006), array(0.9412397576244943)]\n",
      "[array(0.07917998159506469), array(0.9437221245621107)]\n",
      "[array(0.002632082027714118), array(0.9465360183340051)]\n",
      "[array(0.0020993698218023664), array(0.9466344802122901)]\n",
      "[array(0.025212365283314515), array(0.9467131590982132)]\n",
      "[array(0.05289135907756533), array(0.9476594477074323)]\n",
      "[array(0.03632995593877381), array(0.9496804947449919)]\n",
      "[array(0.024184312821930957), array(0.9511244658553859)]\n",
      "[array(0.01081488585368564), array(0.9521140944393057)]\n",
      "[array(0.014927715376779081), array(0.9525657883449364)]\n",
      "[array(0.02816872491226829), array(0.9531951954692851)]\n",
      "[array(0.002805928649834955), array(0.9543988635625374)]\n",
      "[array(4.7480603180249616e-05), array(0.9545219275415978)]\n",
      "[array(0.013720634302626818), array(0.9545240156073672)]\n",
      "[array(0.023055839483570522), array(0.9551274389080775)]\n",
      "[array(0.00039718582063355686), array(0.9561550530634781)]\n",
      "[array(0.02332640992117948), array(0.9561731708101461)]\n",
      "[array(0.0016838364850896475), array(0.9572376516476774)]\n",
      "[array(0.04019365496600647), array(0.9573164048756908)]\n",
      "[array(0.015799933262296447), array(0.9591997352207073)]\n",
      "[array(0.001180991324091294), array(0.9599742367268993)]\n",
      "[array(0.002155375771268601), array(0.9600332482848318)]\n",
      "[array(0.0025327953987797523), array(0.9601411067260996)]\n",
      "[array(0.03334486770431588), array(0.9602681948206624)]\n",
      "[array(0.021899585514057945), array(0.9619466923142349)]\n",
      "[array(0.009757274543148451), array(0.9630976874232487)]\n",
      "[array(0.005672930018466178), array(0.9636265038502873)]\n",
      "[array(0.01489047239158729), array(0.9639384304242474)]\n",
      "[array(0.02181686969110999), array(0.9647642664911057)]\n",
      "[array(0.0036115780889942467), array(0.966002604253287)]\n",
      "[array(0.02739423834746584), array(0.9662150662969036)]\n",
      "[array(0.010472987159033088), array(0.9678367500088332)]\n",
      "[array(0.0018465002740809052), array(0.9684879893681585)]\n",
      "[array(0.019029353862476193), array(0.9686051827961282)]\n",
      "[array(0.001452317856880217), array(0.969817443644083)]\n",
      "[array(0.012304203432909968), array(0.9699136792206693)]\n",
      "[array(5.462700798957722e-05), array(0.9707316059803522)]\n",
      "[array(0.003672183152157933), array(0.9707353388129739)]\n",
      "[array(0.006031530345139364), array(0.9709863024669653)]\n",
      "[array(2.0861172045530634e-06), array(0.9714020736962801)]\n",
      "[array(0.002271758456737402), array(0.9714022195891803)]\n",
      "[array(0.006240518922524248), array(0.9715610961470181)]\n",
      "[array(0.00952105014719793), array(0.971999968120058)]\n",
      "[array(0.01718212496950045), array(0.9726800423562604)]\n",
      "[array(0.01081292185057403), array(0.9739378865442756)]\n",
      "[array(0.012863656452630101), array(0.9747676674343745)]\n",
      "[array(0.00302817974964012), array(0.9757872843420998)]\n",
      "[array(0.0012317793599598153), array(0.9760374157022021)]\n",
      "[array(0.00032672687005777816), array(0.9761402242594639)]\n",
      "[array(0.011475847595205643), array(0.9761676115135278)]\n",
      "[array(0.0012820363823861202), array(0.9771306578822726)]\n",
      "[array(0.007039695912167067), array(0.9772427762261923)]\n",
      "[array(0.00021127811175103683), array(0.977861454144214)]\n",
      "[array(6.11525680009792e-05), array(0.9778805410447835)]\n",
      "[array(0.0025259601486191715), array(0.977886070345308)]\n",
      "[array(0.001330483981770731), array(0.9781145200318233)]\n",
      "[array(0.0016540409994678722), array(0.9782361060316466)]\n",
      "[array(0.0036039662056360777), array(0.978388104658535)]\n",
      "[array(0.000195179131550394), array(0.9787216215619526)]\n",
      "[array(0.004289998730747028), array(0.9787399668632282)]\n",
      "[array(0.004687890823897226), array(0.9791435409031319)]\n",
      "[array(0.007674717873685418), array(0.9795930794179991)]\n",
      "[array(0.004967312382382225), array(0.9803452475702538)]\n",
      "[array(0.00011317763269801737), array(0.9808507041920186)]\n",
      "[array(0.005538859567184122), array(0.9808625247449865)]\n",
      "[array(0.00038743587686779413), array(0.981441374305169)]\n",
      "[array(0.00019678293586830177), array(0.9814831269525082)]\n",
      "[array(0.00855219768662288), array(0.981504381398155)]\n",
      "[array(6.378808605105065e-05), array(0.9824291623282473)]\n",
      "[array(0.001196808793144896), array(0.9824364230049711)]\n",
      "[array(0.0009489987095016203), array(0.9825727060404238)]\n",
      "[array(0.0066168344807768335), array(0.9826816155144595)]\n",
      "[array(0.006308637366332832), array(0.9834457554359749)]\n",
      "[array(0.00206679443486572), array(0.9842079330565765)]\n",
      "[array(0.005788601749043012), array(0.984469684028412)]\n",
      "[array(5.575757966318508e-07), array(0.9852151423641771)]\n",
      "[array(0.0013387258285346797), array(0.9852152177894278)]\n",
      "[array(4.895952184027496e-06), array(0.9853963128924151)]\n",
      "[array(0.0012015739188694745), array(0.9853969834014651)]\n",
      "[array(2.6055951203866036e-05), array(0.9855615485665817)]\n",
      "[array(0.003661422826390622), array(0.9855651578111498)]\n",
      "[array(0.001722353893738451), array(0.9860724612895653)]\n",
      "[array(0.0010545100856087948), array(0.9863197919815917)]\n",
      "[array(0.0026250260872564923), array(0.9864739577785138)]\n",
      "[array(0.0031809676827059753), array(0.9868621017816556)]\n",
      "[array(0.002679610372454381), array(0.9873463447906727)]\n",
      "[array(0.0012395984812438889), array(0.987769876225365)]\n",
      "[array(0.0015589804470621325), array(0.9879725885615745)]\n",
      "[array(0.00033947760938212037), array(0.9882318264624385)]\n",
      "[array(0.00029418123064957623), array(0.9882895206506315)]\n",
      "[array(0.0001529406605230972), array(0.9883397630398408)]\n",
      "[array(0.002265155820352376), array(0.9883659958961791)]\n"
     ]
    }
   ],
   "source": [
    "# training\n",
    "cost_list = []\n",
    "for t in range(3):    \n",
    "    for i in idx:\n",
    "        cost_result = train(x_data[i], y_data[i])\n",
    "        print cost_result\n",
    "        cost_list.append(cost_result[0])"
   ]
  },
  {
   "cell_type": "markdown",
   "metadata": {},
   "source": [
    "### 畫圖看結果\n",
    "\n",
    "* SGD不是像GD一樣是看最陡的方向，而是取一筆後就走了，會亂跳，但是會慢慢收斂\n",
    "* SGD比GD快(如果在GPU平行運算的環境下，反而是mini batch或all data比較快，因為矩陣相乘靠GPU平行運算下 (ref ML2016 Hello World of deep learning)"
   ]
  },
  {
   "cell_type": "code",
   "execution_count": 47,
   "metadata": {
    "collapsed": false
   },
   "outputs": [
    {
     "data": {
      "image/png": "[encoded data removed]",
      "text/plain": [
       "<matplotlib.figure.Figure at 0xb00ebe0>"
      ]
     },
     "metadata": {},
     "output_type": "display_data"
    }
   ],
   "source": [
    "plt.plot(cost_list)\n",
    "plt.xlabel(\"No. of parameters updates\")\n",
    "plt.ylabel(\"Loss/Cost/Error\")\n",
    "plt.show()"
   ]
  },
  {
   "cell_type": "markdown",
   "metadata": {},
   "source": [
    "### 如果不做shuffle呢???"
   ]
  },
  {
   "cell_type": "code",
   "execution_count": 48,
   "metadata": {
    "collapsed": false
   },
   "outputs": [
    {
     "name": "stdout",
     "output_type": "stream",
     "text": [
      "[array(0.0031610265651050113), array(0.9887553985128773)]\n",
      "[array(0.002738725059008596), array(0.9893176285872335)]\n",
      "[array(0.002380816305290467), array(0.9898303845948997)]\n",
      "[array(0.0020763654485852034), array(0.9902986060979658)]\n",
      "[array(0.0018164550719730263), array(0.9907266611732576)]\n",
      "[array(0.0015937864122843527), array(0.9911184197633212)]\n",
      "[array(0.001402364197281175), array(0.9914773167996171)]\n",
      "[array(0.0012372466447381754), array(0.9918064066330203)]\n",
      "[array(0.0010943464289425182), array(0.9921084100616319)]\n",
      "[array(0.000970271658781572), array(0.9923857550421717)]\n",
      "[array(0.0008621983799539139), array(0.992640612001504)]\n",
      "[array(0.0007677680021511846), array(0.9928749245231784)]\n",
      "[array(0.0006850045019315554), array(0.9930904360653785)]\n",
      "[array(0.0006122473692468727), array(0.9932887132673591)]\n",
      "[array(0.0005480971295564714), array(0.9934711663180593)]\n",
      "[array(0.0004913709438940553), array(0.9936390667904125)]\n",
      "[array(0.00044106631127912595), array(0.9937935632857234)]\n",
      "[array(0.00039633130569330155), array(0.9939356951825217)]\n",
      "[array(0.00035644009950158446), array(0.994066404742025)]\n",
      "[array(0.00032077277655904877), array(0.9941865477865046)]\n",
      "[array(0.00028879863652115143), array(0.9942969031363996)]\n",
      "[array(0.0002600623487668081), array(0.9943981809661221)]\n",
      "[array(0.00023417243886209342), array(0.9944910302164082)]\n",
      "[array(0.0002107916896137034), array(0.9945760451822043)]\n",
      "[array(0.00018962911789376173), array(0.9946537713789352)]\n",
      "[array(0.0001704332517724371), array(0.9947247107761569)]\n",
      "[array(0.00015298648335886067), array(0.9947893264757102)]\n",
      "[array(0.00013710031369666906), array(0.9948480469012543)]\n",
      "[array(0.0001226113391099603), array(0.994901269557233)]\n",
      "[array(0.00010937785513902912), array(0.9949493644077007)]\n",
      "[array(9.727697590072818e-05), array(0.9949926769188253)]\n",
      "[array(8.620218435115058e-05), array(0.9950315308031559)]\n",
      "[array(7.606124330945033e-05), array(0.9950662304987506)]\n",
      "[array(6.677440885209656e-05), array(0.9950970634119178)]\n",
      "[array(5.827289730931324e-05), array(0.9951243019485183)]\n",
      "[array(5.0497564994555205e-05), array(0.9951482053554537)]\n",
      "[array(4.3397766297907735e-05), array(0.9951690213910422)]\n",
      "[array(3.6930361137127487e-05), array(0.9951869878404144)]\n",
      "[array(3.105884719810873e-05), array(0.9952023338897957)]\n",
      "[array(2.575259608175403e-05), array(0.995215281371544)]\n",
      "[array(2.098617554763006e-05), array(0.9952260458900378)]\n",
      "[array(1.67387426211802e-05), array(0.9952348378369499)]\n",
      "[array(1.2993494505770548e-05), array(0.9952418633030509)]\n",
      "[array(9.737166091588764e-06), array(0.9952473248924643)]\n",
      "[array(6.9595644454795375e-06), array(0.9952514224442098)]\n",
      "[array(4.653132053228664e-06), array(0.9952543536649233)]\n",
      "[array(2.8125318138299113e-06), array(0.9952563146758056)]\n",
      "[array(1.4342478914041962e-06), array(0.9952575004761366)]\n",
      "[array(5.161975461001048e-07), array(0.9952581053250709)]\n",
      "[array(5.735001623644928e-08), array(0.9952583230429164)]\n",
      "[array(5.734943109340191e-08), array(0.9952583472326775)]\n",
      "[array(5.161396136069366e-07), array(0.9952583714223151)]\n",
      "[array(1.4335894970959327e-06), array(0.9952585891279431)]\n",
      "[array(2.809118738398982e-06), array(0.9952591938380329)]\n",
      "[array(4.641323965869608e-06), array(0.9952603789186467)]\n",
      "[array(6.927606955169845e-06), array(0.9952623374397547)]\n",
      "[array(9.663806875473913e-06), array(0.9952652619228165)]\n",
      "[array(1.2843839586470302e-05), array(0.9952693440100272)]\n",
      "[array(1.645934778162379e-05), array(0.9952747740559293)]\n",
      "[array(2.0499366551026e-05), array(0.9952817406424911)]\n",
      "[array(2.4950009659903953e-05), array(0.9952904300192285)]\n",
      "[array(2.979418248546005e-05), array(0.9953010254705167)]\n",
      "[array(3.501132810134662e-05), array(0.9953137066128802)]\n",
      "[array(4.05772134201557e-05), array(0.9953286486257715)]\n",
      "[array(4.6463762572548793e-05), array(0.9953460214201385)]\n",
      "[array(5.263894478984998e-05), array(0.9953659887499297)]\n",
      "[array(5.906672393858745e-05), array(0.9953887072725871)]\n",
      "[array(6.570707650586803e-05), array(0.9954143255655171)]\n",
      "[array(7.251608423319595e-05), array(0.9954429831064938)]\n",
      "[array(7.944610672699806e-05), array(0.9954748092269264)]\n",
      "[array(8.64460382279681e-05), array(0.9955099220478929)]\n",
      "[array(9.346165129715274e-05), array(0.995548427409782)]\n",
      "[array(0.0001004360284828237), array(0.995590417807289)]\n",
      "[array(0.00010731008108841096), array(0.9956359713423376)]\n",
      "[array(0.00011402315199926252), array(0.995685150708243)]\n",
      "[array(0.00012051369718778102), array(0.9957380022190557)]\n",
      "[array(0.0001267200380597147), array(0.9957945548985182)]\n",
      "[array(0.00013258117429639155), array(0.9958548196433915)]\n",
      "[array(0.00013803764436748947), array(0.9959187884760552)]\n",
      "[array(0.0001430324185252451), array(0.9959864339012225)]\n",
      "[array(0.00014751180693810338), array(0.9960577083813258)]\n",
      "[array(0.0001514263637772544), array(0.9961325439446004)]\n",
      "[array(0.0001547317666322918), array(0.9962108519391105)]\n",
      "[array(0.00015738964969329192), array(0.9962925229449122)]\n",
      "[array(0.0001593683687808813), array(0.996377426855229)]\n",
      "[array(0.00016064367660111728), array(0.9964654131359262)]\n",
      "[array(0.00016119928759834024), array(0.9965563112707175)]\n",
      "[array(0.00016102731350320354), array(0.9966499313974309)]\n",
      "[array(0.00016012855312289286), array(0.9967460651383219)]\n",
      "[array(0.00015851262306552756), array(0.9968444866248788)]\n",
      "[array(0.0001561979198682258), array(0.9969449537148397)]\n",
      "[array(0.00015321140831273228), array(0.9970472093962851)]\n",
      "[array(0.00014958823544018138), array(0.9971509833707214)]\n",
      "[array(0.00014537117476446818), array(0.9972559938040779)]\n",
      "[array(0.00014060991025874724), array(0.9973619492315696)]\n",
      "[array(0.000135360174661545), array(0.9974685505994746)]\n",
      "[array(0.00012968276132213494), array(0.9975754934241137)]\n",
      "[array(0.00012364243298254525), array(0.9976824700457586)]\n",
      "[array(0.00011730675439290487), array(0.9977891719528957)]\n",
      "[array(0.0001107448783147041), array(0.9978952921503002)]\n",
      "[array(9.994725267902046e-05), array(0.9980005275427851)]\n",
      "[array(8.659466785657993e-05), array(0.9981005011656459)]\n",
      "[array(7.527809208376579e-05), array(0.9981916774973081)]\n",
      "[array(6.565178048001628e-05), array(0.9982749348719984)]\n",
      "[array(5.743377675554307e-05), array(0.9983510500045976)]\n",
      "[array(5.039330419537289e-05), array(0.998420711033635)]\n",
      "[array(4.434080065031516e-05), array(0.9984845287456163)]\n",
      "[array(3.91200138565793e-05), array(0.9985430462536483)]\n",
      "[array(3.460170827393427e-05), array(0.9985967473597466)]\n",
      "[array(3.0678637034589216e-05), array(0.9986460637939814)]\n",
      "[array(2.7261510640880473e-05), array(0.998691381493439)]\n",
      "[array(2.4275753755752784e-05), array(0.9987330460587867)]\n",
      "[array(2.1658887273083122e-05), array(0.9987713675051567)]\n",
      "[array(1.9358408180338786e-05), array(0.9988066244064091)]\n",
      "[array(1.7330067043777687e-05), array(0.9988390675170011)]\n",
      "[array(1.553646414448242e-05), array(0.9988689229432168)]\n",
      "[array(1.3945901799203513e-05), array(0.9988963949249908)]\n",
      "[array(1.2531443295047037e-05), array(0.9989216682806775)]\n",
      "[array(1.1270138974185542e-05), array(0.9989449105595988)]\n",
      "[array(1.0142387952451779e-05), array(0.99896627394083)]\n",
      "[array(9.131410224887474e-06), array(0.9989858969112727)]\n",
      "[array(8.222808872103527e-06), array(0.9990039057514516)]\n",
      "[array(7.404206018318218e-06), array(0.9990204158535511)]\n",
      "[array(6.664939326052201e-06), array(0.9990355328928481)]\n",
      "[array(5.995808314507e-06), array(0.9990493538708298)]\n",
      "[array(5.3888617918788324e-06), array(0.999061968045822)]\n",
      "[array(4.837219300065955e-06), array(0.9990734577648404)]\n",
      "[array(4.334920764881941e-06), array(0.9990838992085577)]\n",
      "[array(3.87679958992436e-06), array(0.999093363059709)]\n",
      "[array(3.4583752777509673e-06), array(0.9991019151039013)]\n",
      "[array(3.0757623480723163e-06), array(0.9991096167706207)]\n",
      "[array(2.7255928804720902e-06), array(0.9991165256212068)]\n",
      "[array(2.404950463895219e-06), array(0.9991226957896823)]\n",
      "[array(2.1113137066644228e-06), array(0.9991281783815487)]\n",
      "[array(1.8425077650433298e-06), array(0.9991330218349845)]\n",
      "[array(1.5966625981266187e-06), array(0.9991372722482923)]\n",
      "[array(1.3721768623410024e-06), array(0.9991409736769179)]\n",
      "[array(1.167686528435955e-06), array(0.9991441684029129)]\n",
      "[array(9.820374441320295e-07), array(0.9991468971793039)]\n",
      "[array(8.142611821546592e-07), array(0.999149199451481)]\n",
      "[array(6.635536105203231e-07), array(0.9991511135573982)]\n",
      "[array(5.292557034341287e-07), array(0.9991526769081062)]\n",
      "[array(4.108361798942738e-07), array(0.9991539261498854)]\n",
      "[array(3.0787561562350127e-07), array(0.9991548973090338)]\n",
      "[array(2.2005172428699045e-07), array(0.9991556259201693)]\n",
      "[array(1.471255478226703e-07), array(0.999156147138737)]\n",
      "[array(8.892833453786954e-08), array(0.9991564958382665)]\n",
      "[array(4.5348918604177496e-08), array(0.9991567066927911)]\n",
      "[array(1.6321446691376374e-08), array(0.9991568142447382)]\n",
      "[array(1.8133275522607165e-09), array(0.9991568529585011)]\n",
      "[array(1.813309050853304e-09), array(0.9991568572598328)]\n",
      "[array(1.6319614946718785e-08), array(0.9991568615611426)]\n",
      "[array(4.532810109412572e-08), array(0.999156900272733)]\n",
      "[array(8.882041785148303e-08), array(0.9991570077999913)]\n",
      "[array(1.467521925640042e-07), array(0.9991572185265386)]\n",
      "[array(2.1904127300075946e-07), array(0.9991575667833458)]\n",
      "[array(3.0555609949218763e-07), array(0.9991580868038499)]\n",
      "[array(4.061043000048126e-07), array(0.9991588126651403)]\n",
      "[array(5.204216281581916e-07), array(0.999159778215341)]\n",
      "[array(6.481613887887535e-07), array(0.9991610169873835)]\n",
      "[array(7.8888451851437e-07), array(0.9991625620994514)]\n",
      "[array(9.420505091964719e-07), array(0.9991644461424783)]\n",
      "[array(1.1070093794861482e-06), array(0.9991667010551946)]\n",
      "[array(1.2829949129460157e-06), array(0.999169357987347)]\n",
      "[array(1.4691193897338011e-06), array(0.9991724471518568)]\n",
      "[array(1.6643700416022023e-06), array(0.9991759976668313)]\n",
      "[array(1.867607456256227e-06), array(0.9991800373885035)]\n",
      "[array(2.0775661460205224e-06), array(0.9991845927363451)]\n",
      "[array(2.2928574767960987e-06), array(0.9991896885117658)]\n",
      "[array(2.5119751257608233e-06), array(0.9991953477119871)]\n",
      "[array(2.7333032000596632e-06), array(0.9992015913408518)]\n",
      "[array(2.9551271036826743e-06), array(0.9992084382184971)]\n",
      "[array(3.1756471861607783e-06), array(0.9992159047919794)]\n",
      "[array(3.3929951452981184e-06), array(0.999224004949087)]\n",
      "[array(3.6052530876964544e-06), array(0.9992327498377079)]\n",
      "[array(3.8104750770164137e-06), array(0.9992421476932312)]\n",
      "[array(4.006710922100261e-06), array(0.9992522036765488)]\n",
      "[array(4.1920318779252016e-06), array(0.9992629197252815)]\n",
      "[array(4.3645578538070115e-06), array(0.999274294420879)]\n",
      "[array(4.522485648633839e-06), array(0.9992863228742336)]\n",
      "[array(4.6641176647939406e-06), array(0.999298996632395)]\n",
      "[array(4.787890494116923e-06), array(0.9993123036088813)]\n",
      "[array(4.8924027237832715e-06), array(0.9993262280399412)]\n",
      "[array(4.976441280377841e-06), array(0.9993407504689344)]\n",
      "[array(5.039005619067418e-06), array(0.9993558477607667)]\n",
      "[array(5.079329074228421e-06), array(0.9993714931480281)]\n",
      "[array(5.09689671929085e-06), array(0.9993876563101585)]\n",
      "[array(5.091459138180773e-06), array(0.9994043034865852)]\n",
      "[array(5.063041588066411e-06), array(0.9994213976243668)]\n",
      "[array(5.011948132687247e-06), array(0.9994388985604199)]\n",
      "[array(4.938760444898934e-06), array(0.9994567632379243)]\n",
      "[array(4.844331113503053e-06), array(0.9994749459559938)]\n",
      "[array(4.7297714389372995e-06), array(0.9994933986511737)]\n",
      "[array(4.596433860072518e-06), array(0.9995120712087967)]\n",
      "[array(4.445889314866332e-06), array(0.9995309118016985)]\n",
      "[array(4.279899994807939e-06), array(0.9995498672532787)]\n",
      "[array(4.100388100836125e-06), array(0.9995688834214023)]\n",
      "[array(3.90940134055849e-06), array(0.9995879055991815)]\n",
      "[array(3.7090760171713166e-06), array(0.9996068789282673)]\n",
      "[array(3.5015986445754914e-06), array(0.999625748819931)]\n",
      "[array(3.1601927767289073e-06), array(0.9996444613789345)]\n",
      "[array(2.7380026616876223e-06), array(0.9996622383099878)]\n",
      "[array(2.380188314060211e-06), array(0.9996784509400323)]\n",
      "[array(2.0758177627813294e-06), array(0.9996932554511342)]\n",
      "[array(1.8159759430925288e-06), array(0.9997067899557925)]\n",
      "[array(1.5933660170267677e-06), array(0.9997191768161949)]\n",
      "[array(1.4019942937266935e-06), array(0.9997305246400849)]\n",
      "[array(1.236920294469767e-06), array(0.9997409300017787)]\n",
      "[array(1.0940577716632779e-06), array(0.9997504789291185)]\n",
      "[array(9.700157288758108e-07), array(0.9997592481907107)]\n",
      "[array(8.619709566877829e-07), array(0.9997673064124266)]\n",
      "[array(7.675654869168778e-07), array(0.9997747150476681)]\n",
      "[array(6.848238173408739e-07), array(0.9997815292221522)]\n",
      "[array(6.12085875906375e-07), array(0.9997877984708279)]\n",
      "[array(5.479525572140477e-07), array(0.9997935673819031)]\n",
      "[array(4.912413342963835e-07), array(0.999798876160741)]\n",
      "[array(4.4094997060469416e-07), array(0.9998037611245136)]\n",
      "[array(3.9622676483358816e-07), array(0.9998082551369208)]\n",
      "[array(3.5634608080067976e-07), array(0.9998123879909485)]\n",
      "[array(3.206881658776337e-07), array(0.9998161867465037)]\n",
      "[array(2.8872245970273303e-07), array(0.9998196760288028)]\n",
      "[array(2.5999375175921155e-07), array(0.9998228782925705)]\n",
      "[array(2.3411067087193047e-07), array(0.9998258140564081)]\n",
      "[array(2.1073608879634032e-07), array(0.9998285021110932)]\n",
      "[array(1.8957909915724946e-07), array(0.9998309597050629)]\n",
      "[array(1.7038829635644106e-07), array(0.9998332027098946)]\n",
      "[array(1.5294612990126774e-07), array(0.999835245768223)]\n",
      "[array(1.3706415055642841e-07), array(0.9998371024262068)]\n",
      "[array(1.2257899774674924e-07), array(0.9998387852523823)]\n",
      "[array(1.093490043903025e-07), array(0.9998403059444971)]\n",
      "[array(9.725131701757221e-08), array(0.9998416754257098)]\n",
      "[array(8.61794466811871e-08), array(0.9998429039313597)]\n",
      "[array(7.60411805295583e-08), array(0.9998440010873538)]\n",
      "[array(6.675679567344374e-08), array(0.9998449759810789)]\n",
      "[array(5.825752658616873e-08), array(0.9998458372256285)]\n",
      "[array(5.04842451817161e-08), array(0.999846593018028)]\n",
      "[array(4.338631920873377e-08), array(0.9998472511920503)]\n",
      "[array(3.6920619964461067e-08), array(0.9998478192661294)]\n",
      "[array(3.105065476282289e-08), array(0.9998483044868144)]\n",
      "[array(2.574580328370534e-08), array(0.999848713868135)]\n",
      "[array(2.0980639994975333e-08), array(0.9998490542272012)]\n",
      "[array(1.6734327419796247e-08), array(0.9998493322163042)]\n",
      "[array(1.2990067193681423e-08), array(0.9998495543517469)]\n",
      "[array(9.734597705768116e-09), array(0.9998497270395893)]\n",
      "[array(6.957728711509068e-09), array(0.9998498565984624)]\n",
      "[array(4.651904690135907e-09), array(0.9998499492795744)]\n",
      "[array(2.81178994841032e-09), array(0.9998500112840043)]\n",
      "[array(1.4338695778462497e-09), array(0.9998500487773575)]\n",
      "[array(5.16061387956813e-10), array(0.9998500679018375)]\n",
      "[array(5.733488894308431e-11), array(0.9998500747857723)]\n",
      "[array(5.733430395434833e-11), array(0.9998500755506188)]\n",
      "[array(5.160034707444812e-10), array(0.9998500763154614)]\n",
      "[array(1.4332113572051181e-09), array(0.9998500831990098)]\n",
      "[array(2.8083777732469213e-09), array(0.9998501023190998)]\n",
      "[array(4.640099717395074e-09), array(0.9998501397896965)]\n",
      "[array(6.92577965066194e-09), array(0.9998502017154033)]\n",
      "[array(9.66125783970185e-09), array(0.9998502941834801)]\n",
      "[array(1.2840451749044041e-08), array(0.9998504232533862)]\n",
      "[array(1.6455006276590777e-08), array(0.9998505949438667)]\n",
      "[array(2.0493959404620454e-08), array(0.9998508152176205)]\n",
      "[array(2.4943428561160285e-08), array(0.9998510899635977)]\n",
      "[array(2.978632363249066e-08), array(0.9998514249769946)]\n",
      "[array(3.50020931146448e-08), array(0.9998518259370353)]\n",
      "[array(4.056651031213975e-08), array(0.9998522983826498)]\n",
      "[array(4.6451506761295484e-08), array(0.9998528476861853)]\n",
      "[array(5.262506014225104e-08), array(0.9998534790253135)]\n",
      "[array(5.905114382686234e-08), array(0.9998541973533243)]\n",
      "[array(6.568974485911334e-08), array(0.999855007368028)]\n",
      "[array(7.249695656495306e-08), array(0.9998559134795175)]\n",
      "[array(7.942515111706833e-08), array(0.9998569197770716)]\n",
      "[array(8.642323623640208e-08), array(0.999858029995514)]\n",
      "[array(9.34369987873928e-08), array(0.9998592474813702)]\n",
      "[array(1.0040953633203357e-07), array(0.9998605751591937)]\n",
      "[array(1.0728177575921804e-07), array(0.9998620154984582)]\n",
      "[array(1.1399307595396763e-07), array(0.999863570481439)]\n",
      "[array(1.2048190912228341e-07), array(0.9998652415725219)]\n",
      "[array(1.266866129391391e-07), array(0.999867029689397)]\n",
      "[array(1.325462031758606e-07), array(0.9998689351766049)]\n",
      "[array(1.3800123398609553e-07), array(0.9998709577819043)]\n",
      "[array(1.429946906653703e-07), array(0.9998730966359324)]\n",
      "[array(1.4747289754372335e-07), array(0.9998753502356177)]\n",
      "[array(1.5138642183475795e-07), array(0.9998777164317878)]\n",
      "[array(1.546909528189133e-07), array(0.9998801924213921)]\n",
      "[array(1.573481348065258e-07), array(0.9998827747447245)]\n",
      "[array(1.5932633196461644e-07), array(0.9998854592879902)]\n",
      "[array(1.606013033949572e-07), array(0.9998882412915097)]\n",
      "[array(1.6115676783801545e-07), array(0.9998911153637956)]\n",
      "[array(1.6098483910475363e-07), array(0.999894075501671)]\n",
      "[array(1.6008631579196855e-07), array(0.999897115116522)]\n",
      "[array(1.5847081197060539e-07), array(0.9999002270667013)]\n",
      "[array(1.5615671932579587e-07), array(0.9999034036960082)]\n",
      "[array(1.531709955263908e-07), array(0.9999066368780839)]\n",
      "[array(1.4954877834317455e-07), array(0.9999099180664671)]\n",
      "[array(1.4533283000708155e-07), array(0.9999132383499575)]\n",
      "[array(1.4057282138687582e-07), array(0.9999165885128448)]\n",
      "[array(1.3532447051969562e-07), array(0.9999199590994674)]\n",
      "[array(1.2964855471985357e-07), array(0.9999233404824758)]\n",
      "[array(1.236098196455187e-07), array(0.9999267229340985)]\n",
      "[array(1.172758122266703e-07), array(0.9999300966996314)]\n",
      "[array(1.1071566698359969e-07), array(0.9999334520723137)]\n"
     ]
    }
   ],
   "source": [
    "w = theano.shared(floatX(np.array(-1.)))\n",
    "\n",
    "idx = np.arange(x_data.shape[0])\n",
    "\n",
    "# training\n",
    "cost_list = []\n",
    "for t in range(3):    \n",
    "    for i in idx:\n",
    "        cost_result = train(x_data[i], y_data[i])\n",
    "        print cost_result\n",
    "        cost_list.append(cost_result[0])"
   ]
  },
  {
   "cell_type": "markdown",
   "metadata": {},
   "source": [
    "### 結果好平滑，為什麼?"
   ]
  },
  {
   "cell_type": "code",
   "execution_count": 49,
   "metadata": {
    "collapsed": false
   },
   "outputs": [
    {
     "data": {
      "image/png": "[encoded data removed]",
      "text/plain": [
       "<matplotlib.figure.Figure at 0xaf170b8>"
      ]
     },
     "metadata": {},
     "output_type": "display_data"
    }
   ],
   "source": [
    "plt.plot(cost_list)\n",
    "plt.xlabel(\"No. of parameters updates\")\n",
    "plt.ylabel(\"Loss/Cost/Error\")\n",
    "plt.show()"
   ]
  },
  {
   "cell_type": "markdown",
   "metadata": {},
   "source": [
    "### 因為我們cost function是長這樣(convex)，我們是從最左邊慢慢往下走，而不是shuffle亂走，結果就會很平滑"
   ]
  },
  {
   "cell_type": "code",
   "execution_count": 50,
   "metadata": {
    "collapsed": false
   },
   "outputs": [
    {
     "data": {
      "image/png": "[encoded data removed]",
      "text/plain": [
       "<matplotlib.figure.Figure at 0xb183b38>"
      ]
     },
     "metadata": {},
     "output_type": "display_data"
    }
   ],
   "source": [
    "cost_f_list = []\n",
    "cost_f = theano.function([x, y_hat], cost)\n",
    "for i in range(x_data.shape[0]):\n",
    "    cost_f_list.append(cost_f(x_data[i], y_data[i]))\n",
    "    \n",
    "plt.plot(cost_f_list)\n",
    "plt.ylabel(\"Loss/Cost/Error\")\n",
    "plt.show()"
   ]
  },
  {
   "cell_type": "code",
   "execution_count": null,
   "metadata": {
    "collapsed": true
   },
   "outputs": [],
   "source": []
  }
 ],
 "metadata": {
  "anaconda-cloud": {},
  "kernelspec": {
   "display_name": "Python [conda root]",
   "language": "python",
   "name": "conda-root-py"
  },
  "language_info": {
   "codemirror_mode": {
    "name": "ipython",
    "version": 2
   },
   "file_extension": ".py",
   "mimetype": "text/x-python",
   "name": "python",
   "nbconvert_exporter": "python",
   "pygments_lexer": "ipython2",
   "version": "2.7.12"
  }
 },
 "nbformat": 4,
 "nbformat_minor": 1
}
